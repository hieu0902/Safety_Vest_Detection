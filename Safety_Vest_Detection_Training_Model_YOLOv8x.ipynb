{
  "cells": [
    {
      "cell_type": "markdown",
      "metadata": {
        "id": "view-in-github",
        "colab_type": "text"
      },
      "source": [
        "<a href=\"https://colab.research.google.com/github/hieu0902/Safety_Vest_Detection/blob/main/Safety_Vest_Detection_Training_Model_YOLOv8x.ipynb\" target=\"_parent\"><img src=\"https://colab.research.google.com/assets/colab-badge.svg\" alt=\"Open In Colab\"/></a>"
      ]
    },
    {
      "cell_type": "markdown",
      "metadata": {
        "id": "QZuzBAFzmTa6"
      },
      "source": [
        "# **I. Setup thư viện**\n",
        "\n",
        "\n"
      ]
    },
    {
      "cell_type": "markdown",
      "metadata": {
        "id": "zZW31_U3ad9K"
      },
      "source": [
        "Dùng khi gặp lỗi UTF-8"
      ]
    },
    {
      "cell_type": "code",
      "execution_count": null,
      "metadata": {
        "id": "h4aS3bLwpFJ6"
      },
      "outputs": [],
      "source": [
        "import locale\n",
        "def getpreferredencoding(do_setlocale = True):\n",
        "    return \"UTF-8\"\n",
        "locale.getpreferredencoding = getpreferredencoding"
      ]
    },
    {
      "cell_type": "markdown",
      "metadata": {
        "id": "9OALMxdWamUl"
      },
      "source": [
        "Download thư viện ultralytics"
      ]
    },
    {
      "cell_type": "code",
      "execution_count": null,
      "metadata": {
        "id": "auNzRpHwMkVm",
        "colab": {
          "base_uri": "https://localhost:8080/"
        },
        "outputId": "0a4c7409-056e-406e-df18-be158d8f9e5e"
      },
      "outputs": [
        {
          "output_type": "stream",
          "name": "stdout",
          "text": [
            "\u001b[31mERROR: Operation cancelled by user\u001b[0m\u001b[31m\n",
            "\u001b[0m"
          ]
        }
      ],
      "source": [
        "!pip install ultralytics"
      ]
    },
    {
      "cell_type": "markdown",
      "metadata": {
        "id": "IgrNmgi6qGqd"
      },
      "source": [
        "# **II. Kết nối với Google Drive**"
      ]
    },
    {
      "cell_type": "code",
      "execution_count": null,
      "metadata": {
        "id": "I7ERFb3Sp5-q",
        "colab": {
          "base_uri": "https://localhost:8080/"
        },
        "outputId": "f7bbaee9-6f19-4346-c3a2-ea2a7f981ace"
      },
      "outputs": [
        {
          "output_type": "stream",
          "name": "stdout",
          "text": [
            "Mounted at /content/drive\n"
          ]
        }
      ],
      "source": [
        "from google.colab import drive\n",
        "drive.mount('/content/drive')"
      ]
    },
    {
      "cell_type": "markdown",
      "metadata": {
        "id": "t95coOqj24Ln"
      },
      "source": [
        "# **III. Training model**"
      ]
    },
    {
      "cell_type": "markdown",
      "metadata": {
        "id": "9JZl7X543G-g"
      },
      "source": [
        "**1. Giải nén file zip**"
      ]
    },
    {
      "cell_type": "code",
      "execution_count": null,
      "metadata": {
        "id": "UznF_VIirj_R"
      },
      "outputs": [],
      "source": [
        "%cd /content/drive/MyDrive/Dataset\n",
        "!unzip /content/drive/MyDrive/Dataset/Safety_vest_Detection.v1i.yolov8.zip"
      ]
    },
    {
      "cell_type": "code",
      "execution_count": null,
      "metadata": {
        "colab": {
          "base_uri": "https://localhost:8080/",
          "height": 341
        },
        "id": "WWrX1bpnBo7E",
        "outputId": "af1dfabf-b4e5-43ec-e627-57b2a6ac87dd"
      },
      "outputs": [
        {
          "output_type": "stream",
          "name": "stdout",
          "text": [
            "\u001b[31mERROR: pip's dependency resolver does not currently take into account all the packages that are installed. This behaviour is the source of the following dependency conflicts.\n",
            "lida 0.0.10 requires fastapi, which is not installed.\n",
            "lida 0.0.10 requires kaleido, which is not installed.\n",
            "lida 0.0.10 requires python-multipart, which is not installed.\n",
            "lida 0.0.10 requires uvicorn, which is not installed.\u001b[0m\u001b[31m\n",
            "\u001b[0mSuccessfully installed certifi-2023.7.22 chardet-4.0.0 cycler-0.10.0 idna-2.10 opencv-python-headless-4.8.0.74 pyparsing-2.4.7 python-dotenv-1.0.0 python-magic-0.4.27 requests-toolbelt-1.0.0 roboflow-1.1.14 supervision-0.17.1\n"
          ]
        },
        {
          "output_type": "display_data",
          "data": {
            "application/vnd.colab-display-data+json": {
              "pip_warning": {
                "packages": [
                  "certifi",
                  "cycler",
                  "pyparsing"
                ]
              }
            }
          },
          "metadata": {}
        },
        {
          "output_type": "stream",
          "name": "stdout",
          "text": [
            "loading Roboflow workspace...\n",
            "loading Roboflow project...\n",
            "Dependency ultralytics==8.0.196 is required but found version=8.0.231, to fix: `pip install ultralytics==8.0.196`\n"
          ]
        },
        {
          "output_type": "stream",
          "name": "stderr",
          "text": [
            "Downloading Dataset Version Zip in Safety-vest-Detection-1 to yolov8:: 100%|██████████| 255713/255713 [00:27<00:00, 9233.45it/s]"
          ]
        },
        {
          "output_type": "stream",
          "name": "stdout",
          "text": [
            "\n"
          ]
        },
        {
          "output_type": "stream",
          "name": "stderr",
          "text": [
            "\n",
            "Extracting Dataset Version Zip to Safety-vest-Detection-1 in yolov8:: 100%|██████████| 5012/5012 [00:35<00:00, 142.58it/s]\n"
          ]
        }
      ],
      "source": [
        "!pip install roboflow\n",
        "\n",
        "from roboflow import Roboflow\n",
        "rf = Roboflow(api_key=\"Eb6f2KeRexcD4ywuU5Hs\")\n",
        "project = rf.workspace(\"ai-project-bdxdz\").project(\"safety-vest-detection-eyru5\")\n",
        "dataset = project.version(1).download(\"yolov8\")\n"
      ]
    },
    {
      "cell_type": "markdown",
      "metadata": {
        "id": "VTQ-Jrl95TaN"
      },
      "source": [
        "**2. Tạo Training yaml file**"
      ]
    },
    {
      "cell_type": "code",
      "execution_count": null,
      "metadata": {
        "id": "WuxmX4fU5bus",
        "colab": {
          "base_uri": "https://localhost:8080/"
        },
        "outputId": "0ce86599-6638-4dd0-cba9-a7fd39a60fbb"
      },
      "outputs": [
        {
          "output_type": "stream",
          "name": "stdout",
          "text": [
            "[Errno 2] No such file or directory: '/content/drive/MyDrive'\n",
            "/content\n",
            "/bin/bash: line 1: Dataset/mydataset.yaml: No such file or directory\n",
            "/bin/bash: line 1: Dataset/mydataset.yaml: No such file or directory\n",
            "/bin/bash: line 1: Dataset/mydataset.yaml: No such file or directory\n",
            "/bin/bash: line 1: Dataset/mydataset.yaml: No such file or directory\n",
            "/bin/bash: line 1: Dataset/mydataset.yaml: No such file or directory\n"
          ]
        }
      ],
      "source": [
        "%cd /content/drive/MyDrive\n",
        "!echo 'train: /content/drive/MyDrive/Safety-vest-Detection-1/train/images' >> Dataset/mydataset.yaml\n",
        "!echo 'val: /content/drive/MyDrive/Safety-vest-Detection-1/valid/images' >> Dataset/mydataset.yaml\n",
        "!echo 'test: /content/drive/MyDrive/Safety-vest-Detection-1/test/images' >> Dataset/mydataset.yaml\n",
        "!echo 'nc: 2' >> Dataset/mydataset.yaml\n",
        "!echo \"names: ['0','1']\" >> Dataset/mydataset.yaml"
      ]
    },
    {
      "cell_type": "markdown",
      "metadata": {
        "id": "4oypIOHc75-i"
      },
      "source": [
        "**3. Train với Python API**"
      ]
    },
    {
      "cell_type": "code",
      "execution_count": null,
      "metadata": {
        "colab": {
          "base_uri": "https://localhost:8080/",
          "height": 1000
        },
        "id": "SY5E006d_bno",
        "outputId": "6281b0ef-bdf0-43ec-94b4-99aa0af1a73d"
      },
      "outputs": [
        {
          "name": "stdout",
          "output_type": "stream",
          "text": [
            "Downloading https://github.com/ultralytics/assets/releases/download/v0.0.0/yolov8s.pt to 'yolov8s.pt'...\n"
          ]
        },
        {
          "name": "stderr",
          "output_type": "stream",
          "text": [
            "100%|██████████| 21.5M/21.5M [00:00<00:00, 164MB/s]\n"
          ]
        },
        {
          "name": "stdout",
          "output_type": "stream",
          "text": [
            "Ultralytics YOLOv8.0.228 🚀 Python-3.10.12 torch-2.1.0+cu121 CUDA:0 (Tesla T4, 15102MiB)\n",
            "\u001b[34m\u001b[1mengine/trainer: \u001b[0mtask=detect, mode=train, model=yolov8s.pt, data=/content/drive/MyDrive/Dataset/mydataset.yaml, epochs=100, time=None, patience=50, batch=16, imgsz=640, save=True, save_period=-1, cache=False, device=None, workers=8, project=None, name=train, exist_ok=False, pretrained=True, optimizer=auto, verbose=True, seed=0, deterministic=True, single_cls=False, rect=False, cos_lr=False, close_mosaic=10, resume=False, amp=True, fraction=1.0, profile=False, freeze=None, overlap_mask=True, mask_ratio=4, dropout=0.0, val=True, split=val, save_json=False, save_hybrid=False, conf=None, iou=0.7, max_det=300, half=False, dnn=False, plots=True, source=None, vid_stride=1, stream_buffer=False, visualize=False, augment=False, agnostic_nms=False, classes=None, retina_masks=False, show=False, save_frames=False, save_txt=False, save_conf=False, save_crop=False, show_labels=True, show_conf=True, show_boxes=True, line_width=None, format=torchscript, keras=False, optimize=False, int8=False, dynamic=False, simplify=False, opset=None, workspace=4, nms=False, lr0=0.01, lrf=0.01, momentum=0.937, weight_decay=0.0005, warmup_epochs=3.0, warmup_momentum=0.8, warmup_bias_lr=0.1, box=7.5, cls=0.5, dfl=1.5, pose=12.0, kobj=1.0, label_smoothing=0.0, nbs=64, hsv_h=0.015, hsv_s=0.7, hsv_v=0.4, degrees=0.0, translate=0.1, scale=0.5, shear=0.0, perspective=0.0, flipud=0.0, fliplr=0.5, mosaic=1.0, mixup=0.0, copy_paste=0.0, cfg=None, tracker=botsort.yaml, save_dir=runs/detect/train\n",
            "Downloading https://ultralytics.com/assets/Arial.ttf to '/root/.config/Ultralytics/Arial.ttf'...\n"
          ]
        },
        {
          "name": "stderr",
          "output_type": "stream",
          "text": [
            "100%|██████████| 755k/755k [00:00<00:00, 15.7MB/s]\n"
          ]
        },
        {
          "name": "stdout",
          "output_type": "stream",
          "text": [
            "Overriding model.yaml nc=80 with nc=2\n",
            "\n",
            "                   from  n    params  module                                       arguments                     \n",
            "  0                  -1  1       928  ultralytics.nn.modules.conv.Conv             [3, 32, 3, 2]                 \n",
            "  1                  -1  1     18560  ultralytics.nn.modules.conv.Conv             [32, 64, 3, 2]                \n",
            "  2                  -1  1     29056  ultralytics.nn.modules.block.C2f             [64, 64, 1, True]             \n",
            "  3                  -1  1     73984  ultralytics.nn.modules.conv.Conv             [64, 128, 3, 2]               \n",
            "  4                  -1  2    197632  ultralytics.nn.modules.block.C2f             [128, 128, 2, True]           \n",
            "  5                  -1  1    295424  ultralytics.nn.modules.conv.Conv             [128, 256, 3, 2]              \n",
            "  6                  -1  2    788480  ultralytics.nn.modules.block.C2f             [256, 256, 2, True]           \n",
            "  7                  -1  1   1180672  ultralytics.nn.modules.conv.Conv             [256, 512, 3, 2]              \n",
            "  8                  -1  1   1838080  ultralytics.nn.modules.block.C2f             [512, 512, 1, True]           \n",
            "  9                  -1  1    656896  ultralytics.nn.modules.block.SPPF            [512, 512, 5]                 \n",
            " 10                  -1  1         0  torch.nn.modules.upsampling.Upsample         [None, 2, 'nearest']          \n",
            " 11             [-1, 6]  1         0  ultralytics.nn.modules.conv.Concat           [1]                           \n",
            " 12                  -1  1    591360  ultralytics.nn.modules.block.C2f             [768, 256, 1]                 \n",
            " 13                  -1  1         0  torch.nn.modules.upsampling.Upsample         [None, 2, 'nearest']          \n",
            " 14             [-1, 4]  1         0  ultralytics.nn.modules.conv.Concat           [1]                           \n",
            " 15                  -1  1    148224  ultralytics.nn.modules.block.C2f             [384, 128, 1]                 \n",
            " 16                  -1  1    147712  ultralytics.nn.modules.conv.Conv             [128, 128, 3, 2]              \n",
            " 17            [-1, 12]  1         0  ultralytics.nn.modules.conv.Concat           [1]                           \n",
            " 18                  -1  1    493056  ultralytics.nn.modules.block.C2f             [384, 256, 1]                 \n",
            " 19                  -1  1    590336  ultralytics.nn.modules.conv.Conv             [256, 256, 3, 2]              \n",
            " 20             [-1, 9]  1         0  ultralytics.nn.modules.conv.Concat           [1]                           \n",
            " 21                  -1  1   1969152  ultralytics.nn.modules.block.C2f             [768, 512, 1]                 \n",
            " 22        [15, 18, 21]  1   2116822  ultralytics.nn.modules.head.Detect           [2, [128, 256, 512]]          \n",
            "Model summary: 225 layers, 11136374 parameters, 11136358 gradients, 28.6 GFLOPs\n",
            "\n",
            "Transferred 349/355 items from pretrained weights\n",
            "\u001b[34m\u001b[1mTensorBoard: \u001b[0mStart with 'tensorboard --logdir runs/detect/train', view at http://localhost:6006/\n",
            "Freezing layer 'model.22.dfl.conv.weight'\n",
            "\u001b[34m\u001b[1mAMP: \u001b[0mrunning Automatic Mixed Precision (AMP) checks with YOLOv8n...\n",
            "Downloading https://github.com/ultralytics/assets/releases/download/v0.0.0/yolov8n.pt to 'yolov8n.pt'...\n"
          ]
        },
        {
          "name": "stderr",
          "output_type": "stream",
          "text": [
            "100%|██████████| 6.23M/6.23M [00:00<00:00, 80.1MB/s]\n"
          ]
        },
        {
          "name": "stdout",
          "output_type": "stream",
          "text": [
            "\u001b[34m\u001b[1mAMP: \u001b[0mchecks passed ✅\n"
          ]
        },
        {
          "name": "stderr",
          "output_type": "stream",
          "text": [
            "\u001b[34m\u001b[1mtrain: \u001b[0mScanning /content/Safety-vest-Detection-8/train/labels... 7827 images, 0 backgrounds, 0 corrupt: 100%|██████████| 7827/7827 [00:03<00:00, 2173.16it/s]\n"
          ]
        },
        {
          "name": "stdout",
          "output_type": "stream",
          "text": [
            "\u001b[34m\u001b[1mtrain: \u001b[0mNew cache created: /content/Safety-vest-Detection-8/train/labels.cache\n",
            "\u001b[34m\u001b[1malbumentations: \u001b[0mBlur(p=0.01, blur_limit=(3, 7)), MedianBlur(p=0.01, blur_limit=(3, 7)), ToGray(p=0.01), CLAHE(p=0.01, clip_limit=(1, 4.0), tile_grid_size=(8, 8))\n"
          ]
        },
        {
          "name": "stderr",
          "output_type": "stream",
          "text": [
            "\u001b[34m\u001b[1mval: \u001b[0mScanning /content/Safety-vest-Detection-8/valid/labels... 995 images, 0 backgrounds, 0 corrupt: 100%|██████████| 995/995 [00:01<00:00, 726.76it/s]\n"
          ]
        },
        {
          "name": "stdout",
          "output_type": "stream",
          "text": [
            "\u001b[34m\u001b[1mval: \u001b[0mNew cache created: /content/Safety-vest-Detection-8/valid/labels.cache\n",
            "Plotting labels to runs/detect/train/labels.jpg... \n",
            "\u001b[34m\u001b[1moptimizer:\u001b[0m 'optimizer=auto' found, ignoring 'lr0=0.01' and 'momentum=0.937' and determining best 'optimizer', 'lr0' and 'momentum' automatically... \n",
            "\u001b[34m\u001b[1moptimizer:\u001b[0m SGD(lr=0.01, momentum=0.9) with parameter groups 57 weight(decay=0.0), 64 weight(decay=0.0005), 63 bias(decay=0.0)\n",
            "100 epochs...\n",
            "\n",
            "      Epoch    GPU_mem   box_loss   cls_loss   dfl_loss  Instances       Size\n"
          ]
        },
        {
          "name": "stderr",
          "output_type": "stream",
          "text": [
            "      1/100       4.1G      1.595      1.724      1.813         23        640: 100%|██████████| 490/490 [03:39<00:00,  2.24it/s]\n",
            "                 Class     Images  Instances      Box(P          R      mAP50  mAP50-95): 100%|██████████| 32/32 [00:15<00:00,  2.11it/s]"
          ]
        },
        {
          "name": "stdout",
          "output_type": "stream",
          "text": [
            "                   all        995       4415      0.809       0.75      0.815      0.405\n"
          ]
        },
        {
          "name": "stderr",
          "output_type": "stream",
          "text": [
            "\n"
          ]
        },
        {
          "name": "stdout",
          "output_type": "stream",
          "text": [
            "\n",
            "      Epoch    GPU_mem   box_loss   cls_loss   dfl_loss  Instances       Size\n"
          ]
        },
        {
          "name": "stderr",
          "output_type": "stream",
          "text": [
            "      2/100      4.14G      1.429       1.27       1.65         38        640: 100%|██████████| 490/490 [03:29<00:00,  2.34it/s]\n",
            "                 Class     Images  Instances      Box(P          R      mAP50  mAP50-95): 100%|██████████| 32/32 [00:13<00:00,  2.33it/s]\n"
          ]
        },
        {
          "name": "stdout",
          "output_type": "stream",
          "text": [
            "                   all        995       4415      0.786      0.719      0.787      0.412\n",
            "\n",
            "      Epoch    GPU_mem   box_loss   cls_loss   dfl_loss  Instances       Size\n"
          ]
        },
        {
          "name": "stderr",
          "output_type": "stream",
          "text": [
            "      3/100      4.14G      1.462       1.32      1.686         21        640: 100%|██████████| 490/490 [03:25<00:00,  2.38it/s]\n",
            "                 Class     Images  Instances      Box(P          R      mAP50  mAP50-95): 100%|██████████| 32/32 [00:12<00:00,  2.50it/s]\n"
          ]
        },
        {
          "name": "stdout",
          "output_type": "stream",
          "text": [
            "                   all        995       4415      0.722      0.652      0.698      0.313\n",
            "\n",
            "      Epoch    GPU_mem   box_loss   cls_loss   dfl_loss  Instances       Size\n"
          ]
        },
        {
          "name": "stderr",
          "output_type": "stream",
          "text": [
            "      4/100       4.2G      1.509      1.414      1.737         26        640: 100%|██████████| 490/490 [03:16<00:00,  2.49it/s]\n",
            "                 Class     Images  Instances      Box(P          R      mAP50  mAP50-95): 100%|██████████| 32/32 [00:12<00:00,  2.60it/s]\n"
          ]
        },
        {
          "name": "stdout",
          "output_type": "stream",
          "text": [
            "                   all        995       4415      0.727      0.641      0.715      0.364\n",
            "\n",
            "      Epoch    GPU_mem   box_loss   cls_loss   dfl_loss  Instances       Size\n"
          ]
        },
        {
          "name": "stderr",
          "output_type": "stream",
          "text": [
            "      5/100      4.12G      1.476      1.364       1.72         41        640: 100%|██████████| 490/490 [03:18<00:00,  2.47it/s]\n",
            "                 Class     Images  Instances      Box(P          R      mAP50  mAP50-95): 100%|██████████| 32/32 [00:15<00:00,  2.01it/s]\n"
          ]
        },
        {
          "name": "stdout",
          "output_type": "stream",
          "text": [
            "                   all        995       4415      0.753      0.682      0.752      0.392\n",
            "\n",
            "      Epoch    GPU_mem   box_loss   cls_loss   dfl_loss  Instances       Size\n"
          ]
        },
        {
          "name": "stderr",
          "output_type": "stream",
          "text": [
            "      6/100      4.19G      1.449      1.307      1.695         25        640: 100%|██████████| 490/490 [03:17<00:00,  2.48it/s]\n",
            "                 Class     Images  Instances      Box(P          R      mAP50  mAP50-95): 100%|██████████| 32/32 [00:13<00:00,  2.31it/s]\n"
          ]
        },
        {
          "name": "stdout",
          "output_type": "stream",
          "text": [
            "                   all        995       4415      0.792      0.686      0.767      0.397\n",
            "\n",
            "      Epoch    GPU_mem   box_loss   cls_loss   dfl_loss  Instances       Size\n"
          ]
        },
        {
          "name": "stderr",
          "output_type": "stream",
          "text": [
            "      7/100      4.16G      1.417      1.255      1.671         36        640: 100%|██████████| 490/490 [03:17<00:00,  2.48it/s]\n",
            "                 Class     Images  Instances      Box(P          R      mAP50  mAP50-95): 100%|██████████| 32/32 [00:13<00:00,  2.34it/s]\n"
          ]
        },
        {
          "name": "stdout",
          "output_type": "stream",
          "text": [
            "                   all        995       4415       0.76      0.679      0.739      0.358\n",
            "\n",
            "      Epoch    GPU_mem   box_loss   cls_loss   dfl_loss  Instances       Size\n"
          ]
        },
        {
          "name": "stderr",
          "output_type": "stream",
          "text": [
            "      8/100      4.15G      1.394       1.22      1.656         17        640: 100%|██████████| 490/490 [03:20<00:00,  2.44it/s]\n",
            "                 Class     Images  Instances      Box(P          R      mAP50  mAP50-95): 100%|██████████| 32/32 [00:12<00:00,  2.50it/s]\n"
          ]
        },
        {
          "name": "stdout",
          "output_type": "stream",
          "text": [
            "                   all        995       4415      0.809      0.741       0.81       0.43\n",
            "\n",
            "      Epoch    GPU_mem   box_loss   cls_loss   dfl_loss  Instances       Size\n"
          ]
        },
        {
          "name": "stderr",
          "output_type": "stream",
          "text": [
            "      9/100      4.32G      1.373      1.179      1.643         16        640: 100%|██████████| 490/490 [03:15<00:00,  2.51it/s]\n",
            "                 Class     Images  Instances      Box(P          R      mAP50  mAP50-95): 100%|██████████| 32/32 [00:12<00:00,  2.54it/s]"
          ]
        },
        {
          "name": "stdout",
          "output_type": "stream",
          "text": [
            "                   all        995       4415      0.816      0.739      0.808      0.421\n"
          ]
        },
        {
          "name": "stderr",
          "output_type": "stream",
          "text": [
            "\n"
          ]
        },
        {
          "name": "stdout",
          "output_type": "stream",
          "text": [
            "\n",
            "      Epoch    GPU_mem   box_loss   cls_loss   dfl_loss  Instances       Size\n"
          ]
        },
        {
          "name": "stderr",
          "output_type": "stream",
          "text": [
            "     10/100      4.13G      1.361      1.152      1.627         11        640: 100%|██████████| 490/490 [03:15<00:00,  2.50it/s]\n",
            "                 Class     Images  Instances      Box(P          R      mAP50  mAP50-95): 100%|██████████| 32/32 [00:13<00:00,  2.34it/s]"
          ]
        },
        {
          "name": "stdout",
          "output_type": "stream",
          "text": [
            "                   all        995       4415      0.837      0.756       0.83      0.462\n"
          ]
        },
        {
          "name": "stderr",
          "output_type": "stream",
          "text": [
            "\n"
          ]
        },
        {
          "name": "stdout",
          "output_type": "stream",
          "text": [
            "\n",
            "      Epoch    GPU_mem   box_loss   cls_loss   dfl_loss  Instances       Size\n"
          ]
        },
        {
          "name": "stderr",
          "output_type": "stream",
          "text": [
            "     11/100       4.2G      1.348      1.125      1.606         22        640: 100%|██████████| 490/490 [03:17<00:00,  2.48it/s]\n",
            "                 Class     Images  Instances      Box(P          R      mAP50  mAP50-95): 100%|██████████| 32/32 [00:13<00:00,  2.32it/s]\n"
          ]
        },
        {
          "name": "stdout",
          "output_type": "stream",
          "text": [
            "                   all        995       4415      0.822      0.758      0.832      0.449\n",
            "\n",
            "      Epoch    GPU_mem   box_loss   cls_loss   dfl_loss  Instances       Size\n"
          ]
        },
        {
          "name": "stderr",
          "output_type": "stream",
          "text": [
            "     12/100      4.17G      1.326      1.085       1.59         15        640: 100%|██████████| 490/490 [03:14<00:00,  2.52it/s]\n",
            "                 Class     Images  Instances      Box(P          R      mAP50  mAP50-95): 100%|██████████| 32/32 [00:13<00:00,  2.36it/s]\n"
          ]
        },
        {
          "name": "stdout",
          "output_type": "stream",
          "text": [
            "                   all        995       4415      0.842       0.76      0.838      0.469\n",
            "\n",
            "      Epoch    GPU_mem   box_loss   cls_loss   dfl_loss  Instances       Size\n"
          ]
        },
        {
          "name": "stderr",
          "output_type": "stream",
          "text": [
            "     13/100      4.18G      1.319      1.078      1.586         18        640: 100%|██████████| 490/490 [03:34<00:00,  2.28it/s]\n",
            "                 Class     Images  Instances      Box(P          R      mAP50  mAP50-95): 100%|██████████| 32/32 [00:14<00:00,  2.22it/s]\n"
          ]
        },
        {
          "name": "stdout",
          "output_type": "stream",
          "text": [
            "                   all        995       4415      0.852       0.78      0.848      0.472\n",
            "\n",
            "      Epoch    GPU_mem   box_loss   cls_loss   dfl_loss  Instances       Size\n"
          ]
        },
        {
          "name": "stderr",
          "output_type": "stream",
          "text": [
            "     14/100      4.18G      1.304      1.046      1.571         15        640: 100%|██████████| 490/490 [03:25<00:00,  2.38it/s]\n",
            "                 Class     Images  Instances      Box(P          R      mAP50  mAP50-95): 100%|██████████| 32/32 [00:13<00:00,  2.39it/s]\n"
          ]
        },
        {
          "name": "stdout",
          "output_type": "stream",
          "text": [
            "                   all        995       4415      0.851      0.748      0.838      0.461\n",
            "\n",
            "      Epoch    GPU_mem   box_loss   cls_loss   dfl_loss  Instances       Size\n"
          ]
        },
        {
          "name": "stderr",
          "output_type": "stream",
          "text": [
            "     15/100      4.32G      1.288      1.041      1.563         32        640: 100%|██████████| 490/490 [03:26<00:00,  2.37it/s]\n",
            "                 Class     Images  Instances      Box(P          R      mAP50  mAP50-95): 100%|██████████| 32/32 [00:13<00:00,  2.31it/s]"
          ]
        },
        {
          "name": "stdout",
          "output_type": "stream",
          "text": [
            "                   all        995       4415      0.863      0.778      0.856      0.481\n"
          ]
        },
        {
          "name": "stderr",
          "output_type": "stream",
          "text": [
            "\n"
          ]
        },
        {
          "name": "stdout",
          "output_type": "stream",
          "text": [
            "\n",
            "      Epoch    GPU_mem   box_loss   cls_loss   dfl_loss  Instances       Size\n"
          ]
        },
        {
          "name": "stderr",
          "output_type": "stream",
          "text": [
            "     16/100      4.13G      1.272      1.018      1.555         12        640: 100%|██████████| 490/490 [03:26<00:00,  2.38it/s]\n",
            "                 Class     Images  Instances      Box(P          R      mAP50  mAP50-95): 100%|██████████| 32/32 [00:13<00:00,  2.30it/s]\n"
          ]
        },
        {
          "name": "stdout",
          "output_type": "stream",
          "text": [
            "                   all        995       4415      0.866      0.774      0.857      0.483\n",
            "\n",
            "      Epoch    GPU_mem   box_loss   cls_loss   dfl_loss  Instances       Size\n"
          ]
        },
        {
          "name": "stderr",
          "output_type": "stream",
          "text": [
            "     17/100      4.13G      1.259      0.998      1.541         21        640: 100%|██████████| 490/490 [03:19<00:00,  2.46it/s]\n",
            "                 Class     Images  Instances      Box(P          R      mAP50  mAP50-95): 100%|██████████| 32/32 [00:13<00:00,  2.29it/s]\n"
          ]
        },
        {
          "name": "stdout",
          "output_type": "stream",
          "text": [
            "                   all        995       4415      0.859      0.788      0.859      0.487\n",
            "\n",
            "      Epoch    GPU_mem   box_loss   cls_loss   dfl_loss  Instances       Size\n"
          ]
        },
        {
          "name": "stderr",
          "output_type": "stream",
          "text": [
            "     18/100      4.12G      1.251     0.9864      1.535         19        640: 100%|██████████| 490/490 [03:21<00:00,  2.43it/s]\n",
            "                 Class     Images  Instances      Box(P          R      mAP50  mAP50-95): 100%|██████████| 32/32 [00:13<00:00,  2.29it/s]\n"
          ]
        },
        {
          "name": "stdout",
          "output_type": "stream",
          "text": [
            "                   all        995       4415      0.859      0.774      0.851      0.478\n",
            "\n",
            "      Epoch    GPU_mem   box_loss   cls_loss   dfl_loss  Instances       Size\n"
          ]
        },
        {
          "name": "stderr",
          "output_type": "stream",
          "text": [
            "     19/100       4.2G      1.251     0.9724      1.531         13        640: 100%|██████████| 490/490 [03:23<00:00,  2.41it/s]\n",
            "                 Class     Images  Instances      Box(P          R      mAP50  mAP50-95): 100%|██████████| 32/32 [00:13<00:00,  2.44it/s]"
          ]
        },
        {
          "name": "stdout",
          "output_type": "stream",
          "text": [
            "                   all        995       4415      0.866      0.793      0.868      0.499\n"
          ]
        },
        {
          "name": "stderr",
          "output_type": "stream",
          "text": [
            "\n"
          ]
        },
        {
          "ename": "FileNotFoundError",
          "evalue": "ignored",
          "output_type": "error",
          "traceback": [
            "\u001b[0;31m---------------------------------------------------------------------------\u001b[0m",
            "\u001b[0;31mFileNotFoundError\u001b[0m                         Traceback (most recent call last)",
            "\u001b[0;32m<ipython-input-5-b95a406be21e>\u001b[0m in \u001b[0;36m<cell line: 5>\u001b[0;34m()\u001b[0m\n\u001b[1;32m      3\u001b[0m \u001b[0mmodel\u001b[0m \u001b[0;34m=\u001b[0m \u001b[0mYOLO\u001b[0m\u001b[0;34m(\u001b[0m\u001b[0;34m\"yolov8s.pt\"\u001b[0m\u001b[0;34m)\u001b[0m \u001b[0;31m# Load pretrain và finetune vài layer cuối. Transfer Learning\u001b[0m\u001b[0;34m\u001b[0m\u001b[0;34m\u001b[0m\u001b[0m\n\u001b[1;32m      4\u001b[0m \u001b[0;34m\u001b[0m\u001b[0m\n\u001b[0;32m----> 5\u001b[0;31m \u001b[0mresults\u001b[0m \u001b[0;34m=\u001b[0m \u001b[0mmodel\u001b[0m\u001b[0;34m.\u001b[0m\u001b[0mtrain\u001b[0m\u001b[0;34m(\u001b[0m\u001b[0mdata\u001b[0m\u001b[0;34m=\u001b[0m\u001b[0;34m\"/content/drive/MyDrive/Dataset/mydataset.yaml\"\u001b[0m\u001b[0;34m,\u001b[0m\u001b[0mepochs\u001b[0m\u001b[0;34m=\u001b[0m\u001b[0;36m100\u001b[0m\u001b[0;34m,\u001b[0m \u001b[0mval\u001b[0m \u001b[0;34m=\u001b[0m \u001b[0;32mTrue\u001b[0m\u001b[0;34m)\u001b[0m\u001b[0;34m\u001b[0m\u001b[0;34m\u001b[0m\u001b[0m\n\u001b[0m",
            "\u001b[0;32m/usr/local/lib/python3.10/dist-packages/ultralytics/engine/model.py\u001b[0m in \u001b[0;36mtrain\u001b[0;34m(self, trainer, **kwargs)\u001b[0m\n\u001b[1;32m    336\u001b[0m             \u001b[0mself\u001b[0m\u001b[0;34m.\u001b[0m\u001b[0mmodel\u001b[0m \u001b[0;34m=\u001b[0m \u001b[0mself\u001b[0m\u001b[0;34m.\u001b[0m\u001b[0mtrainer\u001b[0m\u001b[0;34m.\u001b[0m\u001b[0mmodel\u001b[0m\u001b[0;34m\u001b[0m\u001b[0;34m\u001b[0m\u001b[0m\n\u001b[1;32m    337\u001b[0m         \u001b[0mself\u001b[0m\u001b[0;34m.\u001b[0m\u001b[0mtrainer\u001b[0m\u001b[0;34m.\u001b[0m\u001b[0mhub_session\u001b[0m \u001b[0;34m=\u001b[0m \u001b[0mself\u001b[0m\u001b[0;34m.\u001b[0m\u001b[0msession\u001b[0m  \u001b[0;31m# attach optional HUB session\u001b[0m\u001b[0;34m\u001b[0m\u001b[0;34m\u001b[0m\u001b[0m\n\u001b[0;32m--> 338\u001b[0;31m         \u001b[0mself\u001b[0m\u001b[0;34m.\u001b[0m\u001b[0mtrainer\u001b[0m\u001b[0;34m.\u001b[0m\u001b[0mtrain\u001b[0m\u001b[0;34m(\u001b[0m\u001b[0;34m)\u001b[0m\u001b[0;34m\u001b[0m\u001b[0;34m\u001b[0m\u001b[0m\n\u001b[0m\u001b[1;32m    339\u001b[0m         \u001b[0;31m# Update model and cfg after training\u001b[0m\u001b[0;34m\u001b[0m\u001b[0;34m\u001b[0m\u001b[0m\n\u001b[1;32m    340\u001b[0m         \u001b[0;32mif\u001b[0m \u001b[0mRANK\u001b[0m \u001b[0;32min\u001b[0m \u001b[0;34m(\u001b[0m\u001b[0;34m-\u001b[0m\u001b[0;36m1\u001b[0m\u001b[0;34m,\u001b[0m \u001b[0;36m0\u001b[0m\u001b[0;34m)\u001b[0m\u001b[0;34m:\u001b[0m\u001b[0;34m\u001b[0m\u001b[0;34m\u001b[0m\u001b[0m\n",
            "\u001b[0;32m/usr/local/lib/python3.10/dist-packages/ultralytics/engine/trainer.py\u001b[0m in \u001b[0;36mtrain\u001b[0;34m(self)\u001b[0m\n\u001b[1;32m    188\u001b[0m \u001b[0;34m\u001b[0m\u001b[0m\n\u001b[1;32m    189\u001b[0m         \u001b[0;32melse\u001b[0m\u001b[0;34m:\u001b[0m\u001b[0;34m\u001b[0m\u001b[0;34m\u001b[0m\u001b[0m\n\u001b[0;32m--> 190\u001b[0;31m             \u001b[0mself\u001b[0m\u001b[0;34m.\u001b[0m\u001b[0m_do_train\u001b[0m\u001b[0;34m(\u001b[0m\u001b[0mworld_size\u001b[0m\u001b[0;34m)\u001b[0m\u001b[0;34m\u001b[0m\u001b[0;34m\u001b[0m\u001b[0m\n\u001b[0m\u001b[1;32m    191\u001b[0m \u001b[0;34m\u001b[0m\u001b[0m\n\u001b[1;32m    192\u001b[0m     \u001b[0;32mdef\u001b[0m \u001b[0m_setup_scheduler\u001b[0m\u001b[0;34m(\u001b[0m\u001b[0mself\u001b[0m\u001b[0;34m)\u001b[0m\u001b[0;34m:\u001b[0m\u001b[0;34m\u001b[0m\u001b[0;34m\u001b[0m\u001b[0m\n",
            "\u001b[0;32m/usr/local/lib/python3.10/dist-packages/ultralytics/engine/trainer.py\u001b[0m in \u001b[0;36m_do_train\u001b[0;34m(self, world_size)\u001b[0m\n\u001b[1;32m    387\u001b[0m                 \u001b[0;32mif\u001b[0m \u001b[0mself\u001b[0m\u001b[0;34m.\u001b[0m\u001b[0margs\u001b[0m\u001b[0;34m.\u001b[0m\u001b[0mval\u001b[0m \u001b[0;32mor\u001b[0m \u001b[0mfinal_epoch\u001b[0m \u001b[0;32mor\u001b[0m \u001b[0mself\u001b[0m\u001b[0;34m.\u001b[0m\u001b[0mstopper\u001b[0m\u001b[0;34m.\u001b[0m\u001b[0mpossible_stop\u001b[0m \u001b[0;32mor\u001b[0m \u001b[0mself\u001b[0m\u001b[0;34m.\u001b[0m\u001b[0mstop\u001b[0m\u001b[0;34m:\u001b[0m\u001b[0;34m\u001b[0m\u001b[0;34m\u001b[0m\u001b[0m\n\u001b[1;32m    388\u001b[0m                     \u001b[0mself\u001b[0m\u001b[0;34m.\u001b[0m\u001b[0mmetrics\u001b[0m\u001b[0;34m,\u001b[0m \u001b[0mself\u001b[0m\u001b[0;34m.\u001b[0m\u001b[0mfitness\u001b[0m \u001b[0;34m=\u001b[0m \u001b[0mself\u001b[0m\u001b[0;34m.\u001b[0m\u001b[0mvalidate\u001b[0m\u001b[0;34m(\u001b[0m\u001b[0;34m)\u001b[0m\u001b[0;34m\u001b[0m\u001b[0;34m\u001b[0m\u001b[0m\n\u001b[0;32m--> 389\u001b[0;31m                 \u001b[0mself\u001b[0m\u001b[0;34m.\u001b[0m\u001b[0msave_metrics\u001b[0m\u001b[0;34m(\u001b[0m\u001b[0mmetrics\u001b[0m\u001b[0;34m=\u001b[0m\u001b[0;34m{\u001b[0m\u001b[0;34m**\u001b[0m\u001b[0mself\u001b[0m\u001b[0;34m.\u001b[0m\u001b[0mlabel_loss_items\u001b[0m\u001b[0;34m(\u001b[0m\u001b[0mself\u001b[0m\u001b[0;34m.\u001b[0m\u001b[0mtloss\u001b[0m\u001b[0;34m)\u001b[0m\u001b[0;34m,\u001b[0m \u001b[0;34m**\u001b[0m\u001b[0mself\u001b[0m\u001b[0;34m.\u001b[0m\u001b[0mmetrics\u001b[0m\u001b[0;34m,\u001b[0m \u001b[0;34m**\u001b[0m\u001b[0mself\u001b[0m\u001b[0;34m.\u001b[0m\u001b[0mlr\u001b[0m\u001b[0;34m}\u001b[0m\u001b[0;34m)\u001b[0m\u001b[0;34m\u001b[0m\u001b[0;34m\u001b[0m\u001b[0m\n\u001b[0m\u001b[1;32m    390\u001b[0m                 \u001b[0mself\u001b[0m\u001b[0;34m.\u001b[0m\u001b[0mstop\u001b[0m \u001b[0;34m|=\u001b[0m \u001b[0mself\u001b[0m\u001b[0;34m.\u001b[0m\u001b[0mstopper\u001b[0m\u001b[0;34m(\u001b[0m\u001b[0mepoch\u001b[0m \u001b[0;34m+\u001b[0m \u001b[0;36m1\u001b[0m\u001b[0;34m,\u001b[0m \u001b[0mself\u001b[0m\u001b[0;34m.\u001b[0m\u001b[0mfitness\u001b[0m\u001b[0;34m)\u001b[0m\u001b[0;34m\u001b[0m\u001b[0;34m\u001b[0m\u001b[0m\n\u001b[1;32m    391\u001b[0m                 \u001b[0;32mif\u001b[0m \u001b[0mself\u001b[0m\u001b[0;34m.\u001b[0m\u001b[0margs\u001b[0m\u001b[0;34m.\u001b[0m\u001b[0mtime\u001b[0m\u001b[0;34m:\u001b[0m\u001b[0;34m\u001b[0m\u001b[0;34m\u001b[0m\u001b[0m\n",
            "\u001b[0;32m/usr/local/lib/python3.10/dist-packages/ultralytics/engine/trainer.py\u001b[0m in \u001b[0;36msave_metrics\u001b[0;34m(self, metrics)\u001b[0m\n\u001b[1;32m    554\u001b[0m         \u001b[0mn\u001b[0m \u001b[0;34m=\u001b[0m \u001b[0mlen\u001b[0m\u001b[0;34m(\u001b[0m\u001b[0mmetrics\u001b[0m\u001b[0;34m)\u001b[0m \u001b[0;34m+\u001b[0m \u001b[0;36m1\u001b[0m  \u001b[0;31m# number of cols\u001b[0m\u001b[0;34m\u001b[0m\u001b[0;34m\u001b[0m\u001b[0m\n\u001b[1;32m    555\u001b[0m         \u001b[0ms\u001b[0m \u001b[0;34m=\u001b[0m \u001b[0;34m''\u001b[0m \u001b[0;32mif\u001b[0m \u001b[0mself\u001b[0m\u001b[0;34m.\u001b[0m\u001b[0mcsv\u001b[0m\u001b[0;34m.\u001b[0m\u001b[0mexists\u001b[0m\u001b[0;34m(\u001b[0m\u001b[0;34m)\u001b[0m \u001b[0;32melse\u001b[0m \u001b[0;34m(\u001b[0m\u001b[0;34m(\u001b[0m\u001b[0;34m'%23s,'\u001b[0m \u001b[0;34m*\u001b[0m \u001b[0mn\u001b[0m \u001b[0;34m%\u001b[0m \u001b[0mtuple\u001b[0m\u001b[0;34m(\u001b[0m\u001b[0;34m[\u001b[0m\u001b[0;34m'epoch'\u001b[0m\u001b[0;34m]\u001b[0m \u001b[0;34m+\u001b[0m \u001b[0mkeys\u001b[0m\u001b[0;34m)\u001b[0m\u001b[0;34m)\u001b[0m\u001b[0;34m.\u001b[0m\u001b[0mrstrip\u001b[0m\u001b[0;34m(\u001b[0m\u001b[0;34m','\u001b[0m\u001b[0;34m)\u001b[0m \u001b[0;34m+\u001b[0m \u001b[0;34m'\\n'\u001b[0m\u001b[0;34m)\u001b[0m  \u001b[0;31m# header\u001b[0m\u001b[0;34m\u001b[0m\u001b[0;34m\u001b[0m\u001b[0m\n\u001b[0;32m--> 556\u001b[0;31m         \u001b[0;32mwith\u001b[0m \u001b[0mopen\u001b[0m\u001b[0;34m(\u001b[0m\u001b[0mself\u001b[0m\u001b[0;34m.\u001b[0m\u001b[0mcsv\u001b[0m\u001b[0;34m,\u001b[0m \u001b[0;34m'a'\u001b[0m\u001b[0;34m)\u001b[0m \u001b[0;32mas\u001b[0m \u001b[0mf\u001b[0m\u001b[0;34m:\u001b[0m\u001b[0;34m\u001b[0m\u001b[0;34m\u001b[0m\u001b[0m\n\u001b[0m\u001b[1;32m    557\u001b[0m             \u001b[0mf\u001b[0m\u001b[0;34m.\u001b[0m\u001b[0mwrite\u001b[0m\u001b[0;34m(\u001b[0m\u001b[0ms\u001b[0m \u001b[0;34m+\u001b[0m \u001b[0;34m(\u001b[0m\u001b[0;34m'%23.5g,'\u001b[0m \u001b[0;34m*\u001b[0m \u001b[0mn\u001b[0m \u001b[0;34m%\u001b[0m \u001b[0mtuple\u001b[0m\u001b[0;34m(\u001b[0m\u001b[0;34m[\u001b[0m\u001b[0mself\u001b[0m\u001b[0;34m.\u001b[0m\u001b[0mepoch\u001b[0m \u001b[0;34m+\u001b[0m \u001b[0;36m1\u001b[0m\u001b[0;34m]\u001b[0m \u001b[0;34m+\u001b[0m \u001b[0mvals\u001b[0m\u001b[0;34m)\u001b[0m\u001b[0;34m)\u001b[0m\u001b[0;34m.\u001b[0m\u001b[0mrstrip\u001b[0m\u001b[0;34m(\u001b[0m\u001b[0;34m','\u001b[0m\u001b[0;34m)\u001b[0m \u001b[0;34m+\u001b[0m \u001b[0;34m'\\n'\u001b[0m\u001b[0;34m)\u001b[0m\u001b[0;34m\u001b[0m\u001b[0;34m\u001b[0m\u001b[0m\n\u001b[1;32m    558\u001b[0m \u001b[0;34m\u001b[0m\u001b[0m\n",
            "\u001b[0;31mFileNotFoundError\u001b[0m: [Errno 2] No such file or directory: 'runs/detect/train/results.csv'"
          ]
        }
      ],
      "source": [
        "from ultralytics import YOLO\n",
        "\n",
        "model = YOLO(\"yolov8s.pt\")\n",
        "\n",
        "results = model.train(data=\"/content/drive/MyDrive/Dataset/mydataset.yaml\",epochs=100, val = True)"
      ]
    },
    {
      "cell_type": "code",
      "execution_count": null,
      "metadata": {
        "colab": {
          "base_uri": "https://localhost:8080/"
        },
        "id": "9kL-xCod-ebq",
        "outputId": "3f1447a5-2be6-47a8-a756-5ed8cc4334fd"
      },
      "outputs": [
        {
          "name": "stdout",
          "output_type": "stream",
          "text": [
            "Ultralytics YOLOv8.0.228 🚀 Python-3.10.12 torch-2.1.0+cu121 CUDA:0 (Tesla T4, 15102MiB)\n",
            "\u001b[34m\u001b[1mengine/trainer: \u001b[0mtask=detect, mode=train, model=/content/drive/MyDrive/Dataset/runs - v8s - 81/detect/train/weights/last.pt, data=/content/drive/MyDrive/Dataset/mydataset.yaml, epochs=100, time=None, patience=50, batch=16, imgsz=640, save=True, save_period=-1, cache=False, device=None, workers=8, project=None, name=train, exist_ok=False, pretrained=True, optimizer=auto, verbose=True, seed=0, deterministic=True, single_cls=False, rect=False, cos_lr=False, close_mosaic=10, resume=False, amp=True, fraction=1.0, profile=False, freeze=None, overlap_mask=True, mask_ratio=4, dropout=0.0, val=True, split=val, save_json=False, save_hybrid=False, conf=None, iou=0.7, max_det=300, half=False, dnn=False, plots=True, source=None, vid_stride=1, stream_buffer=False, visualize=False, augment=False, agnostic_nms=False, classes=None, retina_masks=False, show=False, save_frames=False, save_txt=False, save_conf=False, save_crop=False, show_labels=True, show_conf=True, show_boxes=True, line_width=None, format=torchscript, keras=False, optimize=False, int8=False, dynamic=False, simplify=False, opset=None, workspace=4, nms=False, lr0=0.01, lrf=0.01, momentum=0.937, weight_decay=0.0005, warmup_epochs=3.0, warmup_momentum=0.8, warmup_bias_lr=0.0, box=7.5, cls=0.5, dfl=1.5, pose=12.0, kobj=1.0, label_smoothing=0.0, nbs=64, hsv_h=0.015, hsv_s=0.7, hsv_v=0.4, degrees=0.0, translate=0.1, scale=0.5, shear=0.0, perspective=0.0, flipud=0.0, fliplr=0.5, mosaic=1.0, mixup=0.0, copy_paste=0.0, cfg=None, tracker=botsort.yaml, save_dir=runs/detect/train\n",
            "Downloading https://ultralytics.com/assets/Arial.ttf to '/root/.config/Ultralytics/Arial.ttf'...\n"
          ]
        },
        {
          "name": "stderr",
          "output_type": "stream",
          "text": [
            "100%|██████████| 755k/755k [00:00<00:00, 22.2MB/s]\n"
          ]
        },
        {
          "name": "stdout",
          "output_type": "stream",
          "text": [
            "\u001b[34m\u001b[1mTensorBoard: \u001b[0mStart with 'tensorboard --logdir runs/detect/train', view at http://localhost:6006/\n",
            "\n",
            "                   from  n    params  module                                       arguments                     \n",
            "  0                  -1  1       928  ultralytics.nn.modules.conv.Conv             [3, 32, 3, 2]                 \n",
            "  1                  -1  1     18560  ultralytics.nn.modules.conv.Conv             [32, 64, 3, 2]                \n",
            "  2                  -1  1     29056  ultralytics.nn.modules.block.C2f             [64, 64, 1, True]             \n",
            "  3                  -1  1     73984  ultralytics.nn.modules.conv.Conv             [64, 128, 3, 2]               \n",
            "  4                  -1  2    197632  ultralytics.nn.modules.block.C2f             [128, 128, 2, True]           \n",
            "  5                  -1  1    295424  ultralytics.nn.modules.conv.Conv             [128, 256, 3, 2]              \n",
            "  6                  -1  2    788480  ultralytics.nn.modules.block.C2f             [256, 256, 2, True]           \n",
            "  7                  -1  1   1180672  ultralytics.nn.modules.conv.Conv             [256, 512, 3, 2]              \n",
            "  8                  -1  1   1838080  ultralytics.nn.modules.block.C2f             [512, 512, 1, True]           \n",
            "  9                  -1  1    656896  ultralytics.nn.modules.block.SPPF            [512, 512, 5]                 \n",
            " 10                  -1  1         0  torch.nn.modules.upsampling.Upsample         [None, 2, 'nearest']          \n",
            " 11             [-1, 6]  1         0  ultralytics.nn.modules.conv.Concat           [1]                           \n",
            " 12                  -1  1    591360  ultralytics.nn.modules.block.C2f             [768, 256, 1]                 \n",
            " 13                  -1  1         0  torch.nn.modules.upsampling.Upsample         [None, 2, 'nearest']          \n",
            " 14             [-1, 4]  1         0  ultralytics.nn.modules.conv.Concat           [1]                           \n",
            " 15                  -1  1    148224  ultralytics.nn.modules.block.C2f             [384, 128, 1]                 \n",
            " 16                  -1  1    147712  ultralytics.nn.modules.conv.Conv             [128, 128, 3, 2]              \n",
            " 17            [-1, 12]  1         0  ultralytics.nn.modules.conv.Concat           [1]                           \n",
            " 18                  -1  1    493056  ultralytics.nn.modules.block.C2f             [384, 256, 1]                 \n",
            " 19                  -1  1    590336  ultralytics.nn.modules.conv.Conv             [256, 256, 3, 2]              \n",
            " 20             [-1, 9]  1         0  ultralytics.nn.modules.conv.Concat           [1]                           \n",
            " 21                  -1  1   1969152  ultralytics.nn.modules.block.C2f             [768, 512, 1]                 \n",
            " 22        [15, 18, 21]  1   2116822  ultralytics.nn.modules.head.Detect           [2, [128, 256, 512]]          \n",
            "Model summary: 225 layers, 11136374 parameters, 11136358 gradients, 28.6 GFLOPs\n",
            "\n",
            "Transferred 355/355 items from pretrained weights\n",
            "Freezing layer 'model.22.dfl.conv.weight'\n",
            "\u001b[34m\u001b[1mAMP: \u001b[0mrunning Automatic Mixed Precision (AMP) checks with YOLOv8n...\n",
            "Downloading https://github.com/ultralytics/assets/releases/download/v0.0.0/yolov8n.pt to 'yolov8n.pt'...\n"
          ]
        },
        {
          "name": "stderr",
          "output_type": "stream",
          "text": [
            "100%|██████████| 6.23M/6.23M [00:00<00:00, 118MB/s]\n"
          ]
        },
        {
          "name": "stdout",
          "output_type": "stream",
          "text": [
            "WARNING ⚠️ NMS time limit 0.550s exceeded\n",
            "\u001b[34m\u001b[1mAMP: \u001b[0mchecks passed ✅\n"
          ]
        },
        {
          "name": "stderr",
          "output_type": "stream",
          "text": [
            "\u001b[34m\u001b[1mtrain: \u001b[0mScanning /content/Safety-vest-Detection-8/train/labels... 7827 images, 0 backgrounds, 0 corrupt: 100%|██████████| 7827/7827 [00:03<00:00, 1994.87it/s]\n"
          ]
        },
        {
          "name": "stdout",
          "output_type": "stream",
          "text": [
            "\u001b[34m\u001b[1mtrain: \u001b[0mNew cache created: /content/Safety-vest-Detection-8/train/labels.cache\n",
            "\u001b[34m\u001b[1malbumentations: \u001b[0mBlur(p=0.01, blur_limit=(3, 7)), MedianBlur(p=0.01, blur_limit=(3, 7)), ToGray(p=0.01), CLAHE(p=0.01, clip_limit=(1, 4.0), tile_grid_size=(8, 8))\n"
          ]
        },
        {
          "name": "stderr",
          "output_type": "stream",
          "text": [
            "\u001b[34m\u001b[1mval: \u001b[0mScanning /content/Safety-vest-Detection-8/valid/labels... 995 images, 0 backgrounds, 0 corrupt: 100%|██████████| 995/995 [00:01<00:00, 658.54it/s]\n"
          ]
        },
        {
          "name": "stdout",
          "output_type": "stream",
          "text": [
            "\u001b[34m\u001b[1mval: \u001b[0mNew cache created: /content/Safety-vest-Detection-8/valid/labels.cache\n",
            "Plotting labels to runs/detect/train/labels.jpg... \n",
            "\u001b[34m\u001b[1moptimizer:\u001b[0m 'optimizer=auto' found, ignoring 'lr0=0.01' and 'momentum=0.937' and determining best 'optimizer', 'lr0' and 'momentum' automatically... \n",
            "\u001b[34m\u001b[1moptimizer:\u001b[0m SGD(lr=0.01, momentum=0.9) with parameter groups 57 weight(decay=0.0), 64 weight(decay=0.0005), 63 bias(decay=0.0)\n",
            "100 epochs...\n",
            "\n",
            "      Epoch    GPU_mem   box_loss   cls_loss   dfl_loss  Instances       Size\n"
          ]
        },
        {
          "name": "stderr",
          "output_type": "stream",
          "text": [
            "     82/100      4.14G     0.8387     0.5528      1.226         23        640: 100%|██████████| 490/490 [03:30<00:00,  2.32it/s]\n",
            "                 Class     Images  Instances      Box(P          R      mAP50  mAP50-95): 100%|██████████| 32/32 [00:14<00:00,  2.15it/s]"
          ]
        },
        {
          "name": "stdout",
          "output_type": "stream",
          "text": [
            "                   all        995       4415      0.911      0.835      0.899      0.559\n"
          ]
        },
        {
          "name": "stderr",
          "output_type": "stream",
          "text": [
            "\n"
          ]
        },
        {
          "name": "stdout",
          "output_type": "stream",
          "text": [
            "\n",
            "      Epoch    GPU_mem   box_loss   cls_loss   dfl_loss  Instances       Size\n"
          ]
        },
        {
          "name": "stderr",
          "output_type": "stream",
          "text": [
            "     83/100      4.13G     0.8376     0.5518      1.224         38        640: 100%|██████████| 490/490 [03:21<00:00,  2.43it/s]\n",
            "                 Class     Images  Instances      Box(P          R      mAP50  mAP50-95): 100%|██████████| 32/32 [00:14<00:00,  2.26it/s]"
          ]
        },
        {
          "name": "stdout",
          "output_type": "stream",
          "text": [
            "                   all        995       4415      0.901      0.848      0.899      0.561\n"
          ]
        },
        {
          "name": "stderr",
          "output_type": "stream",
          "text": [
            "\n"
          ]
        },
        {
          "name": "stdout",
          "output_type": "stream",
          "text": [
            "\n",
            "      Epoch    GPU_mem   box_loss   cls_loss   dfl_loss  Instances       Size\n"
          ]
        },
        {
          "name": "stderr",
          "output_type": "stream",
          "text": [
            "     84/100      4.13G     0.8352     0.5437      1.219         21        640: 100%|██████████| 490/490 [03:22<00:00,  2.42it/s]\n",
            "                 Class     Images  Instances      Box(P          R      mAP50  mAP50-95): 100%|██████████| 32/32 [00:12<00:00,  2.47it/s]"
          ]
        },
        {
          "name": "stdout",
          "output_type": "stream",
          "text": [
            "                   all        995       4415       0.91      0.843      0.899       0.56\n"
          ]
        },
        {
          "name": "stderr",
          "output_type": "stream",
          "text": [
            "\n"
          ]
        },
        {
          "name": "stdout",
          "output_type": "stream",
          "text": [
            "\n",
            "      Epoch    GPU_mem   box_loss   cls_loss   dfl_loss  Instances       Size\n"
          ]
        },
        {
          "name": "stderr",
          "output_type": "stream",
          "text": [
            "     85/100      4.19G     0.8305     0.5457      1.221         26        640: 100%|██████████| 490/490 [03:20<00:00,  2.44it/s]\n",
            "                 Class     Images  Instances      Box(P          R      mAP50  mAP50-95): 100%|██████████| 32/32 [00:12<00:00,  2.50it/s]"
          ]
        },
        {
          "name": "stdout",
          "output_type": "stream",
          "text": [
            "                   all        995       4415      0.899       0.85      0.901      0.562\n"
          ]
        },
        {
          "name": "stderr",
          "output_type": "stream",
          "text": [
            "\n"
          ]
        },
        {
          "name": "stdout",
          "output_type": "stream",
          "text": [
            "\n",
            "      Epoch    GPU_mem   box_loss   cls_loss   dfl_loss  Instances       Size\n"
          ]
        },
        {
          "name": "stderr",
          "output_type": "stream",
          "text": [
            "     86/100      4.13G     0.8225     0.5433      1.217         41        640: 100%|██████████| 490/490 [03:25<00:00,  2.39it/s]\n",
            "                 Class     Images  Instances      Box(P          R      mAP50  mAP50-95): 100%|██████████| 32/32 [00:12<00:00,  2.46it/s]\n"
          ]
        },
        {
          "name": "stdout",
          "output_type": "stream",
          "text": [
            "                   all        995       4415      0.902      0.845        0.9      0.562\n",
            "\n",
            "      Epoch    GPU_mem   box_loss   cls_loss   dfl_loss  Instances       Size\n"
          ]
        },
        {
          "name": "stderr",
          "output_type": "stream",
          "text": [
            "     87/100      4.19G     0.8176     0.5408      1.214         25        640: 100%|██████████| 490/490 [03:20<00:00,  2.44it/s]\n",
            "                 Class     Images  Instances      Box(P          R      mAP50  mAP50-95): 100%|██████████| 32/32 [00:12<00:00,  2.47it/s]"
          ]
        },
        {
          "name": "stdout",
          "output_type": "stream",
          "text": [
            "                   all        995       4415       0.91      0.835      0.899      0.561\n"
          ]
        },
        {
          "name": "stderr",
          "output_type": "stream",
          "text": [
            "\n"
          ]
        },
        {
          "name": "stdout",
          "output_type": "stream",
          "text": [
            "\n",
            "      Epoch    GPU_mem   box_loss   cls_loss   dfl_loss  Instances       Size\n"
          ]
        },
        {
          "name": "stderr",
          "output_type": "stream",
          "text": [
            "     88/100      4.13G     0.8102     0.5317      1.207         36        640: 100%|██████████| 490/490 [03:22<00:00,  2.42it/s]\n",
            "                 Class     Images  Instances      Box(P          R      mAP50  mAP50-95): 100%|██████████| 32/32 [00:12<00:00,  2.55it/s]"
          ]
        },
        {
          "name": "stdout",
          "output_type": "stream",
          "text": [
            "                   all        995       4415       0.91      0.837      0.898      0.561\n"
          ]
        },
        {
          "name": "stderr",
          "output_type": "stream",
          "text": [
            "\n"
          ]
        },
        {
          "name": "stdout",
          "output_type": "stream",
          "text": [
            "\n",
            "      Epoch    GPU_mem   box_loss   cls_loss   dfl_loss  Instances       Size\n"
          ]
        },
        {
          "name": "stderr",
          "output_type": "stream",
          "text": [
            "     89/100      4.13G     0.8097     0.5327      1.207         17        640: 100%|██████████| 490/490 [03:18<00:00,  2.46it/s]\n",
            "                 Class     Images  Instances      Box(P          R      mAP50  mAP50-95): 100%|██████████| 32/32 [00:13<00:00,  2.43it/s]\n"
          ]
        },
        {
          "name": "stdout",
          "output_type": "stream",
          "text": [
            "                   all        995       4415      0.908      0.844      0.899      0.562\n",
            "\n",
            "      Epoch    GPU_mem   box_loss   cls_loss   dfl_loss  Instances       Size\n"
          ]
        },
        {
          "name": "stderr",
          "output_type": "stream",
          "text": [
            "     90/100      4.16G     0.7997     0.5235      1.206         16        640: 100%|██████████| 490/490 [03:20<00:00,  2.44it/s]\n",
            "                 Class     Images  Instances      Box(P          R      mAP50  mAP50-95): 100%|██████████| 32/32 [00:14<00:00,  2.25it/s]"
          ]
        },
        {
          "name": "stdout",
          "output_type": "stream",
          "text": [
            "                   all        995       4415      0.905      0.842      0.898      0.562\n"
          ]
        },
        {
          "name": "stderr",
          "output_type": "stream",
          "text": [
            "\n"
          ]
        },
        {
          "name": "stdout",
          "output_type": "stream",
          "text": [
            "Closing dataloader mosaic\n",
            "\u001b[34m\u001b[1malbumentations: \u001b[0mBlur(p=0.01, blur_limit=(3, 7)), MedianBlur(p=0.01, blur_limit=(3, 7)), ToGray(p=0.01), CLAHE(p=0.01, clip_limit=(1, 4.0), tile_grid_size=(8, 8))\n",
            "\n",
            "      Epoch    GPU_mem   box_loss   cls_loss   dfl_loss  Instances       Size\n"
          ]
        },
        {
          "name": "stderr",
          "output_type": "stream",
          "text": [
            "     91/100      4.28G     0.8262     0.4316      1.257         17        640: 100%|██████████| 490/490 [03:08<00:00,  2.61it/s]\n",
            "                 Class     Images  Instances      Box(P          R      mAP50  mAP50-95): 100%|██████████| 32/32 [00:12<00:00,  2.48it/s]"
          ]
        },
        {
          "name": "stdout",
          "output_type": "stream",
          "text": [
            "                   all        995       4415      0.908      0.835      0.898      0.561\n"
          ]
        },
        {
          "name": "stderr",
          "output_type": "stream",
          "text": [
            "\n"
          ]
        },
        {
          "name": "stdout",
          "output_type": "stream",
          "text": [
            "\n",
            "      Epoch    GPU_mem   box_loss   cls_loss   dfl_loss  Instances       Size\n"
          ]
        },
        {
          "name": "stderr",
          "output_type": "stream",
          "text": [
            "     92/100      4.28G     0.8057     0.4159      1.244          8        640: 100%|██████████| 490/490 [03:03<00:00,  2.67it/s]\n",
            "                 Class     Images  Instances      Box(P          R      mAP50  mAP50-95): 100%|██████████| 32/32 [00:13<00:00,  2.45it/s]"
          ]
        },
        {
          "name": "stdout",
          "output_type": "stream",
          "text": [
            "                   all        995       4415      0.902      0.838      0.897       0.56\n"
          ]
        },
        {
          "name": "stderr",
          "output_type": "stream",
          "text": [
            "\n"
          ]
        },
        {
          "name": "stdout",
          "output_type": "stream",
          "text": [
            "\n",
            "      Epoch    GPU_mem   box_loss   cls_loss   dfl_loss  Instances       Size\n"
          ]
        },
        {
          "name": "stderr",
          "output_type": "stream",
          "text": [
            "     93/100      4.28G     0.7899      0.411      1.234         12        640: 100%|██████████| 490/490 [03:10<00:00,  2.57it/s]\n",
            "                 Class     Images  Instances      Box(P          R      mAP50  mAP50-95): 100%|██████████| 32/32 [00:13<00:00,  2.43it/s]"
          ]
        },
        {
          "name": "stdout",
          "output_type": "stream",
          "text": [
            "                   all        995       4415      0.906      0.835      0.896       0.56\n"
          ]
        },
        {
          "name": "stderr",
          "output_type": "stream",
          "text": [
            "\n"
          ]
        },
        {
          "name": "stdout",
          "output_type": "stream",
          "text": [
            "\n",
            "      Epoch    GPU_mem   box_loss   cls_loss   dfl_loss  Instances       Size\n"
          ]
        },
        {
          "name": "stderr",
          "output_type": "stream",
          "text": [
            "     94/100      4.28G     0.7822     0.4054      1.222          7        640: 100%|██████████| 490/490 [03:05<00:00,  2.65it/s]\n",
            "                 Class     Images  Instances      Box(P          R      mAP50  mAP50-95): 100%|██████████| 32/32 [00:12<00:00,  2.49it/s]\n"
          ]
        },
        {
          "name": "stdout",
          "output_type": "stream",
          "text": [
            "                   all        995       4415      0.904      0.839      0.897      0.561\n",
            "\n",
            "      Epoch    GPU_mem   box_loss   cls_loss   dfl_loss  Instances       Size\n"
          ]
        },
        {
          "name": "stderr",
          "output_type": "stream",
          "text": [
            "     95/100       4.3G     0.7665     0.3984      1.207         10        640: 100%|██████████| 490/490 [03:07<00:00,  2.61it/s]\n",
            "                 Class     Images  Instances      Box(P          R      mAP50  mAP50-95): 100%|██████████| 32/32 [00:14<00:00,  2.27it/s]"
          ]
        },
        {
          "name": "stdout",
          "output_type": "stream",
          "text": [
            "                   all        995       4415      0.909      0.836      0.897      0.561\n"
          ]
        },
        {
          "name": "stderr",
          "output_type": "stream",
          "text": [
            "\n"
          ]
        },
        {
          "name": "stdout",
          "output_type": "stream",
          "text": [
            "\n",
            "      Epoch    GPU_mem   box_loss   cls_loss   dfl_loss  Instances       Size\n"
          ]
        },
        {
          "name": "stderr",
          "output_type": "stream",
          "text": [
            "     96/100      4.29G     0.7623     0.3958      1.207         10        640: 100%|██████████| 490/490 [03:03<00:00,  2.67it/s]\n",
            "                 Class     Images  Instances      Box(P          R      mAP50  mAP50-95): 100%|██████████| 32/32 [00:13<00:00,  2.35it/s]\n"
          ]
        },
        {
          "name": "stdout",
          "output_type": "stream",
          "text": [
            "                   all        995       4415      0.909      0.835      0.897      0.562\n",
            "\n",
            "      Epoch    GPU_mem   box_loss   cls_loss   dfl_loss  Instances       Size\n"
          ]
        },
        {
          "name": "stderr",
          "output_type": "stream",
          "text": [
            "     97/100      4.32G     0.7572     0.3928      1.203         14        640: 100%|██████████| 490/490 [03:03<00:00,  2.67it/s]\n",
            "                 Class     Images  Instances      Box(P          R      mAP50  mAP50-95): 100%|██████████| 32/32 [00:13<00:00,  2.43it/s]\n"
          ]
        },
        {
          "name": "stdout",
          "output_type": "stream",
          "text": [
            "                   all        995       4415      0.908      0.835      0.896      0.562\n",
            "\n",
            "      Epoch    GPU_mem   box_loss   cls_loss   dfl_loss  Instances       Size\n"
          ]
        },
        {
          "name": "stderr",
          "output_type": "stream",
          "text": [
            "     98/100      4.13G     0.7502     0.3894      1.197          8        640: 100%|██████████| 490/490 [03:07<00:00,  2.61it/s]\n",
            "                 Class     Images  Instances      Box(P          R      mAP50  mAP50-95): 100%|██████████| 32/32 [00:13<00:00,  2.46it/s]"
          ]
        },
        {
          "name": "stdout",
          "output_type": "stream",
          "text": [
            "                   all        995       4415      0.906      0.835      0.896      0.562\n"
          ]
        },
        {
          "name": "stderr",
          "output_type": "stream",
          "text": [
            "\n"
          ]
        },
        {
          "name": "stdout",
          "output_type": "stream",
          "text": [
            "\n",
            "      Epoch    GPU_mem   box_loss   cls_loss   dfl_loss  Instances       Size\n"
          ]
        },
        {
          "name": "stderr",
          "output_type": "stream",
          "text": [
            "     99/100      4.27G     0.7483     0.3897      1.196          7        640: 100%|██████████| 490/490 [03:03<00:00,  2.67it/s]\n",
            "                 Class     Images  Instances      Box(P          R      mAP50  mAP50-95): 100%|██████████| 32/32 [00:12<00:00,  2.48it/s]\n"
          ]
        },
        {
          "name": "stdout",
          "output_type": "stream",
          "text": [
            "                   all        995       4415       0.91      0.832      0.896      0.561\n",
            "\n",
            "      Epoch    GPU_mem   box_loss   cls_loss   dfl_loss  Instances       Size\n"
          ]
        },
        {
          "name": "stderr",
          "output_type": "stream",
          "text": [
            "    100/100      4.11G     0.7389     0.3839      1.189          9        640: 100%|██████████| 490/490 [03:05<00:00,  2.65it/s]\n",
            "                 Class     Images  Instances      Box(P          R      mAP50  mAP50-95): 100%|██████████| 32/32 [00:13<00:00,  2.31it/s]"
          ]
        },
        {
          "name": "stdout",
          "output_type": "stream",
          "text": [
            "                   all        995       4415      0.911      0.833      0.897      0.561\n"
          ]
        },
        {
          "name": "stderr",
          "output_type": "stream",
          "text": [
            "\n"
          ]
        },
        {
          "name": "stdout",
          "output_type": "stream",
          "text": [
            "\n",
            "19 epochs completed in 1.100 hours.\n",
            "Optimizer stripped from runs/detect/train/weights/last.pt, 22.5MB\n",
            "Optimizer stripped from runs/detect/train/weights/best.pt, 22.5MB\n",
            "\n",
            "Validating runs/detect/train/weights/best.pt...\n",
            "Ultralytics YOLOv8.0.228 🚀 Python-3.10.12 torch-2.1.0+cu121 CUDA:0 (Tesla T4, 15102MiB)\n",
            "Model summary (fused): 168 layers, 11126358 parameters, 0 gradients, 28.4 GFLOPs\n"
          ]
        },
        {
          "name": "stderr",
          "output_type": "stream",
          "text": [
            "                 Class     Images  Instances      Box(P          R      mAP50  mAP50-95): 100%|██████████| 32/32 [00:21<00:00,  1.50it/s]\n"
          ]
        },
        {
          "name": "stdout",
          "output_type": "stream",
          "text": [
            "                   all        995       4415      0.905      0.842      0.898      0.562\n",
            "                     0        995       2422      0.916      0.847      0.897      0.555\n",
            "                     1        995       1993      0.894      0.837        0.9       0.57\n",
            "Speed: 0.3ms preprocess, 4.7ms inference, 0.0ms loss, 4.4ms postprocess per image\n",
            "Results saved to \u001b[1mruns/detect/train\u001b[0m\n"
          ]
        },
        {
          "data": {
            "text/plain": [
              "ultralytics.utils.metrics.DetMetrics object with attributes:\n",
              "\n",
              "ap_class_index: array([0, 1])\n",
              "box: ultralytics.utils.metrics.Metric object\n",
              "confusion_matrix: <ultralytics.utils.metrics.ConfusionMatrix object at 0x7e3a483904c0>\n",
              "curves: ['Precision-Recall(B)', 'F1-Confidence(B)', 'Precision-Confidence(B)', 'Recall-Confidence(B)']\n",
              "curves_results: [[array([          0,    0.001001,    0.002002,    0.003003,    0.004004,    0.005005,    0.006006,    0.007007,    0.008008,    0.009009,     0.01001,    0.011011,    0.012012,    0.013013,    0.014014,    0.015015,    0.016016,    0.017017,    0.018018,    0.019019,     0.02002,    0.021021,    0.022022,    0.023023,\n",
              "          0.024024,    0.025025,    0.026026,    0.027027,    0.028028,    0.029029,     0.03003,    0.031031,    0.032032,    0.033033,    0.034034,    0.035035,    0.036036,    0.037037,    0.038038,    0.039039,     0.04004,    0.041041,    0.042042,    0.043043,    0.044044,    0.045045,    0.046046,    0.047047,\n",
              "          0.048048,    0.049049,     0.05005,    0.051051,    0.052052,    0.053053,    0.054054,    0.055055,    0.056056,    0.057057,    0.058058,    0.059059,     0.06006,    0.061061,    0.062062,    0.063063,    0.064064,    0.065065,    0.066066,    0.067067,    0.068068,    0.069069,     0.07007,    0.071071,\n",
              "          0.072072,    0.073073,    0.074074,    0.075075,    0.076076,    0.077077,    0.078078,    0.079079,     0.08008,    0.081081,    0.082082,    0.083083,    0.084084,    0.085085,    0.086086,    0.087087,    0.088088,    0.089089,     0.09009,    0.091091,    0.092092,    0.093093,    0.094094,    0.095095,\n",
              "          0.096096,    0.097097,    0.098098,    0.099099,      0.1001,      0.1011,      0.1021,      0.1031,      0.1041,     0.10511,     0.10611,     0.10711,     0.10811,     0.10911,     0.11011,     0.11111,     0.11211,     0.11311,     0.11411,     0.11512,     0.11612,     0.11712,     0.11812,     0.11912,\n",
              "           0.12012,     0.12112,     0.12212,     0.12312,     0.12412,     0.12513,     0.12613,     0.12713,     0.12813,     0.12913,     0.13013,     0.13113,     0.13213,     0.13313,     0.13413,     0.13514,     0.13614,     0.13714,     0.13814,     0.13914,     0.14014,     0.14114,     0.14214,     0.14314,\n",
              "           0.14414,     0.14515,     0.14615,     0.14715,     0.14815,     0.14915,     0.15015,     0.15115,     0.15215,     0.15315,     0.15415,     0.15516,     0.15616,     0.15716,     0.15816,     0.15916,     0.16016,     0.16116,     0.16216,     0.16316,     0.16416,     0.16517,     0.16617,     0.16717,\n",
              "           0.16817,     0.16917,     0.17017,     0.17117,     0.17217,     0.17317,     0.17417,     0.17518,     0.17618,     0.17718,     0.17818,     0.17918,     0.18018,     0.18118,     0.18218,     0.18318,     0.18418,     0.18519,     0.18619,     0.18719,     0.18819,     0.18919,     0.19019,     0.19119,\n",
              "           0.19219,     0.19319,     0.19419,      0.1952,      0.1962,      0.1972,      0.1982,      0.1992,      0.2002,      0.2012,      0.2022,      0.2032,      0.2042,     0.20521,     0.20621,     0.20721,     0.20821,     0.20921,     0.21021,     0.21121,     0.21221,     0.21321,     0.21421,     0.21522,\n",
              "           0.21622,     0.21722,     0.21822,     0.21922,     0.22022,     0.22122,     0.22222,     0.22322,     0.22422,     0.22523,     0.22623,     0.22723,     0.22823,     0.22923,     0.23023,     0.23123,     0.23223,     0.23323,     0.23423,     0.23524,     0.23624,     0.23724,     0.23824,     0.23924,\n",
              "           0.24024,     0.24124,     0.24224,     0.24324,     0.24424,     0.24525,     0.24625,     0.24725,     0.24825,     0.24925,     0.25025,     0.25125,     0.25225,     0.25325,     0.25425,     0.25526,     0.25626,     0.25726,     0.25826,     0.25926,     0.26026,     0.26126,     0.26226,     0.26326,\n",
              "           0.26426,     0.26527,     0.26627,     0.26727,     0.26827,     0.26927,     0.27027,     0.27127,     0.27227,     0.27327,     0.27427,     0.27528,     0.27628,     0.27728,     0.27828,     0.27928,     0.28028,     0.28128,     0.28228,     0.28328,     0.28428,     0.28529,     0.28629,     0.28729,\n",
              "           0.28829,     0.28929,     0.29029,     0.29129,     0.29229,     0.29329,     0.29429,      0.2953,      0.2963,      0.2973,      0.2983,      0.2993,      0.3003,      0.3013,      0.3023,      0.3033,      0.3043,     0.30531,     0.30631,     0.30731,     0.30831,     0.30931,     0.31031,     0.31131,\n",
              "           0.31231,     0.31331,     0.31431,     0.31532,     0.31632,     0.31732,     0.31832,     0.31932,     0.32032,     0.32132,     0.32232,     0.32332,     0.32432,     0.32533,     0.32633,     0.32733,     0.32833,     0.32933,     0.33033,     0.33133,     0.33233,     0.33333,     0.33433,     0.33534,\n",
              "           0.33634,     0.33734,     0.33834,     0.33934,     0.34034,     0.34134,     0.34234,     0.34334,     0.34434,     0.34535,     0.34635,     0.34735,     0.34835,     0.34935,     0.35035,     0.35135,     0.35235,     0.35335,     0.35435,     0.35536,     0.35636,     0.35736,     0.35836,     0.35936,\n",
              "           0.36036,     0.36136,     0.36236,     0.36336,     0.36436,     0.36537,     0.36637,     0.36737,     0.36837,     0.36937,     0.37037,     0.37137,     0.37237,     0.37337,     0.37437,     0.37538,     0.37638,     0.37738,     0.37838,     0.37938,     0.38038,     0.38138,     0.38238,     0.38338,\n",
              "           0.38438,     0.38539,     0.38639,     0.38739,     0.38839,     0.38939,     0.39039,     0.39139,     0.39239,     0.39339,     0.39439,      0.3954,      0.3964,      0.3974,      0.3984,      0.3994,      0.4004,      0.4014,      0.4024,      0.4034,      0.4044,     0.40541,     0.40641,     0.40741,\n",
              "           0.40841,     0.40941,     0.41041,     0.41141,     0.41241,     0.41341,     0.41441,     0.41542,     0.41642,     0.41742,     0.41842,     0.41942,     0.42042,     0.42142,     0.42242,     0.42342,     0.42442,     0.42543,     0.42643,     0.42743,     0.42843,     0.42943,     0.43043,     0.43143,\n",
              "           0.43243,     0.43343,     0.43443,     0.43544,     0.43644,     0.43744,     0.43844,     0.43944,     0.44044,     0.44144,     0.44244,     0.44344,     0.44444,     0.44545,     0.44645,     0.44745,     0.44845,     0.44945,     0.45045,     0.45145,     0.45245,     0.45345,     0.45445,     0.45546,\n",
              "           0.45646,     0.45746,     0.45846,     0.45946,     0.46046,     0.46146,     0.46246,     0.46346,     0.46446,     0.46547,     0.46647,     0.46747,     0.46847,     0.46947,     0.47047,     0.47147,     0.47247,     0.47347,     0.47447,     0.47548,     0.47648,     0.47748,     0.47848,     0.47948,\n",
              "           0.48048,     0.48148,     0.48248,     0.48348,     0.48448,     0.48549,     0.48649,     0.48749,     0.48849,     0.48949,     0.49049,     0.49149,     0.49249,     0.49349,     0.49449,      0.4955,      0.4965,      0.4975,      0.4985,      0.4995,      0.5005,      0.5015,      0.5025,      0.5035,\n",
              "            0.5045,     0.50551,     0.50651,     0.50751,     0.50851,     0.50951,     0.51051,     0.51151,     0.51251,     0.51351,     0.51451,     0.51552,     0.51652,     0.51752,     0.51852,     0.51952,     0.52052,     0.52152,     0.52252,     0.52352,     0.52452,     0.52553,     0.52653,     0.52753,\n",
              "           0.52853,     0.52953,     0.53053,     0.53153,     0.53253,     0.53353,     0.53453,     0.53554,     0.53654,     0.53754,     0.53854,     0.53954,     0.54054,     0.54154,     0.54254,     0.54354,     0.54454,     0.54555,     0.54655,     0.54755,     0.54855,     0.54955,     0.55055,     0.55155,\n",
              "           0.55255,     0.55355,     0.55455,     0.55556,     0.55656,     0.55756,     0.55856,     0.55956,     0.56056,     0.56156,     0.56256,     0.56356,     0.56456,     0.56557,     0.56657,     0.56757,     0.56857,     0.56957,     0.57057,     0.57157,     0.57257,     0.57357,     0.57457,     0.57558,\n",
              "           0.57658,     0.57758,     0.57858,     0.57958,     0.58058,     0.58158,     0.58258,     0.58358,     0.58458,     0.58559,     0.58659,     0.58759,     0.58859,     0.58959,     0.59059,     0.59159,     0.59259,     0.59359,     0.59459,      0.5956,      0.5966,      0.5976,      0.5986,      0.5996,\n",
              "            0.6006,      0.6016,      0.6026,      0.6036,      0.6046,     0.60561,     0.60661,     0.60761,     0.60861,     0.60961,     0.61061,     0.61161,     0.61261,     0.61361,     0.61461,     0.61562,     0.61662,     0.61762,     0.61862,     0.61962,     0.62062,     0.62162,     0.62262,     0.62362,\n",
              "           0.62462,     0.62563,     0.62663,     0.62763,     0.62863,     0.62963,     0.63063,     0.63163,     0.63263,     0.63363,     0.63463,     0.63564,     0.63664,     0.63764,     0.63864,     0.63964,     0.64064,     0.64164,     0.64264,     0.64364,     0.64464,     0.64565,     0.64665,     0.64765,\n",
              "           0.64865,     0.64965,     0.65065,     0.65165,     0.65265,     0.65365,     0.65465,     0.65566,     0.65666,     0.65766,     0.65866,     0.65966,     0.66066,     0.66166,     0.66266,     0.66366,     0.66466,     0.66567,     0.66667,     0.66767,     0.66867,     0.66967,     0.67067,     0.67167,\n",
              "           0.67267,     0.67367,     0.67467,     0.67568,     0.67668,     0.67768,     0.67868,     0.67968,     0.68068,     0.68168,     0.68268,     0.68368,     0.68468,     0.68569,     0.68669,     0.68769,     0.68869,     0.68969,     0.69069,     0.69169,     0.69269,     0.69369,     0.69469,      0.6957,\n",
              "            0.6967,      0.6977,      0.6987,      0.6997,      0.7007,      0.7017,      0.7027,      0.7037,      0.7047,     0.70571,     0.70671,     0.70771,     0.70871,     0.70971,     0.71071,     0.71171,     0.71271,     0.71371,     0.71471,     0.71572,     0.71672,     0.71772,     0.71872,     0.71972,\n",
              "           0.72072,     0.72172,     0.72272,     0.72372,     0.72472,     0.72573,     0.72673,     0.72773,     0.72873,     0.72973,     0.73073,     0.73173,     0.73273,     0.73373,     0.73473,     0.73574,     0.73674,     0.73774,     0.73874,     0.73974,     0.74074,     0.74174,     0.74274,     0.74374,\n",
              "           0.74474,     0.74575,     0.74675,     0.74775,     0.74875,     0.74975,     0.75075,     0.75175,     0.75275,     0.75375,     0.75475,     0.75576,     0.75676,     0.75776,     0.75876,     0.75976,     0.76076,     0.76176,     0.76276,     0.76376,     0.76476,     0.76577,     0.76677,     0.76777,\n",
              "           0.76877,     0.76977,     0.77077,     0.77177,     0.77277,     0.77377,     0.77477,     0.77578,     0.77678,     0.77778,     0.77878,     0.77978,     0.78078,     0.78178,     0.78278,     0.78378,     0.78478,     0.78579,     0.78679,     0.78779,     0.78879,     0.78979,     0.79079,     0.79179,\n",
              "           0.79279,     0.79379,     0.79479,      0.7958,      0.7968,      0.7978,      0.7988,      0.7998,      0.8008,      0.8018,      0.8028,      0.8038,      0.8048,     0.80581,     0.80681,     0.80781,     0.80881,     0.80981,     0.81081,     0.81181,     0.81281,     0.81381,     0.81481,     0.81582,\n",
              "           0.81682,     0.81782,     0.81882,     0.81982,     0.82082,     0.82182,     0.82282,     0.82382,     0.82482,     0.82583,     0.82683,     0.82783,     0.82883,     0.82983,     0.83083,     0.83183,     0.83283,     0.83383,     0.83483,     0.83584,     0.83684,     0.83784,     0.83884,     0.83984,\n",
              "           0.84084,     0.84184,     0.84284,     0.84384,     0.84484,     0.84585,     0.84685,     0.84785,     0.84885,     0.84985,     0.85085,     0.85185,     0.85285,     0.85385,     0.85485,     0.85586,     0.85686,     0.85786,     0.85886,     0.85986,     0.86086,     0.86186,     0.86286,     0.86386,\n",
              "           0.86486,     0.86587,     0.86687,     0.86787,     0.86887,     0.86987,     0.87087,     0.87187,     0.87287,     0.87387,     0.87487,     0.87588,     0.87688,     0.87788,     0.87888,     0.87988,     0.88088,     0.88188,     0.88288,     0.88388,     0.88488,     0.88589,     0.88689,     0.88789,\n",
              "           0.88889,     0.88989,     0.89089,     0.89189,     0.89289,     0.89389,     0.89489,      0.8959,      0.8969,      0.8979,      0.8989,      0.8999,      0.9009,      0.9019,      0.9029,      0.9039,      0.9049,     0.90591,     0.90691,     0.90791,     0.90891,     0.90991,     0.91091,     0.91191,\n",
              "           0.91291,     0.91391,     0.91491,     0.91592,     0.91692,     0.91792,     0.91892,     0.91992,     0.92092,     0.92192,     0.92292,     0.92392,     0.92492,     0.92593,     0.92693,     0.92793,     0.92893,     0.92993,     0.93093,     0.93193,     0.93293,     0.93393,     0.93493,     0.93594,\n",
              "           0.93694,     0.93794,     0.93894,     0.93994,     0.94094,     0.94194,     0.94294,     0.94394,     0.94494,     0.94595,     0.94695,     0.94795,     0.94895,     0.94995,     0.95095,     0.95195,     0.95295,     0.95395,     0.95495,     0.95596,     0.95696,     0.95796,     0.95896,     0.95996,\n",
              "           0.96096,     0.96196,     0.96296,     0.96396,     0.96496,     0.96597,     0.96697,     0.96797,     0.96897,     0.96997,     0.97097,     0.97197,     0.97297,     0.97397,     0.97497,     0.97598,     0.97698,     0.97798,     0.97898,     0.97998,     0.98098,     0.98198,     0.98298,     0.98398,\n",
              "           0.98498,     0.98599,     0.98699,     0.98799,     0.98899,     0.98999,     0.99099,     0.99199,     0.99299,     0.99399,     0.99499,       0.996,       0.997,       0.998,       0.999,           1]), array([[          1,           1,           1, ...,   0.0069308,   0.0034654,           0],\n",
              "       [          1,           1,           1, ...,   0.0094105,   0.0047053,           0]]), 'Recall', 'Precision'], [array([          0,    0.001001,    0.002002,    0.003003,    0.004004,    0.005005,    0.006006,    0.007007,    0.008008,    0.009009,     0.01001,    0.011011,    0.012012,    0.013013,    0.014014,    0.015015,    0.016016,    0.017017,    0.018018,    0.019019,     0.02002,    0.021021,    0.022022,    0.023023,\n",
              "          0.024024,    0.025025,    0.026026,    0.027027,    0.028028,    0.029029,     0.03003,    0.031031,    0.032032,    0.033033,    0.034034,    0.035035,    0.036036,    0.037037,    0.038038,    0.039039,     0.04004,    0.041041,    0.042042,    0.043043,    0.044044,    0.045045,    0.046046,    0.047047,\n",
              "          0.048048,    0.049049,     0.05005,    0.051051,    0.052052,    0.053053,    0.054054,    0.055055,    0.056056,    0.057057,    0.058058,    0.059059,     0.06006,    0.061061,    0.062062,    0.063063,    0.064064,    0.065065,    0.066066,    0.067067,    0.068068,    0.069069,     0.07007,    0.071071,\n",
              "          0.072072,    0.073073,    0.074074,    0.075075,    0.076076,    0.077077,    0.078078,    0.079079,     0.08008,    0.081081,    0.082082,    0.083083,    0.084084,    0.085085,    0.086086,    0.087087,    0.088088,    0.089089,     0.09009,    0.091091,    0.092092,    0.093093,    0.094094,    0.095095,\n",
              "          0.096096,    0.097097,    0.098098,    0.099099,      0.1001,      0.1011,      0.1021,      0.1031,      0.1041,     0.10511,     0.10611,     0.10711,     0.10811,     0.10911,     0.11011,     0.11111,     0.11211,     0.11311,     0.11411,     0.11512,     0.11612,     0.11712,     0.11812,     0.11912,\n",
              "           0.12012,     0.12112,     0.12212,     0.12312,     0.12412,     0.12513,     0.12613,     0.12713,     0.12813,     0.12913,     0.13013,     0.13113,     0.13213,     0.13313,     0.13413,     0.13514,     0.13614,     0.13714,     0.13814,     0.13914,     0.14014,     0.14114,     0.14214,     0.14314,\n",
              "           0.14414,     0.14515,     0.14615,     0.14715,     0.14815,     0.14915,     0.15015,     0.15115,     0.15215,     0.15315,     0.15415,     0.15516,     0.15616,     0.15716,     0.15816,     0.15916,     0.16016,     0.16116,     0.16216,     0.16316,     0.16416,     0.16517,     0.16617,     0.16717,\n",
              "           0.16817,     0.16917,     0.17017,     0.17117,     0.17217,     0.17317,     0.17417,     0.17518,     0.17618,     0.17718,     0.17818,     0.17918,     0.18018,     0.18118,     0.18218,     0.18318,     0.18418,     0.18519,     0.18619,     0.18719,     0.18819,     0.18919,     0.19019,     0.19119,\n",
              "           0.19219,     0.19319,     0.19419,      0.1952,      0.1962,      0.1972,      0.1982,      0.1992,      0.2002,      0.2012,      0.2022,      0.2032,      0.2042,     0.20521,     0.20621,     0.20721,     0.20821,     0.20921,     0.21021,     0.21121,     0.21221,     0.21321,     0.21421,     0.21522,\n",
              "           0.21622,     0.21722,     0.21822,     0.21922,     0.22022,     0.22122,     0.22222,     0.22322,     0.22422,     0.22523,     0.22623,     0.22723,     0.22823,     0.22923,     0.23023,     0.23123,     0.23223,     0.23323,     0.23423,     0.23524,     0.23624,     0.23724,     0.23824,     0.23924,\n",
              "           0.24024,     0.24124,     0.24224,     0.24324,     0.24424,     0.24525,     0.24625,     0.24725,     0.24825,     0.24925,     0.25025,     0.25125,     0.25225,     0.25325,     0.25425,     0.25526,     0.25626,     0.25726,     0.25826,     0.25926,     0.26026,     0.26126,     0.26226,     0.26326,\n",
              "           0.26426,     0.26527,     0.26627,     0.26727,     0.26827,     0.26927,     0.27027,     0.27127,     0.27227,     0.27327,     0.27427,     0.27528,     0.27628,     0.27728,     0.27828,     0.27928,     0.28028,     0.28128,     0.28228,     0.28328,     0.28428,     0.28529,     0.28629,     0.28729,\n",
              "           0.28829,     0.28929,     0.29029,     0.29129,     0.29229,     0.29329,     0.29429,      0.2953,      0.2963,      0.2973,      0.2983,      0.2993,      0.3003,      0.3013,      0.3023,      0.3033,      0.3043,     0.30531,     0.30631,     0.30731,     0.30831,     0.30931,     0.31031,     0.31131,\n",
              "           0.31231,     0.31331,     0.31431,     0.31532,     0.31632,     0.31732,     0.31832,     0.31932,     0.32032,     0.32132,     0.32232,     0.32332,     0.32432,     0.32533,     0.32633,     0.32733,     0.32833,     0.32933,     0.33033,     0.33133,     0.33233,     0.33333,     0.33433,     0.33534,\n",
              "           0.33634,     0.33734,     0.33834,     0.33934,     0.34034,     0.34134,     0.34234,     0.34334,     0.34434,     0.34535,     0.34635,     0.34735,     0.34835,     0.34935,     0.35035,     0.35135,     0.35235,     0.35335,     0.35435,     0.35536,     0.35636,     0.35736,     0.35836,     0.35936,\n",
              "           0.36036,     0.36136,     0.36236,     0.36336,     0.36436,     0.36537,     0.36637,     0.36737,     0.36837,     0.36937,     0.37037,     0.37137,     0.37237,     0.37337,     0.37437,     0.37538,     0.37638,     0.37738,     0.37838,     0.37938,     0.38038,     0.38138,     0.38238,     0.38338,\n",
              "           0.38438,     0.38539,     0.38639,     0.38739,     0.38839,     0.38939,     0.39039,     0.39139,     0.39239,     0.39339,     0.39439,      0.3954,      0.3964,      0.3974,      0.3984,      0.3994,      0.4004,      0.4014,      0.4024,      0.4034,      0.4044,     0.40541,     0.40641,     0.40741,\n",
              "           0.40841,     0.40941,     0.41041,     0.41141,     0.41241,     0.41341,     0.41441,     0.41542,     0.41642,     0.41742,     0.41842,     0.41942,     0.42042,     0.42142,     0.42242,     0.42342,     0.42442,     0.42543,     0.42643,     0.42743,     0.42843,     0.42943,     0.43043,     0.43143,\n",
              "           0.43243,     0.43343,     0.43443,     0.43544,     0.43644,     0.43744,     0.43844,     0.43944,     0.44044,     0.44144,     0.44244,     0.44344,     0.44444,     0.44545,     0.44645,     0.44745,     0.44845,     0.44945,     0.45045,     0.45145,     0.45245,     0.45345,     0.45445,     0.45546,\n",
              "           0.45646,     0.45746,     0.45846,     0.45946,     0.46046,     0.46146,     0.46246,     0.46346,     0.46446,     0.46547,     0.46647,     0.46747,     0.46847,     0.46947,     0.47047,     0.47147,     0.47247,     0.47347,     0.47447,     0.47548,     0.47648,     0.47748,     0.47848,     0.47948,\n",
              "           0.48048,     0.48148,     0.48248,     0.48348,     0.48448,     0.48549,     0.48649,     0.48749,     0.48849,     0.48949,     0.49049,     0.49149,     0.49249,     0.49349,     0.49449,      0.4955,      0.4965,      0.4975,      0.4985,      0.4995,      0.5005,      0.5015,      0.5025,      0.5035,\n",
              "            0.5045,     0.50551,     0.50651,     0.50751,     0.50851,     0.50951,     0.51051,     0.51151,     0.51251,     0.51351,     0.51451,     0.51552,     0.51652,     0.51752,     0.51852,     0.51952,     0.52052,     0.52152,     0.52252,     0.52352,     0.52452,     0.52553,     0.52653,     0.52753,\n",
              "           0.52853,     0.52953,     0.53053,     0.53153,     0.53253,     0.53353,     0.53453,     0.53554,     0.53654,     0.53754,     0.53854,     0.53954,     0.54054,     0.54154,     0.54254,     0.54354,     0.54454,     0.54555,     0.54655,     0.54755,     0.54855,     0.54955,     0.55055,     0.55155,\n",
              "           0.55255,     0.55355,     0.55455,     0.55556,     0.55656,     0.55756,     0.55856,     0.55956,     0.56056,     0.56156,     0.56256,     0.56356,     0.56456,     0.56557,     0.56657,     0.56757,     0.56857,     0.56957,     0.57057,     0.57157,     0.57257,     0.57357,     0.57457,     0.57558,\n",
              "           0.57658,     0.57758,     0.57858,     0.57958,     0.58058,     0.58158,     0.58258,     0.58358,     0.58458,     0.58559,     0.58659,     0.58759,     0.58859,     0.58959,     0.59059,     0.59159,     0.59259,     0.59359,     0.59459,      0.5956,      0.5966,      0.5976,      0.5986,      0.5996,\n",
              "            0.6006,      0.6016,      0.6026,      0.6036,      0.6046,     0.60561,     0.60661,     0.60761,     0.60861,     0.60961,     0.61061,     0.61161,     0.61261,     0.61361,     0.61461,     0.61562,     0.61662,     0.61762,     0.61862,     0.61962,     0.62062,     0.62162,     0.62262,     0.62362,\n",
              "           0.62462,     0.62563,     0.62663,     0.62763,     0.62863,     0.62963,     0.63063,     0.63163,     0.63263,     0.63363,     0.63463,     0.63564,     0.63664,     0.63764,     0.63864,     0.63964,     0.64064,     0.64164,     0.64264,     0.64364,     0.64464,     0.64565,     0.64665,     0.64765,\n",
              "           0.64865,     0.64965,     0.65065,     0.65165,     0.65265,     0.65365,     0.65465,     0.65566,     0.65666,     0.65766,     0.65866,     0.65966,     0.66066,     0.66166,     0.66266,     0.66366,     0.66466,     0.66567,     0.66667,     0.66767,     0.66867,     0.66967,     0.67067,     0.67167,\n",
              "           0.67267,     0.67367,     0.67467,     0.67568,     0.67668,     0.67768,     0.67868,     0.67968,     0.68068,     0.68168,     0.68268,     0.68368,     0.68468,     0.68569,     0.68669,     0.68769,     0.68869,     0.68969,     0.69069,     0.69169,     0.69269,     0.69369,     0.69469,      0.6957,\n",
              "            0.6967,      0.6977,      0.6987,      0.6997,      0.7007,      0.7017,      0.7027,      0.7037,      0.7047,     0.70571,     0.70671,     0.70771,     0.70871,     0.70971,     0.71071,     0.71171,     0.71271,     0.71371,     0.71471,     0.71572,     0.71672,     0.71772,     0.71872,     0.71972,\n",
              "           0.72072,     0.72172,     0.72272,     0.72372,     0.72472,     0.72573,     0.72673,     0.72773,     0.72873,     0.72973,     0.73073,     0.73173,     0.73273,     0.73373,     0.73473,     0.73574,     0.73674,     0.73774,     0.73874,     0.73974,     0.74074,     0.74174,     0.74274,     0.74374,\n",
              "           0.74474,     0.74575,     0.74675,     0.74775,     0.74875,     0.74975,     0.75075,     0.75175,     0.75275,     0.75375,     0.75475,     0.75576,     0.75676,     0.75776,     0.75876,     0.75976,     0.76076,     0.76176,     0.76276,     0.76376,     0.76476,     0.76577,     0.76677,     0.76777,\n",
              "           0.76877,     0.76977,     0.77077,     0.77177,     0.77277,     0.77377,     0.77477,     0.77578,     0.77678,     0.77778,     0.77878,     0.77978,     0.78078,     0.78178,     0.78278,     0.78378,     0.78478,     0.78579,     0.78679,     0.78779,     0.78879,     0.78979,     0.79079,     0.79179,\n",
              "           0.79279,     0.79379,     0.79479,      0.7958,      0.7968,      0.7978,      0.7988,      0.7998,      0.8008,      0.8018,      0.8028,      0.8038,      0.8048,     0.80581,     0.80681,     0.80781,     0.80881,     0.80981,     0.81081,     0.81181,     0.81281,     0.81381,     0.81481,     0.81582,\n",
              "           0.81682,     0.81782,     0.81882,     0.81982,     0.82082,     0.82182,     0.82282,     0.82382,     0.82482,     0.82583,     0.82683,     0.82783,     0.82883,     0.82983,     0.83083,     0.83183,     0.83283,     0.83383,     0.83483,     0.83584,     0.83684,     0.83784,     0.83884,     0.83984,\n",
              "           0.84084,     0.84184,     0.84284,     0.84384,     0.84484,     0.84585,     0.84685,     0.84785,     0.84885,     0.84985,     0.85085,     0.85185,     0.85285,     0.85385,     0.85485,     0.85586,     0.85686,     0.85786,     0.85886,     0.85986,     0.86086,     0.86186,     0.86286,     0.86386,\n",
              "           0.86486,     0.86587,     0.86687,     0.86787,     0.86887,     0.86987,     0.87087,     0.87187,     0.87287,     0.87387,     0.87487,     0.87588,     0.87688,     0.87788,     0.87888,     0.87988,     0.88088,     0.88188,     0.88288,     0.88388,     0.88488,     0.88589,     0.88689,     0.88789,\n",
              "           0.88889,     0.88989,     0.89089,     0.89189,     0.89289,     0.89389,     0.89489,      0.8959,      0.8969,      0.8979,      0.8989,      0.8999,      0.9009,      0.9019,      0.9029,      0.9039,      0.9049,     0.90591,     0.90691,     0.90791,     0.90891,     0.90991,     0.91091,     0.91191,\n",
              "           0.91291,     0.91391,     0.91491,     0.91592,     0.91692,     0.91792,     0.91892,     0.91992,     0.92092,     0.92192,     0.92292,     0.92392,     0.92492,     0.92593,     0.92693,     0.92793,     0.92893,     0.92993,     0.93093,     0.93193,     0.93293,     0.93393,     0.93493,     0.93594,\n",
              "           0.93694,     0.93794,     0.93894,     0.93994,     0.94094,     0.94194,     0.94294,     0.94394,     0.94494,     0.94595,     0.94695,     0.94795,     0.94895,     0.94995,     0.95095,     0.95195,     0.95295,     0.95395,     0.95495,     0.95596,     0.95696,     0.95796,     0.95896,     0.95996,\n",
              "           0.96096,     0.96196,     0.96296,     0.96396,     0.96496,     0.96597,     0.96697,     0.96797,     0.96897,     0.96997,     0.97097,     0.97197,     0.97297,     0.97397,     0.97497,     0.97598,     0.97698,     0.97798,     0.97898,     0.97998,     0.98098,     0.98198,     0.98298,     0.98398,\n",
              "           0.98498,     0.98599,     0.98699,     0.98799,     0.98899,     0.98999,     0.99099,     0.99199,     0.99299,     0.99399,     0.99499,       0.996,       0.997,       0.998,       0.999,           1]), array([[    0.37821,     0.37821,     0.46854, ...,           0,           0,           0],\n",
              "       [     0.4323,      0.4323,     0.52303, ...,           0,           0,           0]]), 'Confidence', 'F1'], [array([          0,    0.001001,    0.002002,    0.003003,    0.004004,    0.005005,    0.006006,    0.007007,    0.008008,    0.009009,     0.01001,    0.011011,    0.012012,    0.013013,    0.014014,    0.015015,    0.016016,    0.017017,    0.018018,    0.019019,     0.02002,    0.021021,    0.022022,    0.023023,\n",
              "          0.024024,    0.025025,    0.026026,    0.027027,    0.028028,    0.029029,     0.03003,    0.031031,    0.032032,    0.033033,    0.034034,    0.035035,    0.036036,    0.037037,    0.038038,    0.039039,     0.04004,    0.041041,    0.042042,    0.043043,    0.044044,    0.045045,    0.046046,    0.047047,\n",
              "          0.048048,    0.049049,     0.05005,    0.051051,    0.052052,    0.053053,    0.054054,    0.055055,    0.056056,    0.057057,    0.058058,    0.059059,     0.06006,    0.061061,    0.062062,    0.063063,    0.064064,    0.065065,    0.066066,    0.067067,    0.068068,    0.069069,     0.07007,    0.071071,\n",
              "          0.072072,    0.073073,    0.074074,    0.075075,    0.076076,    0.077077,    0.078078,    0.079079,     0.08008,    0.081081,    0.082082,    0.083083,    0.084084,    0.085085,    0.086086,    0.087087,    0.088088,    0.089089,     0.09009,    0.091091,    0.092092,    0.093093,    0.094094,    0.095095,\n",
              "          0.096096,    0.097097,    0.098098,    0.099099,      0.1001,      0.1011,      0.1021,      0.1031,      0.1041,     0.10511,     0.10611,     0.10711,     0.10811,     0.10911,     0.11011,     0.11111,     0.11211,     0.11311,     0.11411,     0.11512,     0.11612,     0.11712,     0.11812,     0.11912,\n",
              "           0.12012,     0.12112,     0.12212,     0.12312,     0.12412,     0.12513,     0.12613,     0.12713,     0.12813,     0.12913,     0.13013,     0.13113,     0.13213,     0.13313,     0.13413,     0.13514,     0.13614,     0.13714,     0.13814,     0.13914,     0.14014,     0.14114,     0.14214,     0.14314,\n",
              "           0.14414,     0.14515,     0.14615,     0.14715,     0.14815,     0.14915,     0.15015,     0.15115,     0.15215,     0.15315,     0.15415,     0.15516,     0.15616,     0.15716,     0.15816,     0.15916,     0.16016,     0.16116,     0.16216,     0.16316,     0.16416,     0.16517,     0.16617,     0.16717,\n",
              "           0.16817,     0.16917,     0.17017,     0.17117,     0.17217,     0.17317,     0.17417,     0.17518,     0.17618,     0.17718,     0.17818,     0.17918,     0.18018,     0.18118,     0.18218,     0.18318,     0.18418,     0.18519,     0.18619,     0.18719,     0.18819,     0.18919,     0.19019,     0.19119,\n",
              "           0.19219,     0.19319,     0.19419,      0.1952,      0.1962,      0.1972,      0.1982,      0.1992,      0.2002,      0.2012,      0.2022,      0.2032,      0.2042,     0.20521,     0.20621,     0.20721,     0.20821,     0.20921,     0.21021,     0.21121,     0.21221,     0.21321,     0.21421,     0.21522,\n",
              "           0.21622,     0.21722,     0.21822,     0.21922,     0.22022,     0.22122,     0.22222,     0.22322,     0.22422,     0.22523,     0.22623,     0.22723,     0.22823,     0.22923,     0.23023,     0.23123,     0.23223,     0.23323,     0.23423,     0.23524,     0.23624,     0.23724,     0.23824,     0.23924,\n",
              "           0.24024,     0.24124,     0.24224,     0.24324,     0.24424,     0.24525,     0.24625,     0.24725,     0.24825,     0.24925,     0.25025,     0.25125,     0.25225,     0.25325,     0.25425,     0.25526,     0.25626,     0.25726,     0.25826,     0.25926,     0.26026,     0.26126,     0.26226,     0.26326,\n",
              "           0.26426,     0.26527,     0.26627,     0.26727,     0.26827,     0.26927,     0.27027,     0.27127,     0.27227,     0.27327,     0.27427,     0.27528,     0.27628,     0.27728,     0.27828,     0.27928,     0.28028,     0.28128,     0.28228,     0.28328,     0.28428,     0.28529,     0.28629,     0.28729,\n",
              "           0.28829,     0.28929,     0.29029,     0.29129,     0.29229,     0.29329,     0.29429,      0.2953,      0.2963,      0.2973,      0.2983,      0.2993,      0.3003,      0.3013,      0.3023,      0.3033,      0.3043,     0.30531,     0.30631,     0.30731,     0.30831,     0.30931,     0.31031,     0.31131,\n",
              "           0.31231,     0.31331,     0.31431,     0.31532,     0.31632,     0.31732,     0.31832,     0.31932,     0.32032,     0.32132,     0.32232,     0.32332,     0.32432,     0.32533,     0.32633,     0.32733,     0.32833,     0.32933,     0.33033,     0.33133,     0.33233,     0.33333,     0.33433,     0.33534,\n",
              "           0.33634,     0.33734,     0.33834,     0.33934,     0.34034,     0.34134,     0.34234,     0.34334,     0.34434,     0.34535,     0.34635,     0.34735,     0.34835,     0.34935,     0.35035,     0.35135,     0.35235,     0.35335,     0.35435,     0.35536,     0.35636,     0.35736,     0.35836,     0.35936,\n",
              "           0.36036,     0.36136,     0.36236,     0.36336,     0.36436,     0.36537,     0.36637,     0.36737,     0.36837,     0.36937,     0.37037,     0.37137,     0.37237,     0.37337,     0.37437,     0.37538,     0.37638,     0.37738,     0.37838,     0.37938,     0.38038,     0.38138,     0.38238,     0.38338,\n",
              "           0.38438,     0.38539,     0.38639,     0.38739,     0.38839,     0.38939,     0.39039,     0.39139,     0.39239,     0.39339,     0.39439,      0.3954,      0.3964,      0.3974,      0.3984,      0.3994,      0.4004,      0.4014,      0.4024,      0.4034,      0.4044,     0.40541,     0.40641,     0.40741,\n",
              "           0.40841,     0.40941,     0.41041,     0.41141,     0.41241,     0.41341,     0.41441,     0.41542,     0.41642,     0.41742,     0.41842,     0.41942,     0.42042,     0.42142,     0.42242,     0.42342,     0.42442,     0.42543,     0.42643,     0.42743,     0.42843,     0.42943,     0.43043,     0.43143,\n",
              "           0.43243,     0.43343,     0.43443,     0.43544,     0.43644,     0.43744,     0.43844,     0.43944,     0.44044,     0.44144,     0.44244,     0.44344,     0.44444,     0.44545,     0.44645,     0.44745,     0.44845,     0.44945,     0.45045,     0.45145,     0.45245,     0.45345,     0.45445,     0.45546,\n",
              "           0.45646,     0.45746,     0.45846,     0.45946,     0.46046,     0.46146,     0.46246,     0.46346,     0.46446,     0.46547,     0.46647,     0.46747,     0.46847,     0.46947,     0.47047,     0.47147,     0.47247,     0.47347,     0.47447,     0.47548,     0.47648,     0.47748,     0.47848,     0.47948,\n",
              "           0.48048,     0.48148,     0.48248,     0.48348,     0.48448,     0.48549,     0.48649,     0.48749,     0.48849,     0.48949,     0.49049,     0.49149,     0.49249,     0.49349,     0.49449,      0.4955,      0.4965,      0.4975,      0.4985,      0.4995,      0.5005,      0.5015,      0.5025,      0.5035,\n",
              "            0.5045,     0.50551,     0.50651,     0.50751,     0.50851,     0.50951,     0.51051,     0.51151,     0.51251,     0.51351,     0.51451,     0.51552,     0.51652,     0.51752,     0.51852,     0.51952,     0.52052,     0.52152,     0.52252,     0.52352,     0.52452,     0.52553,     0.52653,     0.52753,\n",
              "           0.52853,     0.52953,     0.53053,     0.53153,     0.53253,     0.53353,     0.53453,     0.53554,     0.53654,     0.53754,     0.53854,     0.53954,     0.54054,     0.54154,     0.54254,     0.54354,     0.54454,     0.54555,     0.54655,     0.54755,     0.54855,     0.54955,     0.55055,     0.55155,\n",
              "           0.55255,     0.55355,     0.55455,     0.55556,     0.55656,     0.55756,     0.55856,     0.55956,     0.56056,     0.56156,     0.56256,     0.56356,     0.56456,     0.56557,     0.56657,     0.56757,     0.56857,     0.56957,     0.57057,     0.57157,     0.57257,     0.57357,     0.57457,     0.57558,\n",
              "           0.57658,     0.57758,     0.57858,     0.57958,     0.58058,     0.58158,     0.58258,     0.58358,     0.58458,     0.58559,     0.58659,     0.58759,     0.58859,     0.58959,     0.59059,     0.59159,     0.59259,     0.59359,     0.59459,      0.5956,      0.5966,      0.5976,      0.5986,      0.5996,\n",
              "            0.6006,      0.6016,      0.6026,      0.6036,      0.6046,     0.60561,     0.60661,     0.60761,     0.60861,     0.60961,     0.61061,     0.61161,     0.61261,     0.61361,     0.61461,     0.61562,     0.61662,     0.61762,     0.61862,     0.61962,     0.62062,     0.62162,     0.62262,     0.62362,\n",
              "           0.62462,     0.62563,     0.62663,     0.62763,     0.62863,     0.62963,     0.63063,     0.63163,     0.63263,     0.63363,     0.63463,     0.63564,     0.63664,     0.63764,     0.63864,     0.63964,     0.64064,     0.64164,     0.64264,     0.64364,     0.64464,     0.64565,     0.64665,     0.64765,\n",
              "           0.64865,     0.64965,     0.65065,     0.65165,     0.65265,     0.65365,     0.65465,     0.65566,     0.65666,     0.65766,     0.65866,     0.65966,     0.66066,     0.66166,     0.66266,     0.66366,     0.66466,     0.66567,     0.66667,     0.66767,     0.66867,     0.66967,     0.67067,     0.67167,\n",
              "           0.67267,     0.67367,     0.67467,     0.67568,     0.67668,     0.67768,     0.67868,     0.67968,     0.68068,     0.68168,     0.68268,     0.68368,     0.68468,     0.68569,     0.68669,     0.68769,     0.68869,     0.68969,     0.69069,     0.69169,     0.69269,     0.69369,     0.69469,      0.6957,\n",
              "            0.6967,      0.6977,      0.6987,      0.6997,      0.7007,      0.7017,      0.7027,      0.7037,      0.7047,     0.70571,     0.70671,     0.70771,     0.70871,     0.70971,     0.71071,     0.71171,     0.71271,     0.71371,     0.71471,     0.71572,     0.71672,     0.71772,     0.71872,     0.71972,\n",
              "           0.72072,     0.72172,     0.72272,     0.72372,     0.72472,     0.72573,     0.72673,     0.72773,     0.72873,     0.72973,     0.73073,     0.73173,     0.73273,     0.73373,     0.73473,     0.73574,     0.73674,     0.73774,     0.73874,     0.73974,     0.74074,     0.74174,     0.74274,     0.74374,\n",
              "           0.74474,     0.74575,     0.74675,     0.74775,     0.74875,     0.74975,     0.75075,     0.75175,     0.75275,     0.75375,     0.75475,     0.75576,     0.75676,     0.75776,     0.75876,     0.75976,     0.76076,     0.76176,     0.76276,     0.76376,     0.76476,     0.76577,     0.76677,     0.76777,\n",
              "           0.76877,     0.76977,     0.77077,     0.77177,     0.77277,     0.77377,     0.77477,     0.77578,     0.77678,     0.77778,     0.77878,     0.77978,     0.78078,     0.78178,     0.78278,     0.78378,     0.78478,     0.78579,     0.78679,     0.78779,     0.78879,     0.78979,     0.79079,     0.79179,\n",
              "           0.79279,     0.79379,     0.79479,      0.7958,      0.7968,      0.7978,      0.7988,      0.7998,      0.8008,      0.8018,      0.8028,      0.8038,      0.8048,     0.80581,     0.80681,     0.80781,     0.80881,     0.80981,     0.81081,     0.81181,     0.81281,     0.81381,     0.81481,     0.81582,\n",
              "           0.81682,     0.81782,     0.81882,     0.81982,     0.82082,     0.82182,     0.82282,     0.82382,     0.82482,     0.82583,     0.82683,     0.82783,     0.82883,     0.82983,     0.83083,     0.83183,     0.83283,     0.83383,     0.83483,     0.83584,     0.83684,     0.83784,     0.83884,     0.83984,\n",
              "           0.84084,     0.84184,     0.84284,     0.84384,     0.84484,     0.84585,     0.84685,     0.84785,     0.84885,     0.84985,     0.85085,     0.85185,     0.85285,     0.85385,     0.85485,     0.85586,     0.85686,     0.85786,     0.85886,     0.85986,     0.86086,     0.86186,     0.86286,     0.86386,\n",
              "           0.86486,     0.86587,     0.86687,     0.86787,     0.86887,     0.86987,     0.87087,     0.87187,     0.87287,     0.87387,     0.87487,     0.87588,     0.87688,     0.87788,     0.87888,     0.87988,     0.88088,     0.88188,     0.88288,     0.88388,     0.88488,     0.88589,     0.88689,     0.88789,\n",
              "           0.88889,     0.88989,     0.89089,     0.89189,     0.89289,     0.89389,     0.89489,      0.8959,      0.8969,      0.8979,      0.8989,      0.8999,      0.9009,      0.9019,      0.9029,      0.9039,      0.9049,     0.90591,     0.90691,     0.90791,     0.90891,     0.90991,     0.91091,     0.91191,\n",
              "           0.91291,     0.91391,     0.91491,     0.91592,     0.91692,     0.91792,     0.91892,     0.91992,     0.92092,     0.92192,     0.92292,     0.92392,     0.92492,     0.92593,     0.92693,     0.92793,     0.92893,     0.92993,     0.93093,     0.93193,     0.93293,     0.93393,     0.93493,     0.93594,\n",
              "           0.93694,     0.93794,     0.93894,     0.93994,     0.94094,     0.94194,     0.94294,     0.94394,     0.94494,     0.94595,     0.94695,     0.94795,     0.94895,     0.94995,     0.95095,     0.95195,     0.95295,     0.95395,     0.95495,     0.95596,     0.95696,     0.95796,     0.95896,     0.95996,\n",
              "           0.96096,     0.96196,     0.96296,     0.96396,     0.96496,     0.96597,     0.96697,     0.96797,     0.96897,     0.96997,     0.97097,     0.97197,     0.97297,     0.97397,     0.97497,     0.97598,     0.97698,     0.97798,     0.97898,     0.97998,     0.98098,     0.98198,     0.98298,     0.98398,\n",
              "           0.98498,     0.98599,     0.98699,     0.98799,     0.98899,     0.98999,     0.99099,     0.99199,     0.99299,     0.99399,     0.99499,       0.996,       0.997,       0.998,       0.999,           1]), array([[    0.23727,     0.23727,     0.31402, ...,           1,           1,           1],\n",
              "       [    0.28066,     0.28066,     0.36317, ...,           1,           1,           1]]), 'Confidence', 'Precision'], [array([          0,    0.001001,    0.002002,    0.003003,    0.004004,    0.005005,    0.006006,    0.007007,    0.008008,    0.009009,     0.01001,    0.011011,    0.012012,    0.013013,    0.014014,    0.015015,    0.016016,    0.017017,    0.018018,    0.019019,     0.02002,    0.021021,    0.022022,    0.023023,\n",
              "          0.024024,    0.025025,    0.026026,    0.027027,    0.028028,    0.029029,     0.03003,    0.031031,    0.032032,    0.033033,    0.034034,    0.035035,    0.036036,    0.037037,    0.038038,    0.039039,     0.04004,    0.041041,    0.042042,    0.043043,    0.044044,    0.045045,    0.046046,    0.047047,\n",
              "          0.048048,    0.049049,     0.05005,    0.051051,    0.052052,    0.053053,    0.054054,    0.055055,    0.056056,    0.057057,    0.058058,    0.059059,     0.06006,    0.061061,    0.062062,    0.063063,    0.064064,    0.065065,    0.066066,    0.067067,    0.068068,    0.069069,     0.07007,    0.071071,\n",
              "          0.072072,    0.073073,    0.074074,    0.075075,    0.076076,    0.077077,    0.078078,    0.079079,     0.08008,    0.081081,    0.082082,    0.083083,    0.084084,    0.085085,    0.086086,    0.087087,    0.088088,    0.089089,     0.09009,    0.091091,    0.092092,    0.093093,    0.094094,    0.095095,\n",
              "          0.096096,    0.097097,    0.098098,    0.099099,      0.1001,      0.1011,      0.1021,      0.1031,      0.1041,     0.10511,     0.10611,     0.10711,     0.10811,     0.10911,     0.11011,     0.11111,     0.11211,     0.11311,     0.11411,     0.11512,     0.11612,     0.11712,     0.11812,     0.11912,\n",
              "           0.12012,     0.12112,     0.12212,     0.12312,     0.12412,     0.12513,     0.12613,     0.12713,     0.12813,     0.12913,     0.13013,     0.13113,     0.13213,     0.13313,     0.13413,     0.13514,     0.13614,     0.13714,     0.13814,     0.13914,     0.14014,     0.14114,     0.14214,     0.14314,\n",
              "           0.14414,     0.14515,     0.14615,     0.14715,     0.14815,     0.14915,     0.15015,     0.15115,     0.15215,     0.15315,     0.15415,     0.15516,     0.15616,     0.15716,     0.15816,     0.15916,     0.16016,     0.16116,     0.16216,     0.16316,     0.16416,     0.16517,     0.16617,     0.16717,\n",
              "           0.16817,     0.16917,     0.17017,     0.17117,     0.17217,     0.17317,     0.17417,     0.17518,     0.17618,     0.17718,     0.17818,     0.17918,     0.18018,     0.18118,     0.18218,     0.18318,     0.18418,     0.18519,     0.18619,     0.18719,     0.18819,     0.18919,     0.19019,     0.19119,\n",
              "           0.19219,     0.19319,     0.19419,      0.1952,      0.1962,      0.1972,      0.1982,      0.1992,      0.2002,      0.2012,      0.2022,      0.2032,      0.2042,     0.20521,     0.20621,     0.20721,     0.20821,     0.20921,     0.21021,     0.21121,     0.21221,     0.21321,     0.21421,     0.21522,\n",
              "           0.21622,     0.21722,     0.21822,     0.21922,     0.22022,     0.22122,     0.22222,     0.22322,     0.22422,     0.22523,     0.22623,     0.22723,     0.22823,     0.22923,     0.23023,     0.23123,     0.23223,     0.23323,     0.23423,     0.23524,     0.23624,     0.23724,     0.23824,     0.23924,\n",
              "           0.24024,     0.24124,     0.24224,     0.24324,     0.24424,     0.24525,     0.24625,     0.24725,     0.24825,     0.24925,     0.25025,     0.25125,     0.25225,     0.25325,     0.25425,     0.25526,     0.25626,     0.25726,     0.25826,     0.25926,     0.26026,     0.26126,     0.26226,     0.26326,\n",
              "           0.26426,     0.26527,     0.26627,     0.26727,     0.26827,     0.26927,     0.27027,     0.27127,     0.27227,     0.27327,     0.27427,     0.27528,     0.27628,     0.27728,     0.27828,     0.27928,     0.28028,     0.28128,     0.28228,     0.28328,     0.28428,     0.28529,     0.28629,     0.28729,\n",
              "           0.28829,     0.28929,     0.29029,     0.29129,     0.29229,     0.29329,     0.29429,      0.2953,      0.2963,      0.2973,      0.2983,      0.2993,      0.3003,      0.3013,      0.3023,      0.3033,      0.3043,     0.30531,     0.30631,     0.30731,     0.30831,     0.30931,     0.31031,     0.31131,\n",
              "           0.31231,     0.31331,     0.31431,     0.31532,     0.31632,     0.31732,     0.31832,     0.31932,     0.32032,     0.32132,     0.32232,     0.32332,     0.32432,     0.32533,     0.32633,     0.32733,     0.32833,     0.32933,     0.33033,     0.33133,     0.33233,     0.33333,     0.33433,     0.33534,\n",
              "           0.33634,     0.33734,     0.33834,     0.33934,     0.34034,     0.34134,     0.34234,     0.34334,     0.34434,     0.34535,     0.34635,     0.34735,     0.34835,     0.34935,     0.35035,     0.35135,     0.35235,     0.35335,     0.35435,     0.35536,     0.35636,     0.35736,     0.35836,     0.35936,\n",
              "           0.36036,     0.36136,     0.36236,     0.36336,     0.36436,     0.36537,     0.36637,     0.36737,     0.36837,     0.36937,     0.37037,     0.37137,     0.37237,     0.37337,     0.37437,     0.37538,     0.37638,     0.37738,     0.37838,     0.37938,     0.38038,     0.38138,     0.38238,     0.38338,\n",
              "           0.38438,     0.38539,     0.38639,     0.38739,     0.38839,     0.38939,     0.39039,     0.39139,     0.39239,     0.39339,     0.39439,      0.3954,      0.3964,      0.3974,      0.3984,      0.3994,      0.4004,      0.4014,      0.4024,      0.4034,      0.4044,     0.40541,     0.40641,     0.40741,\n",
              "           0.40841,     0.40941,     0.41041,     0.41141,     0.41241,     0.41341,     0.41441,     0.41542,     0.41642,     0.41742,     0.41842,     0.41942,     0.42042,     0.42142,     0.42242,     0.42342,     0.42442,     0.42543,     0.42643,     0.42743,     0.42843,     0.42943,     0.43043,     0.43143,\n",
              "           0.43243,     0.43343,     0.43443,     0.43544,     0.43644,     0.43744,     0.43844,     0.43944,     0.44044,     0.44144,     0.44244,     0.44344,     0.44444,     0.44545,     0.44645,     0.44745,     0.44845,     0.44945,     0.45045,     0.45145,     0.45245,     0.45345,     0.45445,     0.45546,\n",
              "           0.45646,     0.45746,     0.45846,     0.45946,     0.46046,     0.46146,     0.46246,     0.46346,     0.46446,     0.46547,     0.46647,     0.46747,     0.46847,     0.46947,     0.47047,     0.47147,     0.47247,     0.47347,     0.47447,     0.47548,     0.47648,     0.47748,     0.47848,     0.47948,\n",
              "           0.48048,     0.48148,     0.48248,     0.48348,     0.48448,     0.48549,     0.48649,     0.48749,     0.48849,     0.48949,     0.49049,     0.49149,     0.49249,     0.49349,     0.49449,      0.4955,      0.4965,      0.4975,      0.4985,      0.4995,      0.5005,      0.5015,      0.5025,      0.5035,\n",
              "            0.5045,     0.50551,     0.50651,     0.50751,     0.50851,     0.50951,     0.51051,     0.51151,     0.51251,     0.51351,     0.51451,     0.51552,     0.51652,     0.51752,     0.51852,     0.51952,     0.52052,     0.52152,     0.52252,     0.52352,     0.52452,     0.52553,     0.52653,     0.52753,\n",
              "           0.52853,     0.52953,     0.53053,     0.53153,     0.53253,     0.53353,     0.53453,     0.53554,     0.53654,     0.53754,     0.53854,     0.53954,     0.54054,     0.54154,     0.54254,     0.54354,     0.54454,     0.54555,     0.54655,     0.54755,     0.54855,     0.54955,     0.55055,     0.55155,\n",
              "           0.55255,     0.55355,     0.55455,     0.55556,     0.55656,     0.55756,     0.55856,     0.55956,     0.56056,     0.56156,     0.56256,     0.56356,     0.56456,     0.56557,     0.56657,     0.56757,     0.56857,     0.56957,     0.57057,     0.57157,     0.57257,     0.57357,     0.57457,     0.57558,\n",
              "           0.57658,     0.57758,     0.57858,     0.57958,     0.58058,     0.58158,     0.58258,     0.58358,     0.58458,     0.58559,     0.58659,     0.58759,     0.58859,     0.58959,     0.59059,     0.59159,     0.59259,     0.59359,     0.59459,      0.5956,      0.5966,      0.5976,      0.5986,      0.5996,\n",
              "            0.6006,      0.6016,      0.6026,      0.6036,      0.6046,     0.60561,     0.60661,     0.60761,     0.60861,     0.60961,     0.61061,     0.61161,     0.61261,     0.61361,     0.61461,     0.61562,     0.61662,     0.61762,     0.61862,     0.61962,     0.62062,     0.62162,     0.62262,     0.62362,\n",
              "           0.62462,     0.62563,     0.62663,     0.62763,     0.62863,     0.62963,     0.63063,     0.63163,     0.63263,     0.63363,     0.63463,     0.63564,     0.63664,     0.63764,     0.63864,     0.63964,     0.64064,     0.64164,     0.64264,     0.64364,     0.64464,     0.64565,     0.64665,     0.64765,\n",
              "           0.64865,     0.64965,     0.65065,     0.65165,     0.65265,     0.65365,     0.65465,     0.65566,     0.65666,     0.65766,     0.65866,     0.65966,     0.66066,     0.66166,     0.66266,     0.66366,     0.66466,     0.66567,     0.66667,     0.66767,     0.66867,     0.66967,     0.67067,     0.67167,\n",
              "           0.67267,     0.67367,     0.67467,     0.67568,     0.67668,     0.67768,     0.67868,     0.67968,     0.68068,     0.68168,     0.68268,     0.68368,     0.68468,     0.68569,     0.68669,     0.68769,     0.68869,     0.68969,     0.69069,     0.69169,     0.69269,     0.69369,     0.69469,      0.6957,\n",
              "            0.6967,      0.6977,      0.6987,      0.6997,      0.7007,      0.7017,      0.7027,      0.7037,      0.7047,     0.70571,     0.70671,     0.70771,     0.70871,     0.70971,     0.71071,     0.71171,     0.71271,     0.71371,     0.71471,     0.71572,     0.71672,     0.71772,     0.71872,     0.71972,\n",
              "           0.72072,     0.72172,     0.72272,     0.72372,     0.72472,     0.72573,     0.72673,     0.72773,     0.72873,     0.72973,     0.73073,     0.73173,     0.73273,     0.73373,     0.73473,     0.73574,     0.73674,     0.73774,     0.73874,     0.73974,     0.74074,     0.74174,     0.74274,     0.74374,\n",
              "           0.74474,     0.74575,     0.74675,     0.74775,     0.74875,     0.74975,     0.75075,     0.75175,     0.75275,     0.75375,     0.75475,     0.75576,     0.75676,     0.75776,     0.75876,     0.75976,     0.76076,     0.76176,     0.76276,     0.76376,     0.76476,     0.76577,     0.76677,     0.76777,\n",
              "           0.76877,     0.76977,     0.77077,     0.77177,     0.77277,     0.77377,     0.77477,     0.77578,     0.77678,     0.77778,     0.77878,     0.77978,     0.78078,     0.78178,     0.78278,     0.78378,     0.78478,     0.78579,     0.78679,     0.78779,     0.78879,     0.78979,     0.79079,     0.79179,\n",
              "           0.79279,     0.79379,     0.79479,      0.7958,      0.7968,      0.7978,      0.7988,      0.7998,      0.8008,      0.8018,      0.8028,      0.8038,      0.8048,     0.80581,     0.80681,     0.80781,     0.80881,     0.80981,     0.81081,     0.81181,     0.81281,     0.81381,     0.81481,     0.81582,\n",
              "           0.81682,     0.81782,     0.81882,     0.81982,     0.82082,     0.82182,     0.82282,     0.82382,     0.82482,     0.82583,     0.82683,     0.82783,     0.82883,     0.82983,     0.83083,     0.83183,     0.83283,     0.83383,     0.83483,     0.83584,     0.83684,     0.83784,     0.83884,     0.83984,\n",
              "           0.84084,     0.84184,     0.84284,     0.84384,     0.84484,     0.84585,     0.84685,     0.84785,     0.84885,     0.84985,     0.85085,     0.85185,     0.85285,     0.85385,     0.85485,     0.85586,     0.85686,     0.85786,     0.85886,     0.85986,     0.86086,     0.86186,     0.86286,     0.86386,\n",
              "           0.86486,     0.86587,     0.86687,     0.86787,     0.86887,     0.86987,     0.87087,     0.87187,     0.87287,     0.87387,     0.87487,     0.87588,     0.87688,     0.87788,     0.87888,     0.87988,     0.88088,     0.88188,     0.88288,     0.88388,     0.88488,     0.88589,     0.88689,     0.88789,\n",
              "           0.88889,     0.88989,     0.89089,     0.89189,     0.89289,     0.89389,     0.89489,      0.8959,      0.8969,      0.8979,      0.8989,      0.8999,      0.9009,      0.9019,      0.9029,      0.9039,      0.9049,     0.90591,     0.90691,     0.90791,     0.90891,     0.90991,     0.91091,     0.91191,\n",
              "           0.91291,     0.91391,     0.91491,     0.91592,     0.91692,     0.91792,     0.91892,     0.91992,     0.92092,     0.92192,     0.92292,     0.92392,     0.92492,     0.92593,     0.92693,     0.92793,     0.92893,     0.92993,     0.93093,     0.93193,     0.93293,     0.93393,     0.93493,     0.93594,\n",
              "           0.93694,     0.93794,     0.93894,     0.93994,     0.94094,     0.94194,     0.94294,     0.94394,     0.94494,     0.94595,     0.94695,     0.94795,     0.94895,     0.94995,     0.95095,     0.95195,     0.95295,     0.95395,     0.95495,     0.95596,     0.95696,     0.95796,     0.95896,     0.95996,\n",
              "           0.96096,     0.96196,     0.96296,     0.96396,     0.96496,     0.96597,     0.96697,     0.96797,     0.96897,     0.96997,     0.97097,     0.97197,     0.97297,     0.97397,     0.97497,     0.97598,     0.97698,     0.97798,     0.97898,     0.97998,     0.98098,     0.98198,     0.98298,     0.98398,\n",
              "           0.98498,     0.98599,     0.98699,     0.98799,     0.98899,     0.98999,     0.99099,     0.99199,     0.99299,     0.99399,     0.99499,       0.996,       0.997,       0.998,       0.999,           1]), array([[    0.93146,     0.93146,     0.92238, ...,           0,           0,           0],\n",
              "       [    0.94029,     0.94029,     0.93427, ...,           0,           0,           0]]), 'Confidence', 'Recall']]\n",
              "fitness: 0.5959873853370666\n",
              "keys: ['metrics/precision(B)', 'metrics/recall(B)', 'metrics/mAP50(B)', 'metrics/mAP50-95(B)']\n",
              "maps: array([     0.5545,     0.57026])\n",
              "names: {0: '0', 1: '1'}\n",
              "plot: True\n",
              "results_dict: {'metrics/precision(B)': 0.9050003996032431, 'metrics/recall(B)': 0.8421410611460178, 'metrics/mAP50(B)': 0.8984456207060741, 'metrics/mAP50-95(B)': 0.5623809147405102, 'fitness': 0.5959873853370666}\n",
              "save_dir: PosixPath('runs/detect/train')\n",
              "speed: {'preprocess': 0.2903322478634628, 'inference': 4.718361907268888, 'loss': 0.0007423324201574278, 'postprocess': 4.409157690690391}\n",
              "task: 'detect'"
            ]
          },
          "execution_count": 4,
          "metadata": {},
          "output_type": "execute_result"
        }
      ],
      "source": [
        "from ultralytics import YOLO\n",
        "model = YOLO(\"/content/drive/MyDrive/Dataset/runs - v8s - 81/detect/train/weights/last.pt\")\n",
        "model.train(resume = True)"
      ]
    },
    {
      "cell_type": "markdown",
      "metadata": {
        "id": "OLDzCTfiZ3Jv"
      },
      "source": [
        "# **IV. Validation**"
      ]
    },
    {
      "cell_type": "code",
      "execution_count": null,
      "metadata": {
        "colab": {
          "base_uri": "https://localhost:8080/",
          "height": 383
        },
        "id": "8C9mRQR83Wdk",
        "outputId": "71dc9ae0-ea5d-4caa-d562-4e62b75a62b4"
      },
      "outputs": [
        {
          "output_type": "error",
          "ename": "ModuleNotFoundError",
          "evalue": "ignored",
          "traceback": [
            "\u001b[0;31m---------------------------------------------------------------------------\u001b[0m",
            "\u001b[0;31mModuleNotFoundError\u001b[0m                       Traceback (most recent call last)",
            "\u001b[0;32m<ipython-input-1-41691dc886be>\u001b[0m in \u001b[0;36m<cell line: 1>\u001b[0;34m()\u001b[0m\n\u001b[0;32m----> 1\u001b[0;31m \u001b[0;32mfrom\u001b[0m \u001b[0multralytics\u001b[0m \u001b[0;32mimport\u001b[0m \u001b[0mYOLO\u001b[0m\u001b[0;34m\u001b[0m\u001b[0;34m\u001b[0m\u001b[0m\n\u001b[0m\u001b[1;32m      2\u001b[0m \u001b[0;34m\u001b[0m\u001b[0m\n\u001b[1;32m      3\u001b[0m \u001b[0;31m# Load a model\u001b[0m\u001b[0;34m\u001b[0m\u001b[0;34m\u001b[0m\u001b[0m\n\u001b[1;32m      4\u001b[0m \u001b[0;34m\u001b[0m\u001b[0m\n\u001b[1;32m      5\u001b[0m \u001b[0mmodel\u001b[0m \u001b[0;34m=\u001b[0m \u001b[0mYOLO\u001b[0m\u001b[0;34m(\u001b[0m\u001b[0;34m'/content/drive/MyDrive/Dataset/runs - v8x/detect/train/weights/best.pt'\u001b[0m\u001b[0;34m)\u001b[0m  \u001b[0;31m# load a custom model\u001b[0m\u001b[0;34m\u001b[0m\u001b[0;34m\u001b[0m\u001b[0m\n",
            "\u001b[0;31mModuleNotFoundError\u001b[0m: No module named 'ultralytics'",
            "",
            "\u001b[0;31m---------------------------------------------------------------------------\u001b[0;32m\nNOTE: If your import is failing due to a missing package, you can\nmanually install dependencies using either !pip or !apt.\n\nTo view examples of installing some common dependencies, click the\n\"Open Examples\" button below.\n\u001b[0;31m---------------------------------------------------------------------------\u001b[0m\n"
          ],
          "errorDetails": {
            "actions": [
              {
                "action": "open_url",
                "actionText": "Open Examples",
                "url": "/notebooks/snippets/importing_libraries.ipynb"
              }
            ]
          }
        }
      ],
      "source": [
        "from ultralytics import YOLO\n",
        "\n",
        "# Load a model\n",
        "\n",
        "model = YOLO('/content/drive/MyDrive/Dataset/runs - v8x/detect/train/weights/best.pt')  # load a custom model\n",
        "\n",
        "# Validate the model\n",
        "metrics = model.val()  # no arguments needed, dataset and settings remembered\n",
        "metrics.box.map    # map50-95\n",
        "metrics.box.map50  # map50\n",
        "metrics.box.map75  # map75\n",
        "metrics.box.maps   # a list contains map50-95 of each category"
      ]
    },
    {
      "cell_type": "code",
      "execution_count": null,
      "metadata": {
        "colab": {
          "base_uri": "https://localhost:8080/"
        },
        "id": "uv2xE1850pgV",
        "outputId": "a4f58d8c-e3fa-4af0-acd6-01d7c3f48ee0"
      },
      "outputs": [
        {
          "output_type": "stream",
          "name": "stdout",
          "text": [
            "Ultralytics YOLOv8.0.236 🚀 Python-3.10.12 torch-2.1.0+cu121 CPU (Intel Xeon 2.20GHz)\n",
            "Model summary (fused): 268 layers, 68125494 parameters, 0 gradients, 257.4 GFLOPs\n",
            "Downloading https://ultralytics.com/assets/Arial.ttf to '/root/.config/Ultralytics/Arial.ttf'...\n",
            "100% 755k/755k [00:00<00:00, 98.6MB/s]\n",
            "\u001b[34m\u001b[1mval: \u001b[0mScanning /content/drive/MyDrive/Safety-vest-Detection-1/test/labels.cache... 250 images, 0 backgrounds, 0 corrupt: 100% 250/250 [00:00<?, ?it/s]\n",
            "                 Class     Images  Instances      Box(P          R      mAP50  mAP50-95): 100% 16/16 [18:09<00:00, 68.09s/it]\n",
            "                   all        250       1364      0.881      0.775      0.841       0.46\n",
            "                     0        250        739        0.9      0.796      0.854      0.501\n",
            "                     1        250        625      0.862      0.754      0.828      0.418\n",
            "Speed: 7.9ms preprocess, 4306.9ms inference, 0.0ms loss, 0.6ms postprocess per image\n",
            "Results saved to \u001b[1mruns/detect/val\u001b[0m\n",
            "💡 Learn more at https://docs.ultralytics.com/modes/val\n"
          ]
        }
      ],
      "source": [
        "!yolo task = detect mode = val model='/content/drive/MyDrive/Dataset/checkpointv8x_81/weights/best.pt' data='/content/drive/MyDrive/Dataset/mydataset.yaml' split=test"
      ]
    },
    {
      "cell_type": "markdown",
      "metadata": {
        "id": "94TubYCkaCC8"
      },
      "source": [
        "# **V. Prediction**"
      ]
    },
    {
      "cell_type": "markdown",
      "metadata": {
        "id": "yl6svrdraJmW"
      },
      "source": [
        "Predict trên model last.pt"
      ]
    },
    {
      "cell_type": "code",
      "execution_count": null,
      "metadata": {
        "id": "PzSJ9Yme6MmM"
      },
      "outputs": [],
      "source": [
        "!yolo task=detect mode=predict model=\"/content/drive/MyDrive/Dataset/runs - v8x/detect/train/weights/last.pt\" source=\"/content/drive/MyDrive/Dataset/test/images/\""
      ]
    },
    {
      "cell_type": "markdown",
      "metadata": {
        "id": "YcanmpzhaNlP"
      },
      "source": [
        "Predict trên model best.pt"
      ]
    },
    {
      "cell_type": "code",
      "execution_count": null,
      "metadata": {
        "colab": {
          "background_save": true,
          "base_uri": "https://localhost:8080/"
        },
        "id": "JdS9xHSK65tf",
        "outputId": "a6dfa106-55f3-4987-da03-5e1ca7102a72"
      },
      "outputs": [
        {
          "name": "stdout",
          "output_type": "stream",
          "text": [
            "Ultralytics YOLOv8.0.229 🚀 Python-3.10.12 torch-2.1.0+cu121 CPU (Intel Xeon 2.20GHz)\n",
            "Model summary (fused): 268 layers, 68125494 parameters, 0 gradients, 257.4 GFLOPs\n",
            "\n",
            "image 1/1015 /content/drive/MyDrive/Safety-vest-Detection-8/test/images/00060_jpg.rf.37b85e66f9bf4589c3855f3fc914238b.jpg: 640x640 12 0s, 11 1s, 5933.8ms\n",
            "image 2/1015 /content/drive/MyDrive/Safety-vest-Detection-8/test/images/00121_jpg.rf.9145bb5316d915fff511883dbeb99ff4.jpg: 640x640 1 0, 1 1, 4548.8ms\n",
            "image 3/1015 /content/drive/MyDrive/Safety-vest-Detection-8/test/images/00125_jpg.rf.d52f6917af36a53f3c646fed11eaf585.jpg: 640x640 1 0, 1 1, 6032.3ms\n",
            "image 4/1015 /content/drive/MyDrive/Safety-vest-Detection-8/test/images/00126_jpg.rf.70f191a85de583a600de462157d0e612.jpg: 640x640 1 0, 1 1, 4053.9ms\n",
            "image 5/1015 /content/drive/MyDrive/Safety-vest-Detection-8/test/images/00126_jpg.rf.dbe1704bcdd0e7ff6b0807644a349f8e.jpg: 640x640 1 0, 1 1, 4001.6ms\n",
            "image 6/1015 /content/drive/MyDrive/Safety-vest-Detection-8/test/images/00173_jpg.rf.ac2be05ce9f38e4f2d7b9806f4d76141.jpg: 640x640 2 0s, 2 1s, 5708.9ms\n",
            "image 7/1015 /content/drive/MyDrive/Safety-vest-Detection-8/test/images/00212_jpg.rf.af95019f1a4d1feee932eaba3e73bee4.jpg: 640x640 1 0, 1 1, 4480.2ms\n",
            "image 8/1015 /content/drive/MyDrive/Safety-vest-Detection-8/test/images/00350_jpg.rf.dbb0359a6c6d81c5fa65d5729eb851c3.jpg: 640x640 9 0s, 10 1s, 4048.5ms\n",
            "image 9/1015 /content/drive/MyDrive/Safety-vest-Detection-8/test/images/00486_jpg.rf.04fadb61ab56b14f666b329576179726.jpg: 640x640 1 0, 4875.7ms\n",
            "image 10/1015 /content/drive/MyDrive/Safety-vest-Detection-8/test/images/044504200_jpg.rf.378947d06a7c806b96511596b82b9913.jpg: 640x640 4 0s, 4 1s, 5321.7ms\n",
            "image 11/1015 /content/drive/MyDrive/Safety-vest-Detection-8/test/images/1-1685321206_jpg.rf.9768febbfd1dfabe396c18c2ce70bef7.jpg: 640x640 3 0s, 2 1s, 4321.8ms\n",
            "image 12/1015 /content/drive/MyDrive/Safety-vest-Detection-8/test/images/1-9_jpg.rf.5dcc75de4ff84e59d443573974f9043c.jpg: 640x640 6 0s, 6 1s, 4052.6ms\n",
            "image 13/1015 /content/drive/MyDrive/Safety-vest-Detection-8/test/images/105_JPG_jpg.rf.21874d4bc80d29f233e861242c42ea0c.jpg: 640x640 1 0, 6204.4ms\n",
            "image 14/1015 /content/drive/MyDrive/Safety-vest-Detection-8/test/images/3_14415419092022_jpg.rf.9b70df621351ea15e7657775d78036f4.jpg: 640x640 3 0s, 2 1s, 3948.8ms\n",
            "image 15/1015 /content/drive/MyDrive/Safety-vest-Detection-8/test/images/56742f77-632f-4e2c-a49e-7ccf247e0b5a-1820_jpeg.rf.76dd2a1647a7d3f2fa2259f75777f732.jpg: 640x640 2 0s, 1 1, 3988.7ms\n",
            "image 16/1015 /content/drive/MyDrive/Safety-vest-Detection-8/test/images/6637881955027447196_jpg.rf.f413d11d8c1ec97bbe2fd64d5bca29f8.jpg: 640x640 2 0s, 2 1s, 5480.7ms\n",
            "image 17/1015 /content/drive/MyDrive/Safety-vest-Detection-8/test/images/6bd730ee-14f0-43b2-8162-a53561eb82a4_jpg.rf.c6e00050a06ca2c3895e318b8d04574b.jpg: 640x640 5 0s, 3 1s, 4875.7ms\n",
            "image 18/1015 /content/drive/MyDrive/Safety-vest-Detection-8/test/images/95_JPG_jpg.rf.d425558b499b680e734e47e1f7397d8a.jpg: 640x640 1 0, 3985.2ms\n",
            "image 19/1015 /content/drive/MyDrive/Safety-vest-Detection-8/test/images/AightOne0873_jpg.rf.451b7c8617faf49f26be617c2640fdb1.jpg: 640x640 2 0s, 2 1s, 4561.8ms\n",
            "image 20/1015 /content/drive/MyDrive/Safety-vest-Detection-8/test/images/AightSird0542_jpg.rf.89b45aaa4590c7376d2892442e473424.jpg: 640x640 2 0s, 2 1s, 5546.4ms\n",
            "image 21/1015 /content/drive/MyDrive/Safety-vest-Detection-8/test/images/Aitin1410_jpg.rf.04730761707003e225306ff040f7ff77.jpg: 640x640 6 0s, 8 1s, 3963.4ms\n",
            "image 22/1015 /content/drive/MyDrive/Safety-vest-Detection-8/test/images/Aitin2742_jpg.rf.2585b3194f2789d4cb2d0837dfa729e8.jpg: 640x640 1 0, 1 1, 4004.0ms\n",
            "image 23/1015 /content/drive/MyDrive/Safety-vest-Detection-8/test/images/Aitin3626_jpg.rf.50339b38c319b4811c2277966b81e7dd.jpg: 640x640 7 0s, 13 1s, 5867.2ms\n",
            "image 24/1015 /content/drive/MyDrive/Safety-vest-Detection-8/test/images/Aitin3852_jpg.rf.ad95f7ce703a2b5fd91b6287e26d2101.jpg: 640x640 5 0s, 6 1s, 4256.0ms\n",
            "image 25/1015 /content/drive/MyDrive/Safety-vest-Detection-8/test/images/Anh-cong-nhan-Dien-luc-My-Tu-sua-chua-duong-day-dien-cho-ho-ngheo_jpg.rf.42a56ad270c29ab9d5532aa26638d959.jpg: 640x640 3 0s, 2 1s, 8693.1ms\n",
            "image 26/1015 /content/drive/MyDrive/Safety-vest-Detection-8/test/images/Dien-2_JPG.rf.564f216903aaa461a9639a4bef80706d.jpg: 640x640 5 0s, 5 1s, 5795.4ms\n",
            "image 27/1015 /content/drive/MyDrive/Safety-vest-Detection-8/test/images/EVN_jpg.rf.4cfc59734d182c6931ce05ad43abaa54.jpg: 640x640 5 0s, 5 1s, 4113.3ms\n",
            "image 28/1015 /content/drive/MyDrive/Safety-vest-Detection-8/test/images/KakaoTalk_20221018_001219713_24_jpg.rf.20acb52915e841abd41bb79a66c58d7d.jpg: 640x640 1 0, 1 1, 4015.7ms\n",
            "image 29/1015 /content/drive/MyDrive/Safety-vest-Detection-8/test/images/KakaoTalk_20221018_001219713_24_jpg.rf.344ab7b6c538bf115531766e6fb7f0d3.jpg: 640x640 1 0, 1 1, 5923.2ms\n",
            "image 30/1015 /content/drive/MyDrive/Safety-vest-Detection-8/test/images/KakaoTalk_20221018_001312059_02_jpg.rf.f212fe4a717e6379c002cdf89f0183c2.jpg: 640x640 1 0, 1 1, 4302.9ms\n",
            "image 31/1015 /content/drive/MyDrive/Safety-vest-Detection-8/test/images/KakaoTalk_20221018_001726988_01_jpg.rf.fbf5307f431d3db720ff12f5fe01be95.jpg: 640x640 1 0, 1 1, 3982.5ms\n",
            "image 32/1015 /content/drive/MyDrive/Safety-vest-Detection-8/test/images/KakaoTalk_20221018_001836614_12_jpg.rf.2f819faeef72d3203e8f3efe3b2d6b0e.jpg: 640x640 1 0, 1 1, 4788.2ms\n",
            "image 33/1015 /content/drive/MyDrive/Safety-vest-Detection-8/test/images/KakaoTalk_20221018_001836614_12_jpg.rf.d3ab3961f767ac55028f3df9dcccb741.jpg: 640x640 1 0, 1 1, 5459.0ms\n",
            "image 34/1015 /content/drive/MyDrive/Safety-vest-Detection-8/test/images/Khong-co-tieu-de_jpg.rf.7849e845d2336aa2e398da45a53a81ff.jpg: 640x640 4 0s, 4 1s, 3977.6ms\n",
            "image 35/1015 /content/drive/MyDrive/Safety-vest-Detection-8/test/images/Nein1018_jpg.rf.4723ea67aa8518bcb449f31dcd6662e2.jpg: 640x640 1 0, 1 1, 3984.1ms\n",
            "image 36/1015 /content/drive/MyDrive/Safety-vest-Detection-8/test/images/Nein4731_jpg.rf.7ad0f58366cfef2bd0ce9ca11e042b89.jpg: 640x640 1 1, 6102.4ms\n",
            "image 37/1015 /content/drive/MyDrive/Safety-vest-Detection-8/test/images/Nein5541_jpg.rf.7873abb8c598ce566a0495b26792182a.jpg: 640x640 1 1, 4064.7ms\n",
            "image 38/1015 /content/drive/MyDrive/Safety-vest-Detection-8/test/images/Photin0180_jpg.rf.281df9fbd9e38ee3449078741cd27389.jpg: 640x640 1 1, 4010.4ms\n",
            "image 39/1015 /content/drive/MyDrive/Safety-vest-Detection-8/test/images/Photin0221_jpg.rf.0fe5d9b7c04d98028d1a5706994b0c93.jpg: 640x640 1 1, 5285.6ms\n",
            "image 40/1015 /content/drive/MyDrive/Safety-vest-Detection-8/test/images/Photin0518_jpg.rf.960f94bc131c47eda6262ddb91b15d68.jpg: 640x640 2 1s, 4977.1ms\n",
            "image 41/1015 /content/drive/MyDrive/Safety-vest-Detection-8/test/images/Photin0826_jpg.rf.9884cdb2d9b57ab8c6b960be8077bcae.jpg: 640x640 1 1, 3939.5ms\n",
            "image 42/1015 /content/drive/MyDrive/Safety-vest-Detection-8/test/images/TNPDu_78_jpg.rf.bcc427f80e8c6aece5340dbbb9e82f4a.jpg: 640x640 1 0, 1 1, 4541.6ms\n",
            "image 43/1015 /content/drive/MyDrive/Safety-vest-Detection-8/test/images/Tan0827827_jpg.rf.f8e26e53f88f225e55d7599bb52625b5.jpg: 640x640 1 0, 1 1, 6823.3ms\n",
            "image 44/1015 /content/drive/MyDrive/Safety-vest-Detection-8/test/images/TsirinTu0020_jpg.rf.609755916bd93d67f6af0105a6be11fb.jpg: 640x640 7 0s, 6 1s, 5326.0ms\n",
            "image 45/1015 /content/drive/MyDrive/Safety-vest-Detection-8/test/images/Twalv0396_jpg.rf.a9cc4ed06864c954f8da66e3f285f717.jpg: 640x640 2 1s, 4073.9ms\n",
            "image 46/1015 /content/drive/MyDrive/Safety-vest-Detection-8/test/images/Twalv0995_jpg.rf.db43ba39c8173b29726e4cfebeb44831.jpg: 640x640 1 1, 4237.5ms\n",
            "image 47/1015 /content/drive/MyDrive/Safety-vest-Detection-8/test/images/Twalv1015_jpg.rf.b39d34ef56e2de374de7810a5843f98b.jpg: 640x640 1 1, 6086.2ms\n",
            "image 48/1015 /content/drive/MyDrive/Safety-vest-Detection-8/test/images/Video1_163_jpg.rf.9c901c7c0175f431dc31e7749c46261f.jpg: 640x640 1 0, 1 1, 4010.3ms\n",
            "image 49/1015 /content/drive/MyDrive/Safety-vest-Detection-8/test/images/Video1_173_jpg.rf.383bd428aed203f78a49852960bd7e5e.jpg: 640x640 1 0, 1 1, 3985.9ms\n",
            "image 50/1015 /content/drive/MyDrive/Safety-vest-Detection-8/test/images/Video1_186_jpg.rf.35fd29b4ee46157b10f34bd75795b1e4.jpg: 640x640 1 0, 1 1, 5738.6ms\n",
            "image 51/1015 /content/drive/MyDrive/Safety-vest-Detection-8/test/images/Video1_232_jpg.rf.d300f74b202ca23882d54437e30bd371.jpg: 640x640 1 0, 1 1, 4579.3ms\n",
            "image 52/1015 /content/drive/MyDrive/Safety-vest-Detection-8/test/images/Video1_31_jpg.rf.2699380e97878f8d0c5e68efb4facbfa.jpg: 640x640 1 0, 1 1, 4081.3ms\n",
            "image 53/1015 /content/drive/MyDrive/Safety-vest-Detection-8/test/images/Video1_33_jpg.rf.2d281f5f755745fa6ac8ad3a2b5fa7fa.jpg: 640x640 1 0, 1 1, 4667.7ms\n",
            "image 54/1015 /content/drive/MyDrive/Safety-vest-Detection-8/test/images/Video1_53_jpg.rf.4e525a6b4da7894dea15d1d6f009c5c8.jpg: 640x640 1 0, 1 1, 5503.7ms\n",
            "image 55/1015 /content/drive/MyDrive/Safety-vest-Detection-8/test/images/Video2_133_jpg.rf.93a4052a34d472f9d54498cc3ce0ac64.jpg: 640x640 1 0, 1 1, 4071.8ms\n",
            "image 56/1015 /content/drive/MyDrive/Safety-vest-Detection-8/test/images/Video2_136_jpg.rf.572a584f3d001cb82ca82bd9a3c2ed3f.jpg: 640x640 1 0, 1 1, 4014.4ms\n",
            "image 57/1015 /content/drive/MyDrive/Safety-vest-Detection-8/test/images/Video2_138_jpg.rf.767d419e9de3ced7e45658fb38c001fd.jpg: 640x640 1 0, 1 1, 6131.3ms\n",
            "image 58/1015 /content/drive/MyDrive/Safety-vest-Detection-8/test/images/Video2_150_jpg.rf.d6e71398933949f0a2cc49906c517fa6.jpg: 640x640 1 0, 1 1, 4161.9ms\n",
            "image 59/1015 /content/drive/MyDrive/Safety-vest-Detection-8/test/images/Video2_1_jpg.rf.3e33bac5eab7399c57bf31b4852ac690.jpg: 640x640 1 0, 1 1, 4044.5ms\n",
            "image 60/1015 /content/drive/MyDrive/Safety-vest-Detection-8/test/images/Video2_3_jpg.rf.f0a38cecaa89f6342b532fc58675808a.jpg: 640x640 1 0, 1 1, 5349.9ms\n",
            "image 61/1015 /content/drive/MyDrive/Safety-vest-Detection-8/test/images/Video2_49_jpg.rf.dccb554a9765d49a607e50b85e0c533d.jpg: 640x640 1 0, 1 1, 4883.0ms\n",
            "image 62/1015 /content/drive/MyDrive/Safety-vest-Detection-8/test/images/Video2_51_jpg.rf.00f1486abc7ffa4e3542aa96461c18c0.jpg: 640x640 1 0, 1 1, 3974.4ms\n",
            "image 63/1015 /content/drive/MyDrive/Safety-vest-Detection-8/test/images/Video2_8_jpg.rf.e0be81da34a2777602c82ac9b68ba706.jpg: 640x640 1 0, 1 1, 4203.1ms\n",
            "image 64/1015 /content/drive/MyDrive/Safety-vest-Detection-8/test/images/Video2_9_jpg.rf.9dcaaf201902a95b0767fbae6d0ec93a.jpg: 640x640 1 0, 1 1, 6023.3ms\n",
            "image 65/1015 /content/drive/MyDrive/Safety-vest-Detection-8/test/images/Video3_115_jpg.rf.971121fa90bf0a2fb41f55280863cad9.jpg: 640x640 1 0, 1 1, 3968.5ms\n",
            "image 66/1015 /content/drive/MyDrive/Safety-vest-Detection-8/test/images/Video3_129_jpg.rf.2b394c82ee108fdf6c02ff1383adf37f.jpg: 640x640 1 0, 1 1, 3995.8ms\n",
            "image 67/1015 /content/drive/MyDrive/Safety-vest-Detection-8/test/images/Video3_129_jpg.rf.beb4a5de5368c7bb44594424d107da21.jpg: 640x640 1 0, 1 1, 5688.4ms\n",
            "image 68/1015 /content/drive/MyDrive/Safety-vest-Detection-8/test/images/Video3_136_jpg.rf.6773f19f908ab27e7ad54ca39c130a04.jpg: 640x640 1 0, 1 1, 4563.3ms\n",
            "image 69/1015 /content/drive/MyDrive/Safety-vest-Detection-8/test/images/Video3_13_jpg.rf.6f548ab8bd3b4e8641390be4c56d619b.jpg: 640x640 1 0, 1 1, 4027.5ms\n",
            "image 70/1015 /content/drive/MyDrive/Safety-vest-Detection-8/test/images/Video3_147_jpg.rf.41f4608a5d47ea0254fbe5f6f4ae228f.jpg: 640x640 1 0, 1 1, 4784.6ms\n",
            "image 71/1015 /content/drive/MyDrive/Safety-vest-Detection-8/test/images/Video3_14_jpg.rf.1a8f6bde46bf976823a8aff69d5e29f4.jpg: 640x640 1 0, 1 1, 5476.3ms\n",
            "image 72/1015 /content/drive/MyDrive/Safety-vest-Detection-8/test/images/Video3_153_jpg.rf.8aa98e1f847ad59c3032f89f97dd3b14.jpg: 640x640 1 0, 1 1, 4147.9ms\n",
            "image 73/1015 /content/drive/MyDrive/Safety-vest-Detection-8/test/images/Video3_155_jpg.rf.24f16e528d19be4c87e896817d2bb98c.jpg: 640x640 1 0, 1 1, 5532.3ms\n",
            "image 74/1015 /content/drive/MyDrive/Safety-vest-Detection-8/test/images/Video3_163_jpg.rf.1f439ecf0e470ebfd8387b26b3f0c2a9.jpg: 640x640 1 0, 1 1, 5827.9ms\n",
            "image 75/1015 /content/drive/MyDrive/Safety-vest-Detection-8/test/images/Video3_167_jpg.rf.85fd746fc43aa15dffe602be78ddb236.jpg: 640x640 1 0, 1 1, 4019.0ms\n",
            "image 76/1015 /content/drive/MyDrive/Safety-vest-Detection-8/test/images/Video3_235_jpg.rf.e88021fc273d8867f04b40f70c087969.jpg: 640x640 1 0, 1 1, 4041.2ms\n",
            "image 77/1015 /content/drive/MyDrive/Safety-vest-Detection-8/test/images/Video3_238_jpg.rf.77f8f9973584f34e6a1b9a58bd1c6dd9.jpg: 640x640 1 0, 1 1, 5854.3ms\n",
            "image 78/1015 /content/drive/MyDrive/Safety-vest-Detection-8/test/images/Video3_238_jpg.rf.96b5b6e29a4a9487102484e618a43ffa.jpg: 640x640 1 0, 1 1, 4416.8ms\n",
            "image 79/1015 /content/drive/MyDrive/Safety-vest-Detection-8/test/images/Video3_241_jpg.rf.b8a5d413d6a1294355925aeed52b507d.jpg: 640x640 1 0, 1 1, 3980.4ms\n",
            "image 80/1015 /content/drive/MyDrive/Safety-vest-Detection-8/test/images/Video3_273_jpg.rf.5fe525d77d1c6e266cd6a9c2648b0f1f.jpg: 640x640 1 0, 1 1, 4884.5ms\n",
            "image 81/1015 /content/drive/MyDrive/Safety-vest-Detection-8/test/images/Video3_279_jpg.rf.930f19e251cd86425b42e7eeadd3a404.jpg: 640x640 1 0, 1 1, 5323.1ms\n",
            "image 82/1015 /content/drive/MyDrive/Safety-vest-Detection-8/test/images/Video3_28_jpg.rf.2a86e2bda015cd3093804525ce10d4f5.jpg: 640x640 1 0, 1 1, 4022.1ms\n",
            "image 83/1015 /content/drive/MyDrive/Safety-vest-Detection-8/test/images/Video3_33_jpg.rf.e89dd434bfe6421993dcb86f62c1749f.jpg: 640x640 1 0, 1 1, 4579.6ms\n",
            "image 84/1015 /content/drive/MyDrive/Safety-vest-Detection-8/test/images/Video4_11_jpg.rf.9ce0249793b4e2fadcbf74f7ad0e74be.jpg: 640x640 1 0, 1 1, 6208.5ms\n",
            "image 85/1015 /content/drive/MyDrive/Safety-vest-Detection-8/test/images/Video4_14_jpg.rf.c66c9d9ff8fe4b2b6256b8c836fe92f7.jpg: 640x640 1 0, 1 1, 5089.5ms\n",
            "image 86/1015 /content/drive/MyDrive/Safety-vest-Detection-8/test/images/Video4_227_jpg.rf.56e106311112fca316f5e77974bc4ca2.jpg: 640x640 1 0, 2 1s, 3985.0ms\n",
            "image 87/1015 /content/drive/MyDrive/Safety-vest-Detection-8/test/images/Video4_231_jpg.rf.700d98724461bad832ed03acd7356498.jpg: 640x640 1 0, 1 1, 6549.1ms\n",
            "image 88/1015 /content/drive/MyDrive/Safety-vest-Detection-8/test/images/Video4_233_jpg.rf.7c67819a7af3d53c2965d0db4161c59b.jpg: 640x640 1 0, 1 1, 6670.6ms\n",
            "image 89/1015 /content/drive/MyDrive/Safety-vest-Detection-8/test/images/Video4_237_jpg.rf.9568f8ba0848834474c74bdfea2ab0fa.jpg: 640x640 1 0, 1 1, 4661.0ms\n",
            "image 90/1015 /content/drive/MyDrive/Safety-vest-Detection-8/test/images/Video4_267_jpg.rf.6e509673d02ee3e7e625c4f75dfb1187.jpg: 640x640 1 0, 1 1, 3984.9ms\n",
            "image 91/1015 /content/drive/MyDrive/Safety-vest-Detection-8/test/images/Video4_270_jpg.rf.9351434f48d7e1d43f72c27613ac219e.jpg: 640x640 1 0, 1 1, 4760.9ms\n",
            "image 92/1015 /content/drive/MyDrive/Safety-vest-Detection-8/test/images/Video4_274_jpg.rf.7374eb56e8f993b79be7d91041e0d3e6.jpg: 640x640 1 0, 1 1, 5369.6ms\n",
            "image 93/1015 /content/drive/MyDrive/Safety-vest-Detection-8/test/images/Video4_39_jpg.rf.e105b975923577e59032e0e3e4646706.jpg: 640x640 1 0, 1 1, 4020.0ms\n",
            "image 94/1015 /content/drive/MyDrive/Safety-vest-Detection-8/test/images/Video4_40_jpg.rf.450e57737ee61248cb59f5d0d9fd8217.jpg: 640x640 1 0, 1 1, 3936.6ms\n",
            "image 95/1015 /content/drive/MyDrive/Safety-vest-Detection-8/test/images/Video4_45_jpg.rf.9db84d970eb841b19bba9f994c0dc1e7.jpg: 640x640 1 0, 1 1, 6112.5ms\n",
            "image 96/1015 /content/drive/MyDrive/Safety-vest-Detection-8/test/images/baodaknong-org-vn-database-image-2019-09-12-_3133-tt-11_jpg.rf.d7854c6747b78a8bbb1093958c2615d5.jpg: 640x640 1 0, 1 1, 4164.8ms\n",
            "image 97/1015 /content/drive/MyDrive/Safety-vest-Detection-8/test/images/baodaknong-org-vn-database-image-2020-01-20-_tt30-3_jpg.rf.f603c6336fe464befc4a1d353176f81f.jpg: 640x640 3 0s, 2 1s, 4062.9ms\n",
            "image 98/1015 /content/drive/MyDrive/Safety-vest-Detection-8/test/images/baodaknong-org-vn-database-image-2021-09-01-_3654-tt-20_jpg.rf.7812e054ec105edb7ff623606f83ad58.jpg: 640x640 2 0s, 2 1s, 5152.7ms\n",
            "image 99/1015 /content/drive/MyDrive/Safety-vest-Detection-8/test/images/cong-nhan-dien-lam-viec-ngoai-troi-nang-nong_jpg.rf.2d2856a0ee6442d05e27047e04d1ba85.jpg: 640x640 2 0s, 2 1s, 4945.8ms\n",
            "image 100/1015 /content/drive/MyDrive/Safety-vest-Detection-8/test/images/dien-luc-16825826727621290800061_jpg.rf.e90c689c72ba3ed3c3f4adbd6afa6008.jpg: 640x640 2 0s, 2 1s, 4058.3ms\n",
            "image 101/1015 /content/drive/MyDrive/Safety-vest-Detection-8/test/images/dien-luc-huyen-mo-duc_jpg.rf.50bfbfbd240a0bc18be5528dd4a25030.jpg: 640x640 2 0s, 2 1s, 4199.6ms\n",
            "image 102/1015 /content/drive/MyDrive/Safety-vest-Detection-8/test/images/dien-luc-mt1_jpg.rf.026d881a8768c7b728d6c19f348cf341.jpg: 640x640 4 0s, 5 1s, 6005.9ms\n",
            "image 103/1015 /content/drive/MyDrive/Safety-vest-Detection-8/test/images/dl-1686217745673268036531-0-123-900-1563-crop-16862177496521206636405_jpg.rf.261283b5d22040ef62e0e242b6824e2d.jpg: 640x640 6 0s, 6 1s, 3987.0ms\n",
            "image 104/1015 /content/drive/MyDrive/Safety-vest-Detection-8/test/images/dluc-1653280770_jpg.rf.b424243127b400f1b2adb933ef6703ad.jpg: 640x640 3 0s, 3 1s, 4034.3ms\n",
            "image 105/1015 /content/drive/MyDrive/Safety-vest-Detection-8/test/images/download-7-_jpg.rf.aa01c1fddb7e982fb460155707957eb0.jpg: 640x640 2 0s, 2 1s, 5757.4ms\n",
            "image 106/1015 /content/drive/MyDrive/Safety-vest-Detection-8/test/images/image_151_jpg.rf.9b0a24ad723e0cd1ddb24c6cd867367e.jpg: 640x640 1 0, 1 1, 4536.0ms\n",
            "image 107/1015 /content/drive/MyDrive/Safety-vest-Detection-8/test/images/image_153-1-_jpg.rf.947e96ee2515ce7aad10c35724721a1d.jpg: 640x640 1 0, 1 1, 4001.0ms\n",
            "image 108/1015 /content/drive/MyDrive/Safety-vest-Detection-8/test/images/image_153_jpg.rf.9de4ec701c658d71cd5f8271482cc712.jpg: 640x640 1 0, 4541.6ms\n",
            "image 109/1015 /content/drive/MyDrive/Safety-vest-Detection-8/test/images/image_155_jpg.rf.b3370be2facf224960f42afaca1f4a6a.jpg: 640x640 1 0, 1 1, 5524.1ms\n",
            "image 110/1015 /content/drive/MyDrive/Safety-vest-Detection-8/test/images/image_158_jpg.rf.41636e047455c78bc68e82f416a1876f.jpg: 640x640 1 0, 1 1, 4027.8ms\n",
            "image 111/1015 /content/drive/MyDrive/Safety-vest-Detection-8/test/images/image_158_jpg.rf.6b80a358141f421bf4b31a5259cef571.jpg: 640x640 1 0, 1 1, 3940.8ms\n",
            "image 112/1015 /content/drive/MyDrive/Safety-vest-Detection-8/test/images/image_159_jpg.rf.1595b9d15a9a498d8d656f8deddbde23.jpg: 640x640 1 0, 1 1, 6011.4ms\n",
            "image 113/1015 /content/drive/MyDrive/Safety-vest-Detection-8/test/images/image_159_jpg.rf.7a2ae374a7e400eb9d9e87b03ba0acd8.jpg: 640x640 1 0, 1 1, 4346.5ms\n",
            "image 114/1015 /content/drive/MyDrive/Safety-vest-Detection-8/test/images/image_163_jpg.rf.3fad4a4c780c41edf04a9d09537032fb.jpg: 640x640 1 0, 1 1, 3977.7ms\n",
            "image 115/1015 /content/drive/MyDrive/Safety-vest-Detection-8/test/images/image_166_jpg.rf.4521720a87bafc7057fc72f8a92a2787.jpg: 640x640 1 0, 1 1, 4948.4ms\n",
            "image 116/1015 /content/drive/MyDrive/Safety-vest-Detection-8/test/images/image_168_jpg.rf.305b3ad5a26affb784f407a36da1ed97.jpg: 640x640 1 0, 1 1, 5179.4ms\n",
            "image 117/1015 /content/drive/MyDrive/Safety-vest-Detection-8/test/images/image_170_jpg.rf.d88ffc1b0e25c51b43b16a9fa2e0a879.jpg: 640x640 2 0s, 1 1, 4050.5ms\n",
            "image 118/1015 /content/drive/MyDrive/Safety-vest-Detection-8/test/images/image_174_jpg.rf.ed39c4471be1eac709cc6c462a25cf2d.jpg: 640x640 1 0, 1 1, 4095.7ms\n",
            "image 119/1015 /content/drive/MyDrive/Safety-vest-Detection-8/test/images/image_175_jpg.rf.4adc263161ef57560c5a133bdc3c6997.jpg: 640x640 1 0, 6208.2ms\n",
            "image 120/1015 /content/drive/MyDrive/Safety-vest-Detection-8/test/images/image_185_jpg.rf.dcf760a9ad88a55d5948945470bc8522.jpg: 640x640 1 0, 1 1, 4039.3ms\n",
            "image 121/1015 /content/drive/MyDrive/Safety-vest-Detection-8/test/images/image_185_jpg.rf.ef7a5e323712aac33aa94ae5aa6535e6.jpg: 640x640 1 0, 1 1, 3952.8ms\n",
            "image 122/1015 /content/drive/MyDrive/Safety-vest-Detection-8/test/images/image_186_jpg.rf.078362d10fbc49ae08b7d28cd3f346d9.jpg: 640x640 1 0, 1 1, 5563.4ms\n",
            "image 123/1015 /content/drive/MyDrive/Safety-vest-Detection-8/test/images/image_186_jpg.rf.327e8f0f908e3e5e5651caaa702b72d5.jpg: 640x640 1 0, 1 1, 4663.5ms\n",
            "image 124/1015 /content/drive/MyDrive/Safety-vest-Detection-8/test/images/image_189_jpg.rf.95605974ad8c7334ec7bca2e41061e02.jpg: 640x640 1 0, 1 1, 4060.1ms\n",
            "image 125/1015 /content/drive/MyDrive/Safety-vest-Detection-8/test/images/image_190_jpg.rf.df807d3ac1a4b837f0fb6831ea155be5.jpg: 640x640 1 0, 1 1, 4893.5ms\n",
            "image 126/1015 /content/drive/MyDrive/Safety-vest-Detection-8/test/images/image_192_jpg.rf.d821fb9bbf20d60642886801cb3da405.jpg: 640x640 1 0, 1 1, 5417.0ms\n",
            "image 127/1015 /content/drive/MyDrive/Safety-vest-Detection-8/test/images/image_193_jpg.rf.1f1f98872a7b9b83d06a75451aeb61d9.jpg: 640x640 1 0, 1 1, 3994.2ms\n",
            "image 128/1015 /content/drive/MyDrive/Safety-vest-Detection-8/test/images/image_196_jpg.rf.7a744a0cfc86240d59148bae2a8080ee.jpg: 640x640 1 0, 1 1, 3944.9ms\n",
            "image 129/1015 /content/drive/MyDrive/Safety-vest-Detection-8/test/images/image_199_jpg.rf.f125028c99bee21b8e85007e189cd119.jpg: 640x640 1 0, 1 1, 6748.5ms\n",
            "image 130/1015 /content/drive/MyDrive/Safety-vest-Detection-8/test/images/image_203_jpg.rf.b010c4584dd225427fb13dcacd17f27e.jpg: 640x640 1 0, 1 1, 4932.7ms\n",
            "image 131/1015 /content/drive/MyDrive/Safety-vest-Detection-8/test/images/image_204_jpg.rf.bea61702d19a4f46608118b7506fb360.jpg: 640x640 1 0, 1 1, 5501.9ms\n",
            "image 132/1015 /content/drive/MyDrive/Safety-vest-Detection-8/test/images/image_211_jpg.rf.bed17675f2b8d537d8940c34c981f6e8.jpg: 640x640 1 0, 1 1, 6706.5ms\n",
            "image 133/1015 /content/drive/MyDrive/Safety-vest-Detection-8/test/images/image_212_jpg.rf.0b3a94ecfdda934730e5d09ccd62f6e4.jpg: 640x640 1 0, 1 1, 5571.2ms\n",
            "image 134/1015 /content/drive/MyDrive/Safety-vest-Detection-8/test/images/image_213_jpg.rf.2cc8349e24d575507c89084723850a12.jpg: 640x640 1 0, 1 1, 4460.9ms\n",
            "image 135/1015 /content/drive/MyDrive/Safety-vest-Detection-8/test/images/image_219_jpg.rf.33821f8064898e0bd8a2d2357edd3213.jpg: 640x640 1 0, 1 1, 4714.7ms\n",
            "image 136/1015 /content/drive/MyDrive/Safety-vest-Detection-8/test/images/image_224_jpg.rf.09cc0127b77f7c1013e5da000d05608c.jpg: 640x640 1 0, 1 1, 6417.0ms\n",
            "image 137/1015 /content/drive/MyDrive/Safety-vest-Detection-8/test/images/image_225_jpg.rf.70523f4985265205a8b2be843c54afd3.jpg: 640x640 1 0, 1 1, 4417.3ms\n",
            "image 138/1015 /content/drive/MyDrive/Safety-vest-Detection-8/test/images/image_225_jpg.rf.ab22bc0380a0be15ccb6f36071dfc616.jpg: 640x640 1 0, 1 1, 4046.4ms\n",
            "image 139/1015 /content/drive/MyDrive/Safety-vest-Detection-8/test/images/image_227_jpg.rf.c33ba33d7bfd8ff7ff4690554e1216b5.jpg: 640x640 1 0, 1 1, 6155.8ms\n",
            "image 140/1015 /content/drive/MyDrive/Safety-vest-Detection-8/test/images/image_231_jpg.rf.602067343a564ff0173e6d325b51ee93.jpg: 640x640 1 0, 1 1, 4748.4ms\n",
            "image 141/1015 /content/drive/MyDrive/Safety-vest-Detection-8/test/images/image_235_jpg.rf.5991bcd712c5c86a6de92f21ceeb2673.jpg: 640x640 1 0, 1 1, 4200.8ms\n",
            "image 142/1015 /content/drive/MyDrive/Safety-vest-Detection-8/test/images/image_237_jpg.rf.52238fcecffb6150aa25ace34c311755.jpg: 640x640 1 0, 1 1, 5678.0ms\n",
            "image 143/1015 /content/drive/MyDrive/Safety-vest-Detection-8/test/images/image_238_jpg.rf.3c01e777e0ca0eae97fe4652239e411b.jpg: 640x640 1 0, 1 1, 5044.1ms\n",
            "image 144/1015 /content/drive/MyDrive/Safety-vest-Detection-8/test/images/image_241_jpg.rf.d636c2db85be8135e44941fa4ee6325d.jpg: 640x640 1 0, 1 1, 4555.6ms\n",
            "image 145/1015 /content/drive/MyDrive/Safety-vest-Detection-8/test/images/image_243_jpg.rf.55de9663bc8ee41982c4ab7bc222d06c.jpg: 640x640 1 0, 1 1, 4743.2ms\n",
            "image 146/1015 /content/drive/MyDrive/Safety-vest-Detection-8/test/images/image_245_jpg.rf.a2150f882776c6d10c69e1bb1751dbbf.jpg: 640x640 1 0, 1 1, 5595.0ms\n",
            "image 147/1015 /content/drive/MyDrive/Safety-vest-Detection-8/test/images/image_255_jpg.rf.6cefa3cd1ec21b0816501859cc689a7c.jpg: 640x640 1 0, 1 1, 4013.6ms\n",
            "image 148/1015 /content/drive/MyDrive/Safety-vest-Detection-8/test/images/image_293_jpg.rf.b4580ba7fa12fe994a44b8d52f45ec66.jpg: 640x640 1 0, 4051.1ms\n",
            "image 149/1015 /content/drive/MyDrive/Safety-vest-Detection-8/test/images/image_310_jpg.rf.c4afca91808e50fd86656a8590d68ea8.jpg: 640x640 1 0, 1 1, 6085.6ms\n",
            "image 150/1015 /content/drive/MyDrive/Safety-vest-Detection-8/test/images/image_97_jpg.rf.2554a451d1e160131a8ecf78ed9f502f.jpg: 640x640 1 0, 1 1, 9635.0ms\n",
            "image 151/1015 /content/drive/MyDrive/Safety-vest-Detection-8/test/images/images-11-_jpg.rf.300af57eeaa8bef7c88b37f9b163fcd9.jpg: 640x640 3 0s, 2 1s, 6873.2ms\n",
            "image 152/1015 /content/drive/MyDrive/Safety-vest-Detection-8/test/images/images-16-_jpg.rf.c986a1b16e854cd54a8ee73e88f2d983.jpg: 640x640 2 0s, 2 1s, 4551.3ms\n",
            "image 153/1015 /content/drive/MyDrive/Safety-vest-Detection-8/test/images/images-2022-07-04T013203_jpg.rf.5d59624a2ff759edbf804c62a9852031.jpg: 640x640 1 0, 4180.9ms\n",
            "image 154/1015 /content/drive/MyDrive/Safety-vest-Detection-8/test/images/images-2022-07-04T013441_jpg.rf.82769cccf748e16ef35b8740002c42e1.jpg: 640x640 1 0, 1 1, 5300.0ms\n",
            "image 155/1015 /content/drive/MyDrive/Safety-vest-Detection-8/test/images/images-2022-07-04T013856_jpg.rf.579f72ac2f52383fb4f0093c834f2074.jpg: 640x640 1 0, 5291.2ms\n",
            "image 156/1015 /content/drive/MyDrive/Safety-vest-Detection-8/test/images/images-2022-07-04T013856_jpg.rf.70eab2d427edb70dfa0366aa9ca92d88.jpg: 640x640 2 0s, 4217.2ms\n",
            "image 157/1015 /content/drive/MyDrive/Safety-vest-Detection-8/test/images/images-25-_jpg.rf.24360228e5a733fcc259cc30ee803621.jpg: 640x640 2 0s, 1 1, 4374.8ms\n",
            "image 158/1015 /content/drive/MyDrive/Safety-vest-Detection-8/test/images/images-30-_jpg.rf.fbab0d1e9421de26b1d128ac8c0023b7.jpg: 640x640 1 0, 1 1, 5995.4ms\n",
            "image 159/1015 /content/drive/MyDrive/Safety-vest-Detection-8/test/images/images838077_tr_10_jpg.rf.b02a97e880173438a9db0676724c014c.jpg: 640x640 2 0s, 2 1s, 4115.5ms\n",
            "image 160/1015 /content/drive/MyDrive/Safety-vest-Detection-8/test/images/images85_jpg.rf.a3f03e0edb7b3ff060074bd0a48aabc8.jpg: 640x640 1 0, 1 1, 3998.9ms\n",
            "image 161/1015 /content/drive/MyDrive/Safety-vest-Detection-8/test/images/images_jpg.rf.4daa3465038bca29cc2e3c6b5adbd2ef.jpg: 640x640 1 0, 1 1, 5916.0ms\n",
            "image 162/1015 /content/drive/MyDrive/Safety-vest-Detection-8/test/images/images_jpg.rf.6e57aab868e649eee119b03fde2ca2fd.jpg: 640x640 2 0s, 3 1s, 4415.3ms\n",
            "image 163/1015 /content/drive/MyDrive/Safety-vest-Detection-8/test/images/mien-bac-lai-thap-thom-lo-thieu-dien-mua-nang-nong-6209_jpeg.rf.02ea99531fff44ac8b5222ecec9cb6ad.jpg: 640x640 2 0s, 3 1s, 4187.5ms\n",
            "image 164/1015 /content/drive/MyDrive/Safety-vest-Detection-8/test/images/pc-vinh-phuc-kiem-tra-bao-tri-he-thong-luoi-dien-1236_jpg.rf.3c3637702c6d64b05f36d550851d1038.jpg: 640x640 2 0s, 2 1s, 5449.9ms\n",
            "image 165/1015 /content/drive/MyDrive/Safety-vest-Detection-8/test/images/ppe_0004_jpg.rf.53f4659a032bf7f363a9695344955d2f.jpg: 640x640 3 0s, 3 1s, 5438.8ms\n",
            "image 166/1015 /content/drive/MyDrive/Safety-vest-Detection-8/test/images/ppe_0008_jpg.rf.12b3b7868784e963fde6d6ce7b9e9cba.jpg: 640x640 5 0s, 4 1s, 4507.9ms\n",
            "image 167/1015 /content/drive/MyDrive/Safety-vest-Detection-8/test/images/ppe_0009_jpg.rf.3cbe4f3fde08c45b861f5a847ed2f6c6.jpg: 640x640 2 0s, 3 1s, 4707.3ms\n",
            "image 168/1015 /content/drive/MyDrive/Safety-vest-Detection-8/test/images/ppe_0013_jpg.rf.66ff8dae752ecc73d801ed89ba150cb8.jpg: 640x640 1 0, 1 1, 5682.2ms\n",
            "image 169/1015 /content/drive/MyDrive/Safety-vest-Detection-8/test/images/ppe_0025-1-_jpg.rf.66416a69e831b9c71cc4621189830aaa.jpg: 640x640 8 0s, 2 1s, 4838.2ms\n",
            "image 170/1015 /content/drive/MyDrive/Safety-vest-Detection-8/test/images/ppe_0026-1-_jpg.rf.57ede27b5890821e02fce11ef013c7d9.jpg: 640x640 2 0s, 2 1s, 4370.7ms\n",
            "image 171/1015 /content/drive/MyDrive/Safety-vest-Detection-8/test/images/ppe_0027-1-_jpg.rf.65420f0b6ab0fc8bccefcc7e8a0fd496.jpg: 640x640 3 0s, 3 1s, 6384.2ms\n",
            "image 172/1015 /content/drive/MyDrive/Safety-vest-Detection-8/test/images/ppe_0029_jpg.rf.6a9a954b9b5b169f6b109b243faf3fc8.jpg: 640x640 9 0s, 5 1s, 4377.2ms\n",
            "image 173/1015 /content/drive/MyDrive/Safety-vest-Detection-8/test/images/ppe_0037_jpg.rf.a9a7c1cb91fe5fa79c39c452997dced6.jpg: 640x640 1 0, 1 1, 7048.4ms\n",
            "image 174/1015 /content/drive/MyDrive/Safety-vest-Detection-8/test/images/ppe_0038_jpg.rf.9c93a69e90af1c265345217260ea4b5f.jpg: 640x640 4 0s, 4 1s, 6876.3ms\n",
            "image 175/1015 /content/drive/MyDrive/Safety-vest-Detection-8/test/images/ppe_0039_jpg.rf.ef8b597c3007d403a67a4274b4ba3fb0.jpg: 640x640 2 0s, 2 1s, 4050.0ms\n",
            "image 176/1015 /content/drive/MyDrive/Safety-vest-Detection-8/test/images/ppe_0041_jpg.rf.e368ec020c6f620c91e24f234f16b87c.jpg: 640x640 2 0s, 1 1, 3987.4ms\n",
            "image 177/1015 /content/drive/MyDrive/Safety-vest-Detection-8/test/images/ppe_0042_jpg.rf.7d208ebbec058f17728b651c00f8627f.jpg: 640x640 7 0s, 1 1, 5306.6ms\n",
            "image 178/1015 /content/drive/MyDrive/Safety-vest-Detection-8/test/images/ppe_0043_jpg.rf.4794d9c1dbe0f29a0018083ac03cc3f2.jpg: 640x640 2 0s, 1 1, 5448.7ms\n",
            "image 179/1015 /content/drive/MyDrive/Safety-vest-Detection-8/test/images/ppe_0044_jpg.rf.739a0e46f05e60aab8285ccd6b3afb19.jpg: 640x640 2 0s, 2 1s, 4246.0ms\n",
            "image 180/1015 /content/drive/MyDrive/Safety-vest-Detection-8/test/images/ppe_0044_jpg.rf.e61e9082cc0428c4c872606eee511a18.jpg: 640x640 2 0s, 1 1, 4779.2ms\n",
            "image 181/1015 /content/drive/MyDrive/Safety-vest-Detection-8/test/images/ppe_0045_jpg.rf.49fa18bf5136497c0817ddc541f3fb5b.jpg: 640x640 2 0s, 5865.5ms\n",
            "image 182/1015 /content/drive/MyDrive/Safety-vest-Detection-8/test/images/ppe_0046_jpg.rf.18c3f635b4805944f066ed18008c625c.jpg: 640x640 2 0s, 4112.5ms\n",
            "image 183/1015 /content/drive/MyDrive/Safety-vest-Detection-8/test/images/ppe_0047_jpg.rf.ba17b7fe278733fe790b267c4ecd4556.jpg: 640x640 3 0s, 2 1s, 4051.1ms\n",
            "image 184/1015 /content/drive/MyDrive/Safety-vest-Detection-8/test/images/ppe_0048_jpg.rf.5c4fd127889d2ff3935d79b3ce2f5b4c.jpg: 640x640 4 0s, 4 1s, 5996.2ms\n",
            "image 185/1015 /content/drive/MyDrive/Safety-vest-Detection-8/test/images/ppe_0051_jpg.rf.e5ea72f116c46b0a99a5a2d165c021f9.jpg: 640x640 6 0s, 5 1s, 4267.5ms\n",
            "image 186/1015 /content/drive/MyDrive/Safety-vest-Detection-8/test/images/ppe_0052_jpg.rf.b499bbe1a11dc23cf2a46d64566651e1.jpg: 640x640 4 0s, 1 1, 4667.9ms\n",
            "image 187/1015 /content/drive/MyDrive/Safety-vest-Detection-8/test/images/ppe_0054_jpg.rf.5e0416bc045bd9398000e3c0eaaed319.jpg: 640x640 4 0s, 3 1s, 5748.1ms\n",
            "image 188/1015 /content/drive/MyDrive/Safety-vest-Detection-8/test/images/ppe_0056_jpg.rf.f271b7efd1e01a0a904d859b063c67e6.jpg: 640x640 1 0, 1 1, 5090.5ms\n",
            "image 189/1015 /content/drive/MyDrive/Safety-vest-Detection-8/test/images/ppe_0057_jpg.rf.ac5bd6d4d20e9a65a2d60a9a9d34daa6.jpg: 640x640 3 0s, 4 1s, 4108.1ms\n",
            "image 190/1015 /content/drive/MyDrive/Safety-vest-Detection-8/test/images/ppe_0058_jpg.rf.cff7dcce27dec1cfeeb7f4b3120cd428.jpg: 640x640 2 0s, 2 1s, 4729.7ms\n",
            "image 191/1015 /content/drive/MyDrive/Safety-vest-Detection-8/test/images/ppe_0058_jpg.rf.e83bdebbb870e59515672895f6c3cdb9.jpg: 640x640 6 0s, 3 1s, 5484.6ms\n",
            "image 192/1015 /content/drive/MyDrive/Safety-vest-Detection-8/test/images/ppe_0059_jpg.rf.5307475408dc2cc8e4e6e6c2efd5630c.jpg: 640x640 6 0s, 7 1s, 4179.0ms\n",
            "image 193/1015 /content/drive/MyDrive/Safety-vest-Detection-8/test/images/ppe_0060_jpg.rf.3b424bb9bd4de517ed21af0b7f6bcafe.jpg: 640x640 1 0, 1 1, 4142.1ms\n",
            "image 194/1015 /content/drive/MyDrive/Safety-vest-Detection-8/test/images/ppe_0061_jpg.rf.abddbdcf72d2adff92bbce5f4e8cfb10.jpg: 640x640 10 0s, 9 1s, 6899.7ms\n",
            "image 195/1015 /content/drive/MyDrive/Safety-vest-Detection-8/test/images/ppe_0062_jpg.rf.227f0a60ce8581d2de2526ea3d000eaa.jpg: 640x640 1 0, 1 1, 4446.0ms\n",
            "image 196/1015 /content/drive/MyDrive/Safety-vest-Detection-8/test/images/ppe_0063_jpg.rf.420aee51b4abdeffe5003024d6beef36.jpg: 640x640 2 0s, 3 1s, 4048.4ms\n",
            "image 197/1015 /content/drive/MyDrive/Safety-vest-Detection-8/test/images/ppe_0064_jpg.rf.fac167877ff42ab9931a0c1f303f104c.jpg: 640x640 2 0s, 1 1, 5392.8ms\n",
            "image 198/1015 /content/drive/MyDrive/Safety-vest-Detection-8/test/images/ppe_0067_jpg.rf.9dda1b690e243389f976093dc68d4c30.jpg: 640x640 5 0s, 1 1, 5593.4ms\n",
            "image 199/1015 /content/drive/MyDrive/Safety-vest-Detection-8/test/images/ppe_0068_jpg.rf.e3e38be6552f5584f0a42bc247a49108.jpg: 640x640 1 0, 1 1, 4244.6ms\n",
            "image 200/1015 /content/drive/MyDrive/Safety-vest-Detection-8/test/images/ppe_0086_jpg.rf.cd3f0a86d69d1f535014bea758eb98cf.jpg: 640x640 3 0s, 4 1s, 4344.2ms\n",
            "image 201/1015 /content/drive/MyDrive/Safety-vest-Detection-8/test/images/ppe_0087_jpg.rf.4c14c4dc3b8b1615ffdf98de72732425.jpg: 640x640 1 0, 1 1, 6115.9ms\n",
            "image 202/1015 /content/drive/MyDrive/Safety-vest-Detection-8/test/images/ppe_0087_jpg.rf.9fa079479b696428533eed456ddc5d78.jpg: 640x640 3 0s, 2 1s, 4120.5ms\n",
            "image 203/1015 /content/drive/MyDrive/Safety-vest-Detection-8/test/images/ppe_0088_jpg.rf.7b8770c1eb763699a81ba2ff1c56f61d.jpg: 640x640 2 0s, 2 1s, 4040.0ms\n",
            "image 204/1015 /content/drive/MyDrive/Safety-vest-Detection-8/test/images/ppe_0094_jpg.rf.e321e61b878d20b22e53fbcf79d22bd5.jpg: 640x640 1 0, 1 1, 6307.3ms\n",
            "image 205/1015 /content/drive/MyDrive/Safety-vest-Detection-8/test/images/ppe_0097_jpg.rf.5df6b4f7e9fe1946b59752a326cc4a05.jpg: 640x640 6 0s, 2 1s, 4849.6ms\n",
            "image 206/1015 /content/drive/MyDrive/Safety-vest-Detection-8/test/images/ppe_0108_jpg.rf.ee068c1216333f42e58c4bb513af906d.jpg: 640x640 2 0s, 1 1, 4066.1ms\n",
            "image 207/1015 /content/drive/MyDrive/Safety-vest-Detection-8/test/images/ppe_0119_jpg.rf.8c6e35fba94bc506f43814fdb3c4e52f.jpg: 640x640 2 0s, 2 1s, 5586.1ms\n",
            "image 208/1015 /content/drive/MyDrive/Safety-vest-Detection-8/test/images/ppe_0136_jpg.rf.67826128ce2d232e88c921a2eba603f2.jpg: 640x640 20 0s, 11 1s, 5883.4ms\n",
            "image 209/1015 /content/drive/MyDrive/Safety-vest-Detection-8/test/images/ppe_0138_jpg.rf.b4ac6629bc0dc694b3775cfd862525fc.jpg: 640x640 1 0, 1 1, 4509.8ms\n",
            "image 210/1015 /content/drive/MyDrive/Safety-vest-Detection-8/test/images/ppe_0139_jpg.rf.e4ea42409a969a3bed80cbb5949d1c6a.jpg: 640x640 1 0, 1 1, 5597.7ms\n",
            "image 211/1015 /content/drive/MyDrive/Safety-vest-Detection-8/test/images/ppe_0156_jpg.rf.e6f53323e1c21c0f020bedf642c665ff.jpg: 640x640 3 0s, 3 1s, 6054.1ms\n",
            "image 212/1015 /content/drive/MyDrive/Safety-vest-Detection-8/test/images/ppe_0158_jpg.rf.e88eb6077792d03a5807b1b16566b8b7.jpg: 640x640 2 0s, 2 1s, 3974.4ms\n",
            "image 213/1015 /content/drive/MyDrive/Safety-vest-Detection-8/test/images/ppe_0160_jpg.rf.0cf96ae77c73ae65095e14e2037fe4ee.jpg: 640x640 1 0, 1 1, 4111.8ms\n",
            "image 214/1015 /content/drive/MyDrive/Safety-vest-Detection-8/test/images/ppe_0168_jpg.rf.19772f5e5859d6f9016e61dd3037bff8.jpg: 640x640 2 0s, 1 1, 6127.8ms\n",
            "image 215/1015 /content/drive/MyDrive/Safety-vest-Detection-8/test/images/ppe_0175_jpg.rf.6fb8a9c4dd3c3f0676b8e9005797b392.jpg: 640x640 1 0, 1 1, 4451.8ms\n",
            "image 216/1015 /content/drive/MyDrive/Safety-vest-Detection-8/test/images/ppe_0178_jpg.rf.794fbdbf4fbbca914e0308eddddb3330.jpg: 640x640 2 0s, 2 1s, 7061.5ms\n",
            "image 217/1015 /content/drive/MyDrive/Safety-vest-Detection-8/test/images/ppe_0186_jpg.rf.c5c3b51a2767ec34437599fe0f2d485c.jpg: 640x640 2 0s, 1 1, 6868.1ms\n",
            "image 218/1015 /content/drive/MyDrive/Safety-vest-Detection-8/test/images/ppe_0222_jpg.rf.fb20ed7f27b82f3aa00182e2f20a9ae3.jpg: 640x640 3 0s, 3 1s, 4050.0ms\n",
            "image 219/1015 /content/drive/MyDrive/Safety-vest-Detection-8/test/images/ppe_0228_jpg.rf.fb1e7f9900a870f4d52aa3853f15fb23.jpg: 640x640 3 0s, 4 1s, 4057.1ms\n",
            "image 220/1015 /content/drive/MyDrive/Safety-vest-Detection-8/test/images/ppe_0235_jpg.rf.6f8bb150f1aa0e74cf444071a7315f7f.jpg: 640x640 1 0, 1 1, 5347.6ms\n",
            "image 221/1015 /content/drive/MyDrive/Safety-vest-Detection-8/test/images/ppe_0251_jpg.rf.3a689b1a16962a323560f22d96d5cf3d.jpg: 640x640 1 0, 1 1, 4916.2ms\n",
            "image 222/1015 /content/drive/MyDrive/Safety-vest-Detection-8/test/images/ppe_0265_jpg.rf.8cce4affa9176b3857db2c7f11164259.jpg: 640x640 3 0s, 1 1, 4079.5ms\n",
            "image 223/1015 /content/drive/MyDrive/Safety-vest-Detection-8/test/images/ppe_0269_jpg.rf.effc98049b6946c9c0572b9d7bb2a168.jpg: 640x640 1 0, 1 1, 4452.0ms\n",
            "image 224/1015 /content/drive/MyDrive/Safety-vest-Detection-8/test/images/ppe_0288_jpg.rf.893b9ab08b5108dc66f6d6a8072cb992.jpg: 640x640 1 0, 1 1, 6088.9ms\n",
            "image 225/1015 /content/drive/MyDrive/Safety-vest-Detection-8/test/images/ppe_0298_jpg.rf.5f9140615284475506802452f14d6f86.jpg: 640x640 1 0, 1 1, 4684.7ms\n",
            "image 226/1015 /content/drive/MyDrive/Safety-vest-Detection-8/test/images/ppe_0298_jpg.rf.6b5307c3521f9cce65586d11b9079d17.jpg: 640x640 3 0s, 2 1s, 4298.3ms\n",
            "image 227/1015 /content/drive/MyDrive/Safety-vest-Detection-8/test/images/ppe_0305_jpg.rf.30da8797bed94cb6aa1e71dbcd1e315a.jpg: 640x640 3 0s, 3 1s, 9087.7ms\n",
            "image 228/1015 /content/drive/MyDrive/Safety-vest-Detection-8/test/images/ppe_0309_jpg.rf.848a97e4b9180d7a704fbffab73c1e5e.jpg: 640x640 2 0s, 7318.1ms\n",
            "image 229/1015 /content/drive/MyDrive/Safety-vest-Detection-8/test/images/ppe_0316_jpg.rf.93ae5da9041cc6923f3553a990bff061.jpg: 640x640 2 0s, 2 1s, 9891.7ms\n",
            "image 230/1015 /content/drive/MyDrive/Safety-vest-Detection-8/test/images/ppe_0320_jpg.rf.2861d20d26a8b223ea58618bdc7aacbc.jpg: 640x640 1 0, 7745.0ms\n",
            "image 231/1015 /content/drive/MyDrive/Safety-vest-Detection-8/test/images/ppe_0336_jpg.rf.3a092d2a9f0942ba8bc53bfaeb32ec50.jpg: 640x640 1 0, 1 1, 9262.4ms\n",
            "image 232/1015 /content/drive/MyDrive/Safety-vest-Detection-8/test/images/ppe_0337_jpg.rf.8e18161eb47ec4872070c973410665a7.jpg: 640x640 2 0s, 2 1s, 7884.1ms\n",
            "image 233/1015 /content/drive/MyDrive/Safety-vest-Detection-8/test/images/ppe_0342_jpg.rf.0e1c337a0672abf400c34cac25921f69.jpg: 640x640 4 0s, 4 1s, 5385.0ms\n",
            "image 234/1015 /content/drive/MyDrive/Safety-vest-Detection-8/test/images/ppe_0347_jpg.rf.5dd032e37091e6dee4f3dee835a450fc.jpg: 640x640 1 0, 1 1, 10698.2ms\n",
            "image 235/1015 /content/drive/MyDrive/Safety-vest-Detection-8/test/images/ppe_0354_jpg.rf.06dd92404a83d2e43f78817ee35965a2.jpg: 640x640 2 0s, 2 1s, 7185.7ms\n",
            "image 236/1015 /content/drive/MyDrive/Safety-vest-Detection-8/test/images/ppe_0364_jpg.rf.ba145f41e9ea38ca81d67613bb5b6140.jpg: 640x640 1 0, 1 1, 6317.3ms\n",
            "image 237/1015 /content/drive/MyDrive/Safety-vest-Detection-8/test/images/ppe_0367_jpg.rf.09b7c038b277924a811359671bba9efe.jpg: 640x640 1 0, 1 1, 4310.7ms\n",
            "image 238/1015 /content/drive/MyDrive/Safety-vest-Detection-8/test/images/ppe_0368_jpg.rf.619a451a206492b70225921d8244f8d6.jpg: 640x640 3 0s, 3 1s, 3972.6ms\n",
            "image 239/1015 /content/drive/MyDrive/Safety-vest-Detection-8/test/images/ppe_0378_jpg.rf.fb9779a647551543a5ac098c05df3f0b.jpg: 640x640 2 0s, 1 1, 5004.9ms\n",
            "image 240/1015 /content/drive/MyDrive/Safety-vest-Detection-8/test/images/ppe_0388_jpg.rf.c1efc2bdb740c4db6c95c431b02308b7.jpg: 640x640 4 0s, 3 1s, 5098.4ms\n",
            "image 241/1015 /content/drive/MyDrive/Safety-vest-Detection-8/test/images/ppe_0398_jpg.rf.25bd2be93a7ee3075dcf866345a1fffb.jpg: 640x640 3 0s, 3 1s, 4120.5ms\n",
            "image 242/1015 /content/drive/MyDrive/Safety-vest-Detection-8/test/images/ppe_0408_jpg.rf.4894a1dd5b30f8e225a6fae025e2f376.jpg: 640x640 4 0s, 3 1s, 4090.0ms\n",
            "image 243/1015 /content/drive/MyDrive/Safety-vest-Detection-8/test/images/ppe_0413_jpg.rf.c50eeff2a2fa2e7a988dab8bfd296f84.jpg: 640x640 1 0, 1 1, 6338.1ms\n",
            "image 244/1015 /content/drive/MyDrive/Safety-vest-Detection-8/test/images/ppe_0414_jpg.rf.6a3aa1d308ddfb1c9444157483782673.jpg: 640x640 2 0s, 2 1s, 7035.6ms\n",
            "image 245/1015 /content/drive/MyDrive/Safety-vest-Detection-8/test/images/ppe_0423_jpg.rf.fdac4e0c812cf94789d2149ff84de441.jpg: 640x640 2 0s, 2 1s, 10194.8ms\n",
            "image 246/1015 /content/drive/MyDrive/Safety-vest-Detection-8/test/images/ppe_0442_jpg.rf.5e523c842723674642bc3dc44029213d.jpg: 640x640 3 0s, 3 1s, 5998.1ms\n",
            "image 247/1015 /content/drive/MyDrive/Safety-vest-Detection-8/test/images/ppe_0446_jpg.rf.fead0461291631bd00bb0b88b61ccad9.jpg: 640x640 2 0s, 2 1s, 3933.0ms\n",
            "image 248/1015 /content/drive/MyDrive/Safety-vest-Detection-8/test/images/ppe_0455_jpg.rf.092985061019b2805c7993aa2ce0b8e4.jpg: 640x640 1 0, 1 1, 5858.9ms\n",
            "image 249/1015 /content/drive/MyDrive/Safety-vest-Detection-8/test/images/ppe_0456_jpg.rf.a407022d67d962bb0a6e6791e47cbdb7.jpg: 640x640 1 0, 1 1, 4354.3ms\n",
            "image 250/1015 /content/drive/MyDrive/Safety-vest-Detection-8/test/images/ppe_0459_jpg.rf.41a37f1352588a112e419c405d94536b.jpg: 640x640 2 0s, 1 1, 4017.0ms\n",
            "image 251/1015 /content/drive/MyDrive/Safety-vest-Detection-8/test/images/ppe_0468_jpg.rf.c5303cc075f1e94fdb9f5dcbe237478f.jpg: 640x640 3 0s, 3 1s, 4975.8ms\n",
            "image 252/1015 /content/drive/MyDrive/Safety-vest-Detection-8/test/images/ppe_0481_jpg.rf.73b80cfb55f26f90acb3428bb07939e6.jpg: 640x640 1 0, 1 1, 6594.6ms\n",
            "image 253/1015 /content/drive/MyDrive/Safety-vest-Detection-8/test/images/ppe_0498_jpg.rf.b3bd4114fc88c84d064ced3cdb76a7a7.jpg: 640x640 3 0s, 3 1s, 6135.2ms\n",
            "image 254/1015 /content/drive/MyDrive/Safety-vest-Detection-8/test/images/ppe_0501_jpg.rf.40b21710efedf3d41d659d0490e59d82.jpg: 640x640 1 0, 1 1, 4011.8ms\n",
            "image 255/1015 /content/drive/MyDrive/Safety-vest-Detection-8/test/images/ppe_0514_jpg.rf.2125976cd499d4f1128fe3404951df77.jpg: 640x640 2 0s, 1 1, 3961.2ms\n",
            "image 256/1015 /content/drive/MyDrive/Safety-vest-Detection-8/test/images/ppe_0523_jpg.rf.9ae63ef7eab37430011dfab61a69cc72.jpg: 640x640 2 0s, 2 1s, 6209.4ms\n",
            "image 257/1015 /content/drive/MyDrive/Safety-vest-Detection-8/test/images/ppe_0541_jpg.rf.dcb090548c8497e49bc34bbf0d8fa31d.jpg: 640x640 1 0, 1 1, 4044.4ms\n",
            "image 258/1015 /content/drive/MyDrive/Safety-vest-Detection-8/test/images/ppe_0544_jpg.rf.b3844e5ca125b440113582c9d53713e8.jpg: 640x640 1 0, 1 1, 3948.6ms\n",
            "image 259/1015 /content/drive/MyDrive/Safety-vest-Detection-8/test/images/ppe_0545_jpg.rf.996a93c6aa25e36d324fc8e2946bca41.jpg: 640x640 3 0s, 3 1s, 5251.0ms\n",
            "image 260/1015 /content/drive/MyDrive/Safety-vest-Detection-8/test/images/ppe_0548_jpg.rf.b812dc5daf5cf4f39bc0791b9548eba4.jpg: 640x640 2 0s, 2 1s, 4892.2ms\n",
            "image 261/1015 /content/drive/MyDrive/Safety-vest-Detection-8/test/images/ppe_0577_jpg.rf.457866a736e5dfff442a74301ff55b2f.jpg: 640x640 7 0s, 5 1s, 4023.5ms\n",
            "image 262/1015 /content/drive/MyDrive/Safety-vest-Detection-8/test/images/ppe_0583_jpg.rf.eba491493f73934dbb63ad7c4d536c1c.jpg: 640x640 3 0s, 3 1s, 4263.0ms\n",
            "image 263/1015 /content/drive/MyDrive/Safety-vest-Detection-8/test/images/ppe_0593_jpg.rf.b1349ee38e28fdeb7ae3846a4c8df7fc.jpg: 640x640 3 0s, 3 1s, 8381.2ms\n",
            "image 264/1015 /content/drive/MyDrive/Safety-vest-Detection-8/test/images/ppe_0601_jpg.rf.1117057aae313a47922b6a81c93671b4.jpg: 640x640 2 0s, 3 1s, 6474.4ms\n",
            "image 265/1015 /content/drive/MyDrive/Safety-vest-Detection-8/test/images/ppe_0607_jpg.rf.cc3106b8028b501818b5e5f725d7b341.jpg: 640x640 3 0s, 3 1s, 5000.8ms\n",
            "image 266/1015 /content/drive/MyDrive/Safety-vest-Detection-8/test/images/ppe_0612_jpg.rf.01543c289c699e70c43072d30f5c151a.jpg: 640x640 2 0s, 1 1, 5417.8ms\n",
            "image 267/1015 /content/drive/MyDrive/Safety-vest-Detection-8/test/images/ppe_0633_jpg.rf.4fd538508f816f1c7a012aa3893dc445.jpg: 640x640 3 0s, 2 1s, 4011.4ms\n",
            "image 268/1015 /content/drive/MyDrive/Safety-vest-Detection-8/test/images/ppe_0643_jpg.rf.3a572cb441898858623c5ca8bfcd69dd.jpg: 640x640 3 0s, 3 1s, 3996.7ms\n",
            "image 269/1015 /content/drive/MyDrive/Safety-vest-Detection-8/test/images/ppe_0648_jpg.rf.8e95f0efdbb85915ba4cd353598b9ae6.jpg: 640x640 5 0s, 5 1s, 6269.2ms\n",
            "image 270/1015 /content/drive/MyDrive/Safety-vest-Detection-8/test/images/ppe_0675_jpg.rf.f3146ceb16a23c062ab71ea23b9cc57e.jpg: 640x640 6 0s, 1 1, 4054.7ms\n",
            "image 271/1015 /content/drive/MyDrive/Safety-vest-Detection-8/test/images/ppe_0701_jpg.rf.2bdcec5dcaf2109f3305c15bce3bfb8c.jpg: 640x640 3 0s, 4 1s, 4005.5ms\n",
            "image 272/1015 /content/drive/MyDrive/Safety-vest-Detection-8/test/images/ppe_0709_jpg.rf.e649a9ada2880f732bfe1a9892fe6319.jpg: 640x640 2 0s, 2 1s, 5194.5ms\n",
            "image 273/1015 /content/drive/MyDrive/Safety-vest-Detection-8/test/images/ppe_0713_jpg.rf.95af1fda829bb423754d0ddd6bacea7c.jpg: 640x640 3 0s, 2 1s, 4978.8ms\n",
            "image 274/1015 /content/drive/MyDrive/Safety-vest-Detection-8/test/images/ppe_0718_jpg.rf.6cdcd0d5c0c9e3efa24724bf1b90b08d.jpg: 640x640 3 0s, 3 1s, 4009.7ms\n",
            "image 275/1015 /content/drive/MyDrive/Safety-vest-Detection-8/test/images/ppe_0718_jpg.rf.7b4337fc598e49614c755a4cc5859d31.jpg: 640x640 3 0s, 3 1s, 4165.6ms\n",
            "image 276/1015 /content/drive/MyDrive/Safety-vest-Detection-8/test/images/ppe_0720_jpg.rf.20e5a51cd53c2eb5c78306285e118362.jpg: 640x640 13 0s, 4 1s, 5981.8ms\n",
            "image 277/1015 /content/drive/MyDrive/Safety-vest-Detection-8/test/images/ppe_0732_jpg.rf.a49e028a72b33d003f5eaf4ed2ea1ea9.jpg: 640x640 3 0s, 3 1s, 4010.4ms\n",
            "image 278/1015 /content/drive/MyDrive/Safety-vest-Detection-8/test/images/ppe_0735_jpg.rf.4a64f53b6c32c3e6316c6c5e6b46e4c8.jpg: 640x640 5 0s, 2 1s, 4099.9ms\n",
            "image 279/1015 /content/drive/MyDrive/Safety-vest-Detection-8/test/images/ppe_0744_jpg.rf.a614e42e5fe71571a7702fb2ee493b29.jpg: 640x640 2 0s, 2 1s, 5659.6ms\n",
            "image 280/1015 /content/drive/MyDrive/Safety-vest-Detection-8/test/images/ppe_0744_jpg.rf.b2fc47ad3e1356006900055374f5fed0.jpg: 640x640 2 0s, 2 1s, 4554.3ms\n",
            "image 281/1015 /content/drive/MyDrive/Safety-vest-Detection-8/test/images/ppe_0745_jpg.rf.c9051fc4d7f5ec7746ab975bc50681b5.jpg: 640x640 3 0s, 1 1, 4033.7ms\n",
            "image 282/1015 /content/drive/MyDrive/Safety-vest-Detection-8/test/images/ppe_0749_jpg.rf.10471a3973ff1aca8b21def3bebfc55a.jpg: 640x640 3 0s, 2 1s, 4717.6ms\n",
            "image 283/1015 /content/drive/MyDrive/Safety-vest-Detection-8/test/images/ppe_0755_jpg.rf.ace33377dec5e42349cf2c455c28ff86.jpg: 640x640 3 0s, 1 1, 5509.7ms\n",
            "image 284/1015 /content/drive/MyDrive/Safety-vest-Detection-8/test/images/ppe_0764_jpg.rf.56f1c856eb5670ca93a6cfb6ea982278.jpg: 640x640 2 0s, 3 1s, 3952.3ms\n",
            "image 285/1015 /content/drive/MyDrive/Safety-vest-Detection-8/test/images/ppe_0764_jpg.rf.e8f4223f05b9ab78b75ff630db485eb8.jpg: 640x640 2 0s, 3 1s, 4019.2ms\n",
            "image 286/1015 /content/drive/MyDrive/Safety-vest-Detection-8/test/images/ppe_0769_jpg.rf.37467747fb1732a42df8afee0c3bd68f.jpg: 640x640 2 0s, 2 1s, 6225.9ms\n",
            "image 287/1015 /content/drive/MyDrive/Safety-vest-Detection-8/test/images/ppe_0774_jpg.rf.849074c8f601b0c107385280b98b1592.jpg: 640x640 3 0s, 2 1s, 4031.9ms\n",
            "image 288/1015 /content/drive/MyDrive/Safety-vest-Detection-8/test/images/ppe_0779_jpg.rf.8565c43014802717a4f251944a7a233c.jpg: 640x640 1 0, 1 1, 4045.7ms\n",
            "image 289/1015 /content/drive/MyDrive/Safety-vest-Detection-8/test/images/ppe_0785_jpg.rf.360a9d49bd625367501278cff8beec15.jpg: 640x640 3 0s, 3 1s, 5241.0ms\n",
            "image 290/1015 /content/drive/MyDrive/Safety-vest-Detection-8/test/images/ppe_0786_jpg.rf.ad78295e6c505fc20332c2bc95a8e8f6.jpg: 640x640 4 0s, 4 1s, 4976.8ms\n",
            "image 291/1015 /content/drive/MyDrive/Safety-vest-Detection-8/test/images/ppe_0798_jpg.rf.d3895fc5ae48aa5d4922b3d6db2a6469.jpg: 640x640 2 0s, 2 1s, 4022.0ms\n",
            "image 292/1015 /content/drive/MyDrive/Safety-vest-Detection-8/test/images/ppe_0800_jpg.rf.10993267fb8c59eff3a527ec6c53c234.jpg: 640x640 1 0, 1 1, 4307.9ms\n",
            "image 293/1015 /content/drive/MyDrive/Safety-vest-Detection-8/test/images/ppe_0802_jpg.rf.c193dc600c199fa3fd56006ce01aacbe.jpg: 640x640 2 0s, 2 1s, 5909.4ms\n",
            "image 294/1015 /content/drive/MyDrive/Safety-vest-Detection-8/test/images/ppe_0807_jpg.rf.bd3238222d170c856c07ddb006104f2b.jpg: 640x640 2 0s, 2 1s, 3987.4ms\n",
            "image 295/1015 /content/drive/MyDrive/Safety-vest-Detection-8/test/images/ppe_0807_jpg.rf.fe8035f83b9819b7258f2ead011cb053.jpg: 640x640 3 0s, 2 1s, 4021.1ms\n",
            "image 296/1015 /content/drive/MyDrive/Safety-vest-Detection-8/test/images/ppe_0811_jpg.rf.18b0c07a766415a7f72b002ac4511b7c.jpg: 640x640 3 0s, 3 1s, 6018.1ms\n",
            "image 297/1015 /content/drive/MyDrive/Safety-vest-Detection-8/test/images/ppe_0811_jpg.rf.5cdaf18e955112427d1cfa8b9d78292b.jpg: 640x640 2 0s, 2 1s, 6630.2ms\n",
            "image 298/1015 /content/drive/MyDrive/Safety-vest-Detection-8/test/images/ppe_0811_jpg.rf.727dfc3503f24fc7cb061c5bdcb49377.jpg: 640x640 3 0s, 3 1s, 5073.2ms\n",
            "image 299/1015 /content/drive/MyDrive/Safety-vest-Detection-8/test/images/ppe_0814_jpg.rf.6dcd7ab8d2e4023010b72c6d6c1a5ef4.jpg: 640x640 5 0s, 1 1, 3983.4ms\n",
            "image 300/1015 /content/drive/MyDrive/Safety-vest-Detection-8/test/images/ppe_0814_jpg.rf.8af45c4712bb0ded2d794543a6f8e57c.jpg: 640x640 5 0s, 4 1s, 4739.9ms\n",
            "image 301/1015 /content/drive/MyDrive/Safety-vest-Detection-8/test/images/ppe_0814_jpg.rf.ec35dd350eed573578ade2ddb61ced6a.jpg: 640x640 5 0s, 3 1s, 5471.5ms\n",
            "image 302/1015 /content/drive/MyDrive/Safety-vest-Detection-8/test/images/ppe_0815_jpg.rf.8bd4de5d8b5eae175c30c5bc984c2000.jpg: 640x640 6 0s, 5 1s, 4027.5ms\n",
            "image 303/1015 /content/drive/MyDrive/Safety-vest-Detection-8/test/images/ppe_0815_jpg.rf.d66fa436ca6672a705ab1ff1eb7c8174.jpg: 640x640 5 0s, 5 1s, 4097.6ms\n",
            "image 304/1015 /content/drive/MyDrive/Safety-vest-Detection-8/test/images/ppe_0816_jpg.rf.35934bada5e765dca77a785f921be87d.jpg: 640x640 2 0s, 2 1s, 8359.6ms\n",
            "image 305/1015 /content/drive/MyDrive/Safety-vest-Detection-8/test/images/ppe_0816_jpg.rf.cbbaf64461a650a88be235b6757b7aa8.jpg: 640x640 2 0s, 2 1s, 6407.0ms\n",
            "image 306/1015 /content/drive/MyDrive/Safety-vest-Detection-8/test/images/ppe_0817_jpg.rf.69f591f075ee9c99265aee01931ee6c5.jpg: 640x640 2 0s, 1 1, 10165.8ms\n",
            "image 307/1015 /content/drive/MyDrive/Safety-vest-Detection-8/test/images/ppe_0822_jpg.rf.4ec37ee99a0da2c9e9ebf6789c8ed74e.jpg: 640x640 3 0s, 1 1, 7251.4ms\n",
            "image 308/1015 /content/drive/MyDrive/Safety-vest-Detection-8/test/images/ppe_0824_jpg.rf.42b78def7ff91e5bc83f22bd8b47f6f1.jpg: 640x640 1 1, 5304.0ms\n",
            "image 309/1015 /content/drive/MyDrive/Safety-vest-Detection-8/test/images/ppe_0824_jpg.rf.8f57160f3e3fe2723b0f9c55eb389901.jpg: 640x640 1 0, 1 1, 5197.6ms\n",
            "image 310/1015 /content/drive/MyDrive/Safety-vest-Detection-8/test/images/ppe_0824_jpg.rf.94b0d6dd7f8ff2abe77ad536d0cb18f3.jpg: 640x640 1 0, 1 1, 4009.6ms\n",
            "image 311/1015 /content/drive/MyDrive/Safety-vest-Detection-8/test/images/ppe_0826_jpg.rf.8485dd8c64539ab757d461d04762f13f.jpg: 640x640 1 0, 1 1, 4095.5ms\n",
            "image 312/1015 /content/drive/MyDrive/Safety-vest-Detection-8/test/images/ppe_0826_jpg.rf.9cb3daec55ad75255e119143860a1105.jpg: 640x640 1 0, 1 1, 6058.8ms\n",
            "image 313/1015 /content/drive/MyDrive/Safety-vest-Detection-8/test/images/ppe_0826_jpg.rf.fc079e49ef38475f995b82c876ca6a64.jpg: 640x640 1 0, 1 1, 4033.0ms\n",
            "image 314/1015 /content/drive/MyDrive/Safety-vest-Detection-8/test/images/ppe_0827_jpg.rf.22c4f25fa465eabefaa09dfb47c9ecf4.jpg: 640x640 2 0s, 2 1s, 4040.0ms\n",
            "image 315/1015 /content/drive/MyDrive/Safety-vest-Detection-8/test/images/ppe_0827_jpg.rf.4d79e6fc716d3b71a9066023afee2098.jpg: 640x640 2 0s, 2 1s, 5569.1ms\n",
            "image 316/1015 /content/drive/MyDrive/Safety-vest-Detection-8/test/images/ppe_0827_jpg.rf.c79f42cba661f4da0a952c6ae80f8801.jpg: 640x640 2 0s, 2 1s, 4592.2ms\n",
            "image 317/1015 /content/drive/MyDrive/Safety-vest-Detection-8/test/images/ppe_0828_jpg.rf.87397940b6acc886c5b49995b98b8066.jpg: 640x640 3 0s, 3 1s, 4012.6ms\n",
            "image 318/1015 /content/drive/MyDrive/Safety-vest-Detection-8/test/images/ppe_0830_jpg.rf.25e7bc602b86465f0d468825fbbadf99.jpg: 640x640 2 0s, 2 1s, 4566.3ms\n",
            "image 319/1015 /content/drive/MyDrive/Safety-vest-Detection-8/test/images/ppe_0830_jpg.rf.5d116301f543ad10eabbe23e1f769ef6.jpg: 640x640 2 0s, 2 1s, 5589.1ms\n",
            "image 320/1015 /content/drive/MyDrive/Safety-vest-Detection-8/test/images/ppe_0830_jpg.rf.fe37b189a01cd6225c0cd95e68ea1410.jpg: 640x640 2 0s, 2 1s, 4014.2ms\n",
            "image 321/1015 /content/drive/MyDrive/Safety-vest-Detection-8/test/images/ppe_0831_jpg.rf.34f1e888053f27f642e02da28c4f0963.jpg: 640x640 4 0s, 5 1s, 3974.6ms\n",
            "image 322/1015 /content/drive/MyDrive/Safety-vest-Detection-8/test/images/ppe_0831_jpg.rf.d04bedf2510004261c08ac014d6f9b95.jpg: 640x640 7 0s, 5 1s, 5938.5ms\n",
            "image 323/1015 /content/drive/MyDrive/Safety-vest-Detection-8/test/images/ppe_0831_jpg.rf.e31743bdb227b0e0026168cbf6c9c915.jpg: 640x640 5 0s, 5 1s, 4222.2ms\n",
            "image 324/1015 /content/drive/MyDrive/Safety-vest-Detection-8/test/images/ppe_0832_jpg.rf.34a6bda123e33514c63fe4cb2c5278d9.jpg: 640x640 1 0, 4007.5ms\n",
            "image 325/1015 /content/drive/MyDrive/Safety-vest-Detection-8/test/images/ppe_0832_jpg.rf.5114f06cbddfdd3d951c8cb8b79143b0.jpg: 640x640 3 0s, 1 1, 5063.1ms\n",
            "image 326/1015 /content/drive/MyDrive/Safety-vest-Detection-8/test/images/ppe_0832_jpg.rf.78502cb06826df284cb96ea473ec4a43.jpg: 640x640 2 0s, 1 1, 5110.1ms\n",
            "image 327/1015 /content/drive/MyDrive/Safety-vest-Detection-8/test/images/ppe_0833_jpg.rf.2dbde922ed85120319fb5a337fa2c3c3.jpg: 640x640 3 0s, 3 1s, 4026.4ms\n",
            "image 328/1015 /content/drive/MyDrive/Safety-vest-Detection-8/test/images/ppe_0833_jpg.rf.65d32112395f3509c781f9aa98141154.jpg: 640x640 3 0s, 3 1s, 4102.3ms\n",
            "image 329/1015 /content/drive/MyDrive/Safety-vest-Detection-8/test/images/ppe_0833_jpg.rf.95aa8afb8ef011070b146f1a23b62321.jpg: 640x640 3 0s, 3 1s, 6058.4ms\n",
            "image 330/1015 /content/drive/MyDrive/Safety-vest-Detection-8/test/images/ppe_0834_jpg.rf.4359560f3939bf57ea7812a7384ea299.jpg: 640x640 2 0s, 2 1s, 3988.5ms\n",
            "image 331/1015 /content/drive/MyDrive/Safety-vest-Detection-8/test/images/ppe_0834_jpg.rf.bb69450ddf94dba2e0eabbef2becb196.jpg: 640x640 2 0s, 2 1s, 4024.5ms\n",
            "image 332/1015 /content/drive/MyDrive/Safety-vest-Detection-8/test/images/ppe_0834_jpg.rf.dd7dcbb515876377fdfa92db7017173a.jpg: 640x640 2 0s, 2 1s, 5556.4ms\n",
            "image 333/1015 /content/drive/MyDrive/Safety-vest-Detection-8/test/images/ppe_0837_jpg.rf.759f0f7d37c69aedca4f17c3bc9c5f90.jpg: 640x640 8 0s, 3 1s, 4919.2ms\n",
            "image 334/1015 /content/drive/MyDrive/Safety-vest-Detection-8/test/images/ppe_0837_jpg.rf.d7ff6dc718e260bf1d95f299ed008da0.jpg: 640x640 9 0s, 4 1s, 4005.2ms\n",
            "image 335/1015 /content/drive/MyDrive/Safety-vest-Detection-8/test/images/ppe_0837_jpg.rf.ed1b188c9417deaeeb86ccbdf7bd3d0a.jpg: 640x640 9 0s, 6 1s, 4655.0ms\n",
            "image 336/1015 /content/drive/MyDrive/Safety-vest-Detection-8/test/images/ppe_0839_jpg.rf.0437f876d84755651eb10af1fec641cf.jpg: 640x640 3 0s, 2 1s, 5407.9ms\n",
            "image 337/1015 /content/drive/MyDrive/Safety-vest-Detection-8/test/images/ppe_0839_jpg.rf.b0f89fc082efe1b21260dbbcb6fc072c.jpg: 640x640 3 0s, 3 1s, 4024.7ms\n",
            "image 338/1015 /content/drive/MyDrive/Safety-vest-Detection-8/test/images/ppe_0839_jpg.rf.f1d1fccb59486c6bbc9e88456b67b089.jpg: 640x640 2 0s, 2 1s, 4016.4ms\n",
            "image 339/1015 /content/drive/MyDrive/Safety-vest-Detection-8/test/images/ppe_0841_jpg.rf.9b37782105b1f83b7b079c9fdc2a829d.jpg: 640x640 3 0s, 2 1s, 6576.5ms\n",
            "image 340/1015 /content/drive/MyDrive/Safety-vest-Detection-8/test/images/ppe_0841_jpg.rf.bbc8cac291b4ed211cf8f4983c5c5701.jpg: 640x640 3 0s, 2 1s, 6745.1ms\n",
            "image 341/1015 /content/drive/MyDrive/Safety-vest-Detection-8/test/images/ppe_0841_jpg.rf.d3fa1010b5019fb4ae4522a98d5a7c18.jpg: 640x640 3 0s, 2 1s, 4430.2ms\n",
            "image 342/1015 /content/drive/MyDrive/Safety-vest-Detection-8/test/images/ppe_0842_jpg.rf.2f4d74e0db485490a9277f742d9cdb4a.jpg: 640x640 3 0s, 3 1s, 4017.4ms\n",
            "image 343/1015 /content/drive/MyDrive/Safety-vest-Detection-8/test/images/ppe_0842_jpg.rf.7d7edee43630a0a82f8b6dc3c011a18d.jpg: 640x640 3 0s, 3 1s, 5355.9ms\n",
            "image 344/1015 /content/drive/MyDrive/Safety-vest-Detection-8/test/images/ppe_0842_jpg.rf.a34ddb1ac9bc09a093f64604b6138cb2.jpg: 640x640 3 0s, 3 1s, 4764.4ms\n",
            "image 345/1015 /content/drive/MyDrive/Safety-vest-Detection-8/test/images/ppe_0843_jpg.rf.3d6be57c6364e08732bd7bd884c514b3.jpg: 640x640 3 0s, 2 1s, 3953.7ms\n",
            "image 346/1015 /content/drive/MyDrive/Safety-vest-Detection-8/test/images/ppe_0843_jpg.rf.750a6659441c2494d6df01294a3ea015.jpg: 640x640 2 0s, 2 1s, 4352.3ms\n",
            "image 347/1015 /content/drive/MyDrive/Safety-vest-Detection-8/test/images/ppe_0843_jpg.rf.efa9a62cce4244104bad1d14e07cf32c.jpg: 640x640 2 0s, 2 1s, 5872.5ms\n",
            "image 348/1015 /content/drive/MyDrive/Safety-vest-Detection-8/test/images/ppe_0849_jpg.rf.31548e1f1a3a85d95426c5af9b3ac7e0.jpg: 640x640 3 0s, 3 1s, 3981.2ms\n",
            "image 349/1015 /content/drive/MyDrive/Safety-vest-Detection-8/test/images/ppe_0849_jpg.rf.41bef0df355c061ab3b2a8e4fe4870d1.jpg: 640x640 3 0s, 3 1s, 4053.8ms\n",
            "image 350/1015 /content/drive/MyDrive/Safety-vest-Detection-8/test/images/ppe_0849_jpg.rf.e2460ea791095f74fd37f544c08fbf2d.jpg: 640x640 3 0s, 3 1s, 5902.1ms\n",
            "image 351/1015 /content/drive/MyDrive/Safety-vest-Detection-8/test/images/ppe_0850_jpg.rf.3cd971e29a8465d88eb085fc75abd8e9.jpg: 640x640 2 0s, 1 1, 4320.0ms\n",
            "image 352/1015 /content/drive/MyDrive/Safety-vest-Detection-8/test/images/ppe_0850_jpg.rf.bf73f65e7f595443747fb89be6ca05eb.jpg: 640x640 2 0s, 2 1s, 3980.5ms\n",
            "image 353/1015 /content/drive/MyDrive/Safety-vest-Detection-8/test/images/ppe_0850_jpg.rf.c795eaa514b5686be94d7b86acdd1faa.jpg: 640x640 2 0s, 2 1s, 4917.6ms\n",
            "image 354/1015 /content/drive/MyDrive/Safety-vest-Detection-8/test/images/ppe_0854_jpg.rf.541b143ebb57220c68b2aa304e7f8e6b.jpg: 640x640 2 0s, 1 1, 5284.3ms\n",
            "image 355/1015 /content/drive/MyDrive/Safety-vest-Detection-8/test/images/ppe_0854_jpg.rf.5beafc80cd849983cdc69029be9043e2.jpg: 640x640 1 0, 1 1, 4054.6ms\n",
            "image 356/1015 /content/drive/MyDrive/Safety-vest-Detection-8/test/images/ppe_0854_jpg.rf.7216f3e7fd8d27e48481ec876efb920a.jpg: 640x640 3 0s, 1 1, 4073.1ms\n",
            "image 357/1015 /content/drive/MyDrive/Safety-vest-Detection-8/test/images/ppe_0858_jpg.rf.0da94105e66c91a6be8222bd3f1ba784.jpg: 640x640 3 0s, 3 1s, 6137.2ms\n",
            "image 358/1015 /content/drive/MyDrive/Safety-vest-Detection-8/test/images/ppe_0858_jpg.rf.0e7ad4ad2ed912b47a55daf95a2d1417.jpg: 640x640 3 0s, 3 1s, 4044.3ms\n",
            "image 359/1015 /content/drive/MyDrive/Safety-vest-Detection-8/test/images/ppe_0858_jpg.rf.9e7734a0e8d3dc78cce1e702b5d41f59.jpg: 640x640 3 0s, 3 1s, 4023.1ms\n",
            "image 360/1015 /content/drive/MyDrive/Safety-vest-Detection-8/test/images/ppe_0859_jpg.rf.382528af5d60326be48a613b695f00fc.jpg: 640x640 2 0s, 1 1, 5601.1ms\n",
            "image 361/1015 /content/drive/MyDrive/Safety-vest-Detection-8/test/images/ppe_0859_jpg.rf.8fc8e67ccfad94affccd781c0a7956af.jpg: 640x640 2 0s, 1 1, 4619.0ms\n",
            "image 362/1015 /content/drive/MyDrive/Safety-vest-Detection-8/test/images/ppe_0859_jpg.rf.96d5d5340cf0be03843364da68fb6d25.jpg: 640x640 2 0s, 1 1, 3928.7ms\n",
            "image 363/1015 /content/drive/MyDrive/Safety-vest-Detection-8/test/images/ppe_0859_jpg.rf.c2bc42c308ee02b79bad9552ddf4370b.jpg: 640x640 2 0s, 1 1, 4409.8ms\n",
            "image 364/1015 /content/drive/MyDrive/Safety-vest-Detection-8/test/images/ppe_0861_jpg.rf.6a66f1ea57e2ccec9d21181f0f619004.jpg: 640x640 7 0s, 3 1s, 5640.8ms\n",
            "image 365/1015 /content/drive/MyDrive/Safety-vest-Detection-8/test/images/ppe_0861_jpg.rf.90dc9fa0e99f12fa753f1f4a003cd033.jpg: 640x640 4 0s, 3 1s, 4003.4ms\n",
            "image 366/1015 /content/drive/MyDrive/Safety-vest-Detection-8/test/images/ppe_0861_jpg.rf.aaa9790988b8f5bbbe891c21974f595e.jpg: 640x640 5 0s, 2 1s, 3991.1ms\n",
            "image 367/1015 /content/drive/MyDrive/Safety-vest-Detection-8/test/images/ppe_0862_jpg.rf.8ec04749972fa4fc50bd7f286e33657f.jpg: 640x640 8 0s, 7 1s, 5810.6ms\n",
            "image 368/1015 /content/drive/MyDrive/Safety-vest-Detection-8/test/images/ppe_0862_jpg.rf.99d1f36b0fb582638e1db083b269f39f.jpg: 640x640 9 0s, 8 1s, 4002.0ms\n",
            "image 369/1015 /content/drive/MyDrive/Safety-vest-Detection-8/test/images/ppe_0862_jpg.rf.ace5b32e12d089fa79e0fd990bd38a83.jpg: 640x640 11 0s, 7 1s, 4010.2ms\n",
            "image 370/1015 /content/drive/MyDrive/Safety-vest-Detection-8/test/images/ppe_0864_jpg.rf.352f2154cc0821f93aede50b2d162f91.jpg: 640x640 3 0s, 3 1s, 5361.9ms\n",
            "image 371/1015 /content/drive/MyDrive/Safety-vest-Detection-8/test/images/ppe_0864_jpg.rf.3d5717b1743d0bb3e5039b855655d00c.jpg: 640x640 3 0s, 3 1s, 4411.9ms\n",
            "image 372/1015 /content/drive/MyDrive/Safety-vest-Detection-8/test/images/ppe_0864_jpg.rf.d1541577c6bb52f0153a06bd4d5050b8.jpg: 640x640 3 0s, 3 1s, 4044.8ms\n",
            "image 373/1015 /content/drive/MyDrive/Safety-vest-Detection-8/test/images/ppe_0867_jpg.rf.1a818f48c60357aabaf5702761539db9.jpg: 640x640 1 0, 1 1, 4949.6ms\n",
            "image 374/1015 /content/drive/MyDrive/Safety-vest-Detection-8/test/images/ppe_0867_jpg.rf.8acf18fa41e293584103e5cb7d1ad088.jpg: 640x640 1 0, 1 1, 4761.8ms\n",
            "image 375/1015 /content/drive/MyDrive/Safety-vest-Detection-8/test/images/ppe_0867_jpg.rf.901ab12b86097d5347243e32f6836814.jpg: 640x640 1 0, 1 1, 3965.9ms\n",
            "image 376/1015 /content/drive/MyDrive/Safety-vest-Detection-8/test/images/ppe_0868_jpg.rf.243853903e47ffa042ecc058c7dbba18.jpg: 640x640 2 0s, 1 1, 4291.8ms\n",
            "image 377/1015 /content/drive/MyDrive/Safety-vest-Detection-8/test/images/ppe_0868_jpg.rf.4280ccffc770796a6a028f620e300346.jpg: 640x640 2 0s, 1 1, 5367.4ms\n",
            "image 378/1015 /content/drive/MyDrive/Safety-vest-Detection-8/test/images/ppe_0868_jpg.rf.bf9c4bd4a5cdce211dc6cc8462933d1c.jpg: 640x640 2 0s, 1 1, 4003.0ms\n",
            "image 379/1015 /content/drive/MyDrive/Safety-vest-Detection-8/test/images/ppe_0869_jpg.rf.18ae4f7a11f72105d3e3d98933635c19.jpg: 640x640 3 0s, 2 1s, 3991.7ms\n",
            "image 380/1015 /content/drive/MyDrive/Safety-vest-Detection-8/test/images/ppe_0869_jpg.rf.b845eef1f77421f219be7e1c5cd67fb3.jpg: 640x640 3 0s, 2 1s, 5797.8ms\n",
            "image 381/1015 /content/drive/MyDrive/Safety-vest-Detection-8/test/images/ppe_0869_jpg.rf.ff582e4df918402b2fc4d22e83d52ce1.jpg: 640x640 3 0s, 2 1s, 4055.4ms\n",
            "image 382/1015 /content/drive/MyDrive/Safety-vest-Detection-8/test/images/ppe_0870_jpg.rf.ada38280c3a738737761e11fe0aead20.jpg: 640x640 2 0s, 2 1s, 3984.7ms\n",
            "image 383/1015 /content/drive/MyDrive/Safety-vest-Detection-8/test/images/ppe_0870_jpg.rf.b676083420ef8e596fb1f13d47db8b59.jpg: 640x640 2 0s, 2 1s, 5810.9ms\n",
            "image 384/1015 /content/drive/MyDrive/Safety-vest-Detection-8/test/images/ppe_0870_jpg.rf.bc56f3aeba87dd4139745639431d97d8.jpg: 640x640 2 0s, 1 1, 4014.6ms\n",
            "image 385/1015 /content/drive/MyDrive/Safety-vest-Detection-8/test/images/ppe_0871_jpg.rf.6ebb80fa7e1d66d247714ac5becd6285.jpg: 640x640 2 0s, 2 1s, 4717.3ms\n",
            "image 386/1015 /content/drive/MyDrive/Safety-vest-Detection-8/test/images/ppe_0871_jpg.rf.76b951606b30c813a6bce9d528f3d31f.jpg: 640x640 2 0s, 2 1s, 6593.5ms\n",
            "image 387/1015 /content/drive/MyDrive/Safety-vest-Detection-8/test/images/ppe_0871_jpg.rf.f0934998f5d5f662721730621f3286bc.jpg: 640x640 2 0s, 2 1s, 4297.1ms\n",
            "image 388/1015 /content/drive/MyDrive/Safety-vest-Detection-8/test/images/ppe_0873_jpg.rf.5449c62e00dd1d20692a6e50ca499b5f.jpg: 640x640 4 0s, 2 1s, 6214.7ms\n",
            "image 389/1015 /content/drive/MyDrive/Safety-vest-Detection-8/test/images/ppe_0873_jpg.rf.77d0f2c87ececfe4c49aafe58ed3660d.jpg: 640x640 3 0s, 4 1s, 7178.0ms\n",
            "image 390/1015 /content/drive/MyDrive/Safety-vest-Detection-8/test/images/ppe_0873_jpg.rf.e14b42eeddb66bc602015234ca877417.jpg: 640x640 3 0s, 3 1s, 3973.6ms\n",
            "image 391/1015 /content/drive/MyDrive/Safety-vest-Detection-8/test/images/ppe_0875_jpg.rf.1a934b80ad7c3d868bb989cd57fb68ad.jpg: 640x640 4 0s, 3 1s, 4123.4ms\n",
            "image 392/1015 /content/drive/MyDrive/Safety-vest-Detection-8/test/images/ppe_0875_jpg.rf.a0512bf52ec8a942425b596b430fd14b.jpg: 640x640 5 0s, 2 1s, 5762.3ms\n",
            "image 393/1015 /content/drive/MyDrive/Safety-vest-Detection-8/test/images/ppe_0875_jpg.rf.be7572bec93bd32d83a4c51b9c7b1888.jpg: 640x640 3 0s, 2 1s, 4007.0ms\n",
            "image 394/1015 /content/drive/MyDrive/Safety-vest-Detection-8/test/images/ppe_0875_jpg.rf.c51588205d8181ef4a676426eb5df076.jpg: 640x640 4 0s, 2 1s, 3984.1ms\n",
            "image 395/1015 /content/drive/MyDrive/Safety-vest-Detection-8/test/images/ppe_0878_jpg.rf.5131ce6f2061c034d96712b4c6f7db6d.jpg: 640x640 2 0s, 2 1s, 5309.9ms\n",
            "image 396/1015 /content/drive/MyDrive/Safety-vest-Detection-8/test/images/ppe_0878_jpg.rf.8b2437c4bd3a4f0e7c022ab5e8cd943b.jpg: 640x640 2 0s, 2 1s, 4416.1ms\n",
            "image 397/1015 /content/drive/MyDrive/Safety-vest-Detection-8/test/images/ppe_0878_jpg.rf.c7d0ff2261d942a9a27c6355e883dc23.jpg: 640x640 2 0s, 2 1s, 4022.2ms\n",
            "image 398/1015 /content/drive/MyDrive/Safety-vest-Detection-8/test/images/ppe_0880_jpg.rf.36c58c88859203f1df3df2abb2244d86.jpg: 640x640 1 0, 1 1, 4816.4ms\n",
            "image 399/1015 /content/drive/MyDrive/Safety-vest-Detection-8/test/images/ppe_0880_jpg.rf.828132633cc3d3867ce83d3d2f86b953.jpg: 640x640 1 0, 1 1, 4940.2ms\n",
            "image 400/1015 /content/drive/MyDrive/Safety-vest-Detection-8/test/images/ppe_0880_jpg.rf.fc2c7de666347df3308da727ec73710d.jpg: 640x640 1 0, 1 1, 4021.8ms\n",
            "image 401/1015 /content/drive/MyDrive/Safety-vest-Detection-8/test/images/ppe_0881_jpg.rf.56f493c25f587bdedef89dca330e5f38.jpg: 640x640 5 0s, 4 1s, 4323.1ms\n",
            "image 402/1015 /content/drive/MyDrive/Safety-vest-Detection-8/test/images/ppe_0881_jpg.rf.96bd4de4e7438ce4c339989c3c1e9083.jpg: 640x640 5 0s, 5 1s, 5371.8ms\n",
            "image 403/1015 /content/drive/MyDrive/Safety-vest-Detection-8/test/images/ppe_0881_jpg.rf.d14f4e22960312cc82968a619dc057b4.jpg: 640x640 4 0s, 4 1s, 3933.8ms\n",
            "image 404/1015 /content/drive/MyDrive/Safety-vest-Detection-8/test/images/ppe_0882_jpg.rf.63fdffe645f3e0a7340540ffc89ff014.jpg: 640x640 2 0s, 2 1s, 3936.4ms\n",
            "image 405/1015 /content/drive/MyDrive/Safety-vest-Detection-8/test/images/ppe_0886_jpg.rf.38d07d4a5fcc35aefc78d0e9f2707f5a.jpg: 640x640 2 0s, 2 1s, 5756.8ms\n",
            "image 406/1015 /content/drive/MyDrive/Safety-vest-Detection-8/test/images/ppe_0886_jpg.rf.840562ecedf5361e0f8be75c61675b4d.jpg: 640x640 2 0s, 2 1s, 3984.6ms\n",
            "image 407/1015 /content/drive/MyDrive/Safety-vest-Detection-8/test/images/ppe_0886_jpg.rf.e0d7c092465f8e3978d85dc2ff023c26.jpg: 640x640 2 0s, 2 1s, 4056.8ms\n",
            "image 408/1015 /content/drive/MyDrive/Safety-vest-Detection-8/test/images/ppe_0888_jpg.rf.6cef6a8ab5c5f64a7f788aab7b8ce383.jpg: 640x640 6 0s, 6 1s, 5651.4ms\n",
            "image 409/1015 /content/drive/MyDrive/Safety-vest-Detection-8/test/images/ppe_0888_jpg.rf.c75455c949683641bc0e308d7a6ee39d.jpg: 640x640 7 0s, 6 1s, 4060.2ms\n",
            "image 410/1015 /content/drive/MyDrive/Safety-vest-Detection-8/test/images/ppe_0888_jpg.rf.da55988e8adf46153cae0986752c5fe8.jpg: 640x640 6 0s, 6 1s, 4020.7ms\n",
            "image 411/1015 /content/drive/MyDrive/Safety-vest-Detection-8/test/images/ppe_0893_jpg.rf.26f7f08d91257ccaadb60ebaa76fb5ec.jpg: 640x640 3 0s, 6 1s, 5186.9ms\n",
            "image 412/1015 /content/drive/MyDrive/Safety-vest-Detection-8/test/images/ppe_0893_jpg.rf.9e4beffb28c9ee8b99383a3585693295.jpg: 640x640 3 0s, 3 1s, 4522.6ms\n",
            "image 413/1015 /content/drive/MyDrive/Safety-vest-Detection-8/test/images/ppe_0893_jpg.rf.a0168dd1b94d17483f2ba1576c9197ea.jpg: 640x640 3 0s, 2 1s, 3914.4ms\n",
            "image 414/1015 /content/drive/MyDrive/Safety-vest-Detection-8/test/images/ppe_0897_jpg.rf.2ac8653801906079d8e69bd577cd82bf.jpg: 640x640 2 0s, 2 1s, 4625.3ms\n",
            "image 415/1015 /content/drive/MyDrive/Safety-vest-Detection-8/test/images/ppe_0897_jpg.rf.2d85fef099beac39033c28445b9d54d6.jpg: 640x640 2 0s, 2 1s, 5155.8ms\n",
            "image 416/1015 /content/drive/MyDrive/Safety-vest-Detection-8/test/images/ppe_0897_jpg.rf.d902710d837ef31ef1b4f74f0850736c.jpg: 640x640 2 0s, 2 1s, 4000.0ms\n",
            "image 417/1015 /content/drive/MyDrive/Safety-vest-Detection-8/test/images/ppe_0899_jpg.rf.138115e0addf3319c030cac9a2cbdeab.jpg: 640x640 4 0s, 1 1, 4174.2ms\n",
            "image 418/1015 /content/drive/MyDrive/Safety-vest-Detection-8/test/images/ppe_0899_jpg.rf.4d3262798510c52fcb06b318ba4b7338.jpg: 640x640 4 0s, 1 1, 5520.4ms\n",
            "image 419/1015 /content/drive/MyDrive/Safety-vest-Detection-8/test/images/ppe_0899_jpg.rf.bf7696bb363ac2734f854243ebdaf8bb.jpg: 640x640 6 0s, 1 1, 3904.8ms\n",
            "image 420/1015 /content/drive/MyDrive/Safety-vest-Detection-8/test/images/ppe_0903_jpg.rf.670b11298b09fc4d8dfbee539e1cb3b9.jpg: 640x640 1 0, 1 1, 3972.8ms\n",
            "image 421/1015 /content/drive/MyDrive/Safety-vest-Detection-8/test/images/ppe_0903_jpg.rf.712032b4e69b0e5689f4c23fe7458301.jpg: 640x640 1 0, 1 1, 5763.2ms\n",
            "image 422/1015 /content/drive/MyDrive/Safety-vest-Detection-8/test/images/ppe_0903_jpg.rf.aaa642ed804bd866d5b0a4f54f55962c.jpg: 640x640 1 0, 1 1, 3974.5ms\n",
            "image 423/1015 /content/drive/MyDrive/Safety-vest-Detection-8/test/images/ppe_0904_jpg.rf.3b3f4488c049245fb6514ae4bb7707f9.jpg: 640x640 4 0s, 4 1s, 4034.1ms\n",
            "image 424/1015 /content/drive/MyDrive/Safety-vest-Detection-8/test/images/ppe_0905_jpg.rf.3fe16e7d2bf2cc9df72f4173c56730b2.jpg: 640x640 2 0s, 2 1s, 5405.1ms\n",
            "image 425/1015 /content/drive/MyDrive/Safety-vest-Detection-8/test/images/ppe_0905_jpg.rf.7a1a52cb3fde52a73eef2f4d422367cc.jpg: 640x640 5 0s, 2 1s, 4284.8ms\n",
            "image 426/1015 /content/drive/MyDrive/Safety-vest-Detection-8/test/images/ppe_0905_jpg.rf.cbcb447787429ea4ccd1755cf97ad0ab.jpg: 640x640 5 0s, 2 1s, 3985.7ms\n",
            "image 427/1015 /content/drive/MyDrive/Safety-vest-Detection-8/test/images/ppe_0905_jpg.rf.f03fd457a8859b50060c526d9d599cc7.jpg: 640x640 3 0s, 1 1, 4852.9ms\n",
            "image 428/1015 /content/drive/MyDrive/Safety-vest-Detection-8/test/images/ppe_0906_jpg.rf.6032ec44801f4798816812462e28dfdb.jpg: 640x640 3 0s, 1 1, 4857.4ms\n",
            "image 429/1015 /content/drive/MyDrive/Safety-vest-Detection-8/test/images/ppe_0906_jpg.rf.6b3cd426e291706f2393df317bdf6a98.jpg: 640x640 3 0s, 2 1s, 3975.3ms\n",
            "image 430/1015 /content/drive/MyDrive/Safety-vest-Detection-8/test/images/ppe_0906_jpg.rf.a5421e7b40c74a25e49a9ca7e6fb4769.jpg: 640x640 3 0s, 2 1s, 4342.9ms\n",
            "image 431/1015 /content/drive/MyDrive/Safety-vest-Detection-8/test/images/ppe_0908_jpg.rf.622f33e004b20de415f16609e10edc3e.jpg: 640x640 3 0s, 3 1s, 5282.9ms\n",
            "image 432/1015 /content/drive/MyDrive/Safety-vest-Detection-8/test/images/ppe_0908_jpg.rf.c05681ceb4c5c2efc84b1b00caf95245.jpg: 640x640 3 0s, 3 1s, 5793.5ms\n",
            "image 433/1015 /content/drive/MyDrive/Safety-vest-Detection-8/test/images/ppe_0908_jpg.rf.da05b0d66e2c113599325263f1c9a599.jpg: 640x640 3 0s, 3 1s, 5289.5ms\n",
            "image 434/1015 /content/drive/MyDrive/Safety-vest-Detection-8/test/images/ppe_0913_jpg.rf.78a5fdbe09da7ec44e2492185d31ef75.jpg: 640x640 1 0, 1 1, 4597.8ms\n",
            "image 435/1015 /content/drive/MyDrive/Safety-vest-Detection-8/test/images/ppe_0913_jpg.rf.aab275bb73dd58b0a11826cd252fc050.jpg: 640x640 1 0, 1 1, 4376.6ms\n",
            "image 436/1015 /content/drive/MyDrive/Safety-vest-Detection-8/test/images/ppe_0913_jpg.rf.c5aec248e265906c51bad5a7340e4b2f.jpg: 640x640 2 0s, 4687.5ms\n",
            "image 437/1015 /content/drive/MyDrive/Safety-vest-Detection-8/test/images/ppe_0914_jpg.rf.4982e76a983834067243cc47592ca455.jpg: 640x640 1 0, 5021.1ms\n",
            "image 438/1015 /content/drive/MyDrive/Safety-vest-Detection-8/test/images/ppe_0914_jpg.rf.54959ed0f6f62d34a32e1082827c0f1e.jpg: 640x640 2 0s, 1 1, 4017.1ms\n",
            "image 439/1015 /content/drive/MyDrive/Safety-vest-Detection-8/test/images/ppe_0914_jpg.rf.944ddf83fd9d815a19e62b684849b203.jpg: 640x640 1 0, 1 1, 4237.6ms\n",
            "image 440/1015 /content/drive/MyDrive/Safety-vest-Detection-8/test/images/ppe_0916_jpg.rf.56d15a616caaf72ba959437b051a8f62.jpg: 640x640 2 0s, 2 1s, 5549.9ms\n",
            "image 441/1015 /content/drive/MyDrive/Safety-vest-Detection-8/test/images/ppe_0916_jpg.rf.7a668a9f971266f9361914d461dc454d.jpg: 640x640 2 0s, 2 1s, 4137.0ms\n",
            "image 442/1015 /content/drive/MyDrive/Safety-vest-Detection-8/test/images/ppe_0916_jpg.rf.80c952d4b587be0ca1c9d7b2cc8e6ab9.jpg: 640x640 2 0s, 2 1s, 3950.9ms\n",
            "image 443/1015 /content/drive/MyDrive/Safety-vest-Detection-8/test/images/ppe_0917_jpg.rf.57280e1ac646ff9e6a1acb98d165a2a8.jpg: 640x640 3 0s, 3 1s, 5782.9ms\n",
            "image 444/1015 /content/drive/MyDrive/Safety-vest-Detection-8/test/images/ppe_0917_jpg.rf.8035c0d1198a09c374054d57a19c037a.jpg: 640x640 3 0s, 3 1s, 4026.4ms\n",
            "image 445/1015 /content/drive/MyDrive/Safety-vest-Detection-8/test/images/ppe_0917_jpg.rf.c5f35453176dd0649415d4494cd92be0.jpg: 640x640 3 0s, 3 1s, 3966.7ms\n",
            "image 446/1015 /content/drive/MyDrive/Safety-vest-Detection-8/test/images/ppe_0920_jpg.rf.366f719326e56b42c3af7addc7a3f92a.jpg: 640x640 5 0s, 1 1, 5622.6ms\n",
            "image 447/1015 /content/drive/MyDrive/Safety-vest-Detection-8/test/images/ppe_0920_jpg.rf.e404a5e9ce5051b727f35e0ce74eb064.jpg: 640x640 6 0s, 1 1, 4131.1ms\n",
            "image 448/1015 /content/drive/MyDrive/Safety-vest-Detection-8/test/images/ppe_0921_jpg.rf.ab8564c65658a7f41e18e312a36629c4.jpg: 640x640 4 0s, 3 1s, 4060.2ms\n",
            "image 449/1015 /content/drive/MyDrive/Safety-vest-Detection-8/test/images/ppe_0922_jpg.rf.6c9617f027f139314260dba4fc5cf21a.jpg: 640x640 2 0s, 2 1s, 5053.4ms\n",
            "image 450/1015 /content/drive/MyDrive/Safety-vest-Detection-8/test/images/ppe_0922_jpg.rf.7a069b2563b39090851d8e5534d31954.jpg: 640x640 2 0s, 2 1s, 4550.2ms\n",
            "image 451/1015 /content/drive/MyDrive/Safety-vest-Detection-8/test/images/ppe_0922_jpg.rf.8f5e8a666d879c67db1d3bf11436b61e.jpg: 640x640 2 0s, 2 1s, 3970.8ms\n",
            "image 452/1015 /content/drive/MyDrive/Safety-vest-Detection-8/test/images/ppe_0923_jpg.rf.a1f32f20b644b443e5ec520dbbc5e697.jpg: 640x640 1 0, 1 1, 4546.1ms\n",
            "image 453/1015 /content/drive/MyDrive/Safety-vest-Detection-8/test/images/ppe_0923_jpg.rf.c87e3ed19b643f04ac1c86c5332c23fc.jpg: 640x640 1 0, 1 1, 5135.7ms\n",
            "image 454/1015 /content/drive/MyDrive/Safety-vest-Detection-8/test/images/ppe_0923_jpg.rf.ee69e21e76516b6a66a3463a7b4f22e3.jpg: 640x640 1 0, 1 1, 4059.6ms\n",
            "image 455/1015 /content/drive/MyDrive/Safety-vest-Detection-8/test/images/ppe_0925_jpg.rf.d463d6948e8bcfb9390ab96553092ea0.jpg: 640x640 2 0s, 1 1, 4072.3ms\n",
            "image 456/1015 /content/drive/MyDrive/Safety-vest-Detection-8/test/images/ppe_0927_jpg.rf.54fd5a2656fc61c33344389742dcdf84.jpg: 640x640 2 0s, 2 1s, 5628.9ms\n",
            "image 457/1015 /content/drive/MyDrive/Safety-vest-Detection-8/test/images/ppe_0927_jpg.rf.a208813c3f360d57923157c7d173d070.jpg: 640x640 2 0s, 2 1s, 3943.5ms\n",
            "image 458/1015 /content/drive/MyDrive/Safety-vest-Detection-8/test/images/ppe_0927_jpg.rf.c02c476d98ce7c0bd9a0664f54f40a04.jpg: 640x640 2 0s, 2 1s, 3967.3ms\n",
            "image 459/1015 /content/drive/MyDrive/Safety-vest-Detection-8/test/images/ppe_0927_jpg.rf.e664003dfdfa289f798faf46d0b1d2b1.jpg: 640x640 2 0s, 2 1s, 5760.3ms\n",
            "image 460/1015 /content/drive/MyDrive/Safety-vest-Detection-8/test/images/ppe_0929_jpg.rf.3f349ba890ed71249601595b2b322eef.jpg: 640x640 3 0s, 4 1s, 4072.0ms\n",
            "image 461/1015 /content/drive/MyDrive/Safety-vest-Detection-8/test/images/ppe_0929_jpg.rf.dd6842bc671049e1b20f997e9d5e5f73.jpg: 640x640 4 0s, 3 1s, 4060.0ms\n",
            "image 462/1015 /content/drive/MyDrive/Safety-vest-Detection-8/test/images/ppe_0929_jpg.rf.f5e2f1d9a4096b6edbf61dc8ed27cb53.jpg: 640x640 4 0s, 4 1s, 5518.0ms\n",
            "image 463/1015 /content/drive/MyDrive/Safety-vest-Detection-8/test/images/ppe_0933_jpg.rf.1be606b2100b30ffcba6b0c19b451daf.jpg: 640x640 3 0s, 3 1s, 4189.9ms\n",
            "image 464/1015 /content/drive/MyDrive/Safety-vest-Detection-8/test/images/ppe_0933_jpg.rf.42caf1ec6cf41cfb8028267a7f0dfc69.jpg: 640x640 2 0s, 1 1, 3968.7ms\n",
            "image 465/1015 /content/drive/MyDrive/Safety-vest-Detection-8/test/images/ppe_0933_jpg.rf.9432f39642bf626eeceff8e7f5f65e3c.jpg: 640x640 3 0s, 3 1s, 5131.7ms\n",
            "image 466/1015 /content/drive/MyDrive/Safety-vest-Detection-8/test/images/ppe_0934_jpg.rf.077d6e9d4b51ecc5fd8fe477d0377fa4.jpg: 640x640 3 0s, 2 1s, 4718.7ms\n",
            "image 467/1015 /content/drive/MyDrive/Safety-vest-Detection-8/test/images/ppe_0934_jpg.rf.0d5b11b25d90b48bf7706b3300585e35.jpg: 640x640 3 0s, 2 1s, 4003.1ms\n",
            "image 468/1015 /content/drive/MyDrive/Safety-vest-Detection-8/test/images/ppe_0934_jpg.rf.ce906f61fc31d0b85c82b110a203c03d.jpg: 640x640 3 0s, 2 1s, 4666.9ms\n",
            "image 469/1015 /content/drive/MyDrive/Safety-vest-Detection-8/test/images/ppe_0935_jpg.rf.0a583d84bbb52c42fbaa641c3559592c.jpg: 640x640 8 0s, 7 1s, 5050.6ms\n",
            "image 470/1015 /content/drive/MyDrive/Safety-vest-Detection-8/test/images/ppe_0935_jpg.rf.2c376aea515cbdbd9cef14a8d1cb74de.jpg: 640x640 8 0s, 6 1s, 4047.9ms\n",
            "image 471/1015 /content/drive/MyDrive/Safety-vest-Detection-8/test/images/ppe_0935_jpg.rf.9c27e0bf2ce1b1b99c5d636565e05587.jpg: 640x640 10 0s, 8 1s, 4248.4ms\n",
            "image 472/1015 /content/drive/MyDrive/Safety-vest-Detection-8/test/images/ppe_0936_jpg.rf.06fe19f7e161d296e2624616a9d0065d.jpg: 640x640 3 0s, 3 1s, 5507.6ms\n",
            "image 473/1015 /content/drive/MyDrive/Safety-vest-Detection-8/test/images/ppe_0936_jpg.rf.9fb1f513fc00126b2067b2a8f4142872.jpg: 640x640 3 0s, 3 1s, 3949.3ms\n",
            "image 474/1015 /content/drive/MyDrive/Safety-vest-Detection-8/test/images/ppe_0936_jpg.rf.f30cd84d8a3ee3c16cc18d7a6365cd85.jpg: 640x640 3 0s, 3 1s, 3990.1ms\n",
            "image 475/1015 /content/drive/MyDrive/Safety-vest-Detection-8/test/images/ppe_0938_jpg.rf.1c2f313278fdeb04612e3770385472a8.jpg: 640x640 3 0s, 2 1s, 5751.9ms\n",
            "image 476/1015 /content/drive/MyDrive/Safety-vest-Detection-8/test/images/ppe_0938_jpg.rf.9be1b52ae42eb97bd6c9e2ad9b663983.jpg: 640x640 3 0s, 2 1s, 4057.2ms\n",
            "image 477/1015 /content/drive/MyDrive/Safety-vest-Detection-8/test/images/ppe_0938_jpg.rf.a4c733479ec234df2b9fc7662b928208.jpg: 640x640 3 0s, 2 1s, 4072.4ms\n",
            "image 478/1015 /content/drive/MyDrive/Safety-vest-Detection-8/test/images/ppe_0940_jpg.rf.349d6388bcf703c1445622b9b1e6d2fe.jpg: 640x640 1 0, 1 1, 5609.1ms\n",
            "image 479/1015 /content/drive/MyDrive/Safety-vest-Detection-8/test/images/ppe_0940_jpg.rf.36630695cb155564dce0e3fa14cc94a2.jpg: 640x640 2 0s, 1 1, 5500.3ms\n",
            "image 480/1015 /content/drive/MyDrive/Safety-vest-Detection-8/test/images/ppe_0940_jpg.rf.bf7c35359c376c4df911e004b860599a.jpg: 640x640 2 0s, 1 1, 4754.0ms\n",
            "image 481/1015 /content/drive/MyDrive/Safety-vest-Detection-8/test/images/ppe_0941_jpg.rf.51165b2126f846b24a87498656b2d9c2.jpg: 640x640 3 0s, 3 1s, 5833.4ms\n",
            "image 482/1015 /content/drive/MyDrive/Safety-vest-Detection-8/test/images/ppe_0941_jpg.rf.cff109cde925393806922a6c95a4a62b.jpg: 640x640 3 0s, 3 1s, 4040.5ms\n",
            "image 483/1015 /content/drive/MyDrive/Safety-vest-Detection-8/test/images/ppe_0941_jpg.rf.fd5e2b45685c42f907876eccc96dd7e4.jpg: 640x640 3 0s, 3 1s, 3984.5ms\n",
            "image 484/1015 /content/drive/MyDrive/Safety-vest-Detection-8/test/images/ppe_0942_jpg.rf.8e97d97c9f6b1f8bfb80c075f5296914.jpg: 640x640 2 0s, 2 1s, 5790.3ms\n",
            "image 485/1015 /content/drive/MyDrive/Safety-vest-Detection-8/test/images/ppe_0942_jpg.rf.c93200252bc7eee45f4e28134e48201c.jpg: 640x640 2 0s, 2 1s, 4049.9ms\n",
            "image 486/1015 /content/drive/MyDrive/Safety-vest-Detection-8/test/images/ppe_0942_jpg.rf.f9c754e04cb18220dd0495489c322b73.jpg: 640x640 2 0s, 2 1s, 4002.4ms\n",
            "image 487/1015 /content/drive/MyDrive/Safety-vest-Detection-8/test/images/ppe_0943_jpg.rf.234dc6b8666768856a7a9c85ea3fe1e6.jpg: 640x640 3 0s, 2 1s, 5529.4ms\n",
            "image 488/1015 /content/drive/MyDrive/Safety-vest-Detection-8/test/images/ppe_0943_jpg.rf.97859d81da79d5142c5600d0642dc533.jpg: 640x640 3 0s, 2 1s, 4188.2ms\n",
            "image 489/1015 /content/drive/MyDrive/Safety-vest-Detection-8/test/images/ppe_0943_jpg.rf.d4aaf2394d1a01a133a2e52534566599.jpg: 640x640 3 0s, 4 1s, 4006.5ms\n",
            "image 490/1015 /content/drive/MyDrive/Safety-vest-Detection-8/test/images/ppe_0945_jpg.rf.cff0e4566a13f94c57284ed717a19abf.jpg: 640x640 2 0s, 2 1s, 5016.3ms\n",
            "image 491/1015 /content/drive/MyDrive/Safety-vest-Detection-8/test/images/ppe_0945_jpg.rf.df6f6c4416977934285ce30fdf0bdde9.jpg: 640x640 2 0s, 2 1s, 4734.9ms\n",
            "image 492/1015 /content/drive/MyDrive/Safety-vest-Detection-8/test/images/ppe_0945_jpg.rf.ec458cdad634d9f504b655a8cccf0509.jpg: 640x640 2 0s, 2 1s, 4023.3ms\n",
            "image 493/1015 /content/drive/MyDrive/Safety-vest-Detection-8/test/images/ppe_0951_jpg.rf.43c2ee9840c3ab3da277d1140ea2b078.jpg: 640x640 4 0s, 4 1s, 4410.4ms\n",
            "image 494/1015 /content/drive/MyDrive/Safety-vest-Detection-8/test/images/ppe_0952_jpg.rf.432504496d941762e6eeaf76d83925d3.jpg: 640x640 2 0s, 2 1s, 5212.7ms\n",
            "image 495/1015 /content/drive/MyDrive/Safety-vest-Detection-8/test/images/ppe_0952_jpg.rf.4ca817f7e9ebe6e4dd81a91262d553a8.jpg: 640x640 2 0s, 2 1s, 4021.5ms\n",
            "image 496/1015 /content/drive/MyDrive/Safety-vest-Detection-8/test/images/ppe_0952_jpg.rf.aaf7f436e6cb2a6a940a5bb85c659f6c.jpg: 640x640 2 0s, 2 1s, 3949.7ms\n",
            "image 497/1015 /content/drive/MyDrive/Safety-vest-Detection-8/test/images/ppe_0954_jpg.rf.4cb12fd140eb04d155ba42c5269efc48.jpg: 640x640 3 0s, 3 1s, 6193.4ms\n",
            "image 498/1015 /content/drive/MyDrive/Safety-vest-Detection-8/test/images/ppe_0954_jpg.rf.939a9bc1a5b9f0d67357c559310de485.jpg: 640x640 3 0s, 3 1s, 4024.3ms\n",
            "image 499/1015 /content/drive/MyDrive/Safety-vest-Detection-8/test/images/ppe_0954_jpg.rf.f46324ecb0d8bca45eafcecbb1776ab5.jpg: 640x640 3 0s, 3 1s, 3890.1ms\n",
            "image 500/1015 /content/drive/MyDrive/Safety-vest-Detection-8/test/images/ppe_0972_jpg.rf.518775d7dc4812508739327d31705a0e.jpg: 640x640 2 0s, 2 1s, 5815.0ms\n",
            "image 501/1015 /content/drive/MyDrive/Safety-vest-Detection-8/test/images/ppe_0972_jpg.rf.b985944cc58b8236461231700cb28796.jpg: 640x640 2 0s, 2 1s, 3976.4ms\n",
            "image 502/1015 /content/drive/MyDrive/Safety-vest-Detection-8/test/images/ppe_0972_jpg.rf.f00ff1110e29ae7e0fe7d3f451f30f0f.jpg: 640x640 2 0s, 2 1s, 4124.3ms\n",
            "image 503/1015 /content/drive/MyDrive/Safety-vest-Detection-8/test/images/ppe_0974_jpg.rf.22505161df756a334d6cb8dfd45b8b2b.jpg: 640x640 3 0s, 2 1s, 5497.2ms\n",
            "image 504/1015 /content/drive/MyDrive/Safety-vest-Detection-8/test/images/ppe_0974_jpg.rf.b50765d1ef97d215f028e98aa40eec41.jpg: 640x640 3 0s, 2 1s, 4178.4ms\n",
            "image 505/1015 /content/drive/MyDrive/Safety-vest-Detection-8/test/images/ppe_0974_jpg.rf.fab2612420545dc878fb4db2ca0ece55.jpg: 640x640 3 0s, 3 1s, 4009.7ms\n",
            "image 506/1015 /content/drive/MyDrive/Safety-vest-Detection-8/test/images/ppe_0977_jpg.rf.0f9e608b3c6d3b1641bc1cbb4d0d9df6.jpg: 640x640 2 0s, 2 1s, 5193.2ms\n",
            "image 507/1015 /content/drive/MyDrive/Safety-vest-Detection-8/test/images/ppe_0977_jpg.rf.a43360cd227ef49f3ef526659dc06716.jpg: 640x640 2 0s, 2 1s, 4801.4ms\n",
            "image 508/1015 /content/drive/MyDrive/Safety-vest-Detection-8/test/images/ppe_0977_jpg.rf.a53bbb684f581e08489e7650f85beab4.jpg: 640x640 2 0s, 2 1s, 3986.9ms\n",
            "image 509/1015 /content/drive/MyDrive/Safety-vest-Detection-8/test/images/ppe_0983_jpg.rf.5fe711bba2bf09d86702c8eecdda15bd.jpg: 640x640 4 0s, 3 1s, 4525.5ms\n",
            "image 510/1015 /content/drive/MyDrive/Safety-vest-Detection-8/test/images/ppe_0983_jpg.rf.82e4a81448db1db482070547718933a4.jpg: 640x640 4 0s, 3 1s, 5173.8ms\n",
            "image 511/1015 /content/drive/MyDrive/Safety-vest-Detection-8/test/images/ppe_0983_jpg.rf.ae9cbc8a9948bf7a8dfd31207d620c2c.jpg: 640x640 3 0s, 4 1s, 4085.7ms\n",
            "image 512/1015 /content/drive/MyDrive/Safety-vest-Detection-8/test/images/ppe_0985_jpg.rf.2e0f562144a881ce938ee3de5b905718.jpg: 640x640 3 0s, 3 1s, 4018.8ms\n",
            "image 513/1015 /content/drive/MyDrive/Safety-vest-Detection-8/test/images/ppe_0985_jpg.rf.54ec23fbbbee239e74791911bb4c6434.jpg: 640x640 3 0s, 3 1s, 5614.1ms\n",
            "image 514/1015 /content/drive/MyDrive/Safety-vest-Detection-8/test/images/ppe_0985_jpg.rf.7921301eeac25f9c32b4ca78ca2ec287.jpg: 640x640 3 0s, 4 1s, 4041.1ms\n",
            "image 515/1015 /content/drive/MyDrive/Safety-vest-Detection-8/test/images/ppe_0986_jpg.rf.0ed8d63a7f4ed19db9dd95654d1d86ac.jpg: 640x640 2 0s, 1 1, 4073.4ms\n",
            "image 516/1015 /content/drive/MyDrive/Safety-vest-Detection-8/test/images/ppe_0986_jpg.rf.27fa6cdde976a8d9f1abaa5186f71d4f.jpg: 640x640 3 0s, 5859.4ms\n",
            "image 517/1015 /content/drive/MyDrive/Safety-vest-Detection-8/test/images/ppe_0986_jpg.rf.af47d02e4c798c603e119c243bc4111d.jpg: 640x640 3 0s, 1 1, 3992.8ms\n",
            "image 518/1015 /content/drive/MyDrive/Safety-vest-Detection-8/test/images/ppe_0991_jpg.rf.004909164588c4fbb0f2029b9400179d.jpg: 640x640 3 0s, 3 1s, 3942.4ms\n",
            "image 519/1015 /content/drive/MyDrive/Safety-vest-Detection-8/test/images/ppe_0991_jpg.rf.ae36f90dd087d1eadd0299a389437b29.jpg: 640x640 3 0s, 3 1s, 5522.9ms\n",
            "image 520/1015 /content/drive/MyDrive/Safety-vest-Detection-8/test/images/ppe_0991_jpg.rf.fc934a4a0f5cf652690e8adb7b9697df.jpg: 640x640 3 0s, 3 1s, 4291.0ms\n",
            "image 521/1015 /content/drive/MyDrive/Safety-vest-Detection-8/test/images/ppe_0992_jpg.rf.6e440476098bacadaf0cc18162e0fdd9.jpg: 640x640 3 0s, 3 1s, 4018.9ms\n",
            "image 522/1015 /content/drive/MyDrive/Safety-vest-Detection-8/test/images/ppe_0992_jpg.rf.ad36dbbb814ae099d6b5468f443722c6.jpg: 640x640 4 0s, 4 1s, 5066.5ms\n",
            "image 523/1015 /content/drive/MyDrive/Safety-vest-Detection-8/test/images/ppe_0992_jpg.rf.f7fc38866fff43ba059aa9aef9fa7750.jpg: 640x640 4 0s, 4 1s, 4569.1ms\n",
            "image 524/1015 /content/drive/MyDrive/Safety-vest-Detection-8/test/images/ppe_0993_jpg.rf.324516753f8ad8dceea50a145066b744.jpg: 640x640 3 0s, 3 1s, 4030.3ms\n",
            "image 525/1015 /content/drive/MyDrive/Safety-vest-Detection-8/test/images/ppe_0993_jpg.rf.b528beb5fc2689c855dceeda49a9c26f.jpg: 640x640 3 0s, 3 1s, 4533.7ms\n",
            "image 526/1015 /content/drive/MyDrive/Safety-vest-Detection-8/test/images/ppe_0993_jpg.rf.c294726002d237ef29047c580a9de86b.jpg: 640x640 3 0s, 2 1s, 6377.1ms\n",
            "image 527/1015 /content/drive/MyDrive/Safety-vest-Detection-8/test/images/ppe_0994_jpg.rf.5a748d980197907d1e00ddc4934f20ef.jpg: 640x640 2 0s, 2 1s, 4849.9ms\n",
            "image 528/1015 /content/drive/MyDrive/Safety-vest-Detection-8/test/images/ppe_0994_jpg.rf.5d8e841ac19ad5d65af4d076b68dc7ac.jpg: 640x640 2 0s, 2 1s, 5087.7ms\n",
            "image 529/1015 /content/drive/MyDrive/Safety-vest-Detection-8/test/images/ppe_0994_jpg.rf.7e80e79e7548d244bab5fa031a806368.jpg: 640x640 2 0s, 2 1s, 4676.5ms\n",
            "image 530/1015 /content/drive/MyDrive/Safety-vest-Detection-8/test/images/ppe_0995_jpg.rf.4007a8391c43014bbdb16f790b615db0.jpg: 640x640 1 0, 1 1, 4044.1ms\n",
            "image 531/1015 /content/drive/MyDrive/Safety-vest-Detection-8/test/images/ppe_0995_jpg.rf.6fbebd9b7c2bd4159e65a4b2273abec6.jpg: 640x640 1 0, 1 1, 4566.4ms\n",
            "image 532/1015 /content/drive/MyDrive/Safety-vest-Detection-8/test/images/ppe_0995_jpg.rf.ab92a4e0cd3889f14c8eb68558ed42ef.jpg: 640x640 1 0, 1 1, 5051.7ms\n",
            "image 533/1015 /content/drive/MyDrive/Safety-vest-Detection-8/test/images/ppe_0996_jpg.rf.14d21c0b30ebe41b87e8304865d29616.jpg: 640x640 2 0s, 2 1s, 3975.6ms\n",
            "image 534/1015 /content/drive/MyDrive/Safety-vest-Detection-8/test/images/ppe_0996_jpg.rf.239471bc75b1c92cf0be0ecc92f751a7.jpg: 640x640 2 0s, 2 1s, 4048.8ms\n",
            "image 535/1015 /content/drive/MyDrive/Safety-vest-Detection-8/test/images/ppe_0996_jpg.rf.d4249b992d320d1aeaddaabe38ad8549.jpg: 640x640 2 0s, 2 1s, 5631.0ms\n",
            "image 536/1015 /content/drive/MyDrive/Safety-vest-Detection-8/test/images/ppe_0999_jpg.rf.9f64d307d4cc2c55d91122a7f7c15845.jpg: 640x640 3 0s, 1 1, 3971.6ms\n",
            "image 537/1015 /content/drive/MyDrive/Safety-vest-Detection-8/test/images/ppe_1000_jpg.rf.680eb2c2879f20006949850c70789192.jpg: 640x640 5 0s, 5 1s, 3949.4ms\n",
            "image 538/1015 /content/drive/MyDrive/Safety-vest-Detection-8/test/images/ppe_1000_jpg.rf.8e8aa487dfb1c3920516afeb70344315.jpg: 640x640 4 0s, 2 1s, 5735.3ms\n",
            "image 539/1015 /content/drive/MyDrive/Safety-vest-Detection-8/test/images/ppe_1000_jpg.rf.c9929b8cca74b8d9d2544859640d1a1f.jpg: 640x640 4 0s, 4 1s, 4045.4ms\n",
            "image 540/1015 /content/drive/MyDrive/Safety-vest-Detection-8/test/images/ppe_1004_jpg.rf.bd9eed57b0853b2c714dd269f659fada.jpg: 640x640 1 0, 2 1s, 4021.4ms\n",
            "image 541/1015 /content/drive/MyDrive/Safety-vest-Detection-8/test/images/ppe_1006_jpg.rf.386b4da2f804d15f2d511a3d5d47b528.jpg: 640x640 4 0s, 4 1s, 5365.9ms\n",
            "image 542/1015 /content/drive/MyDrive/Safety-vest-Detection-8/test/images/ppe_1006_jpg.rf.8acc522f2d47a8695e56abc975c73ecf.jpg: 640x640 5 0s, 4 1s, 4350.3ms\n",
            "image 543/1015 /content/drive/MyDrive/Safety-vest-Detection-8/test/images/ppe_1006_jpg.rf.a2b4423dfdccd5fea0d9a2c468792d7b.jpg: 640x640 5 0s, 5 1s, 4039.8ms\n",
            "image 544/1015 /content/drive/MyDrive/Safety-vest-Detection-8/test/images/ppe_1007_jpg.rf.0047f9d81b35909649b7aa7e8232fe49.jpg: 640x640 4 0s, 1 1, 4830.0ms\n",
            "image 545/1015 /content/drive/MyDrive/Safety-vest-Detection-8/test/images/ppe_1007_jpg.rf.98c364d2a43f36b1941b46b274fa6c94.jpg: 640x640 5 0s, 2 1s, 4813.7ms\n",
            "image 546/1015 /content/drive/MyDrive/Safety-vest-Detection-8/test/images/ppe_1007_jpg.rf.9ba52037c61ff3299b8575e1490c435d.jpg: 640x640 3 0s, 3 1s, 3951.0ms\n",
            "image 547/1015 /content/drive/MyDrive/Safety-vest-Detection-8/test/images/ppe_1010_jpg.rf.6cf3025af142c1a44996615dd5e74bcf.jpg: 640x640 6 0s, 4 1s, 4296.2ms\n",
            "image 548/1015 /content/drive/MyDrive/Safety-vest-Detection-8/test/images/ppe_1010_jpg.rf.8d74907efcb551cda42a7b4496daadcb.jpg: 640x640 7 0s, 3 1s, 5382.6ms\n",
            "image 549/1015 /content/drive/MyDrive/Safety-vest-Detection-8/test/images/ppe_1010_jpg.rf.eee47bf51f9065f9d0c38622d2ec1c0f.jpg: 640x640 5 0s, 4 1s, 3992.7ms\n",
            "image 550/1015 /content/drive/MyDrive/Safety-vest-Detection-8/test/images/ppe_1011_jpg.rf.227ecf035c4525ef2d971332941552cc.jpg: 640x640 1 0, 1 1, 3953.3ms\n",
            "image 551/1015 /content/drive/MyDrive/Safety-vest-Detection-8/test/images/ppe_1011_jpg.rf.40dd45a8dca35b6bdcc253e920bb0c5e.jpg: 640x640 2 0s, 1 1, 5701.1ms\n",
            "image 552/1015 /content/drive/MyDrive/Safety-vest-Detection-8/test/images/ppe_1011_jpg.rf.d89f0e016849a796053a93c32d804726.jpg: 640x640 2 0s, 2 1s, 3968.8ms\n",
            "image 553/1015 /content/drive/MyDrive/Safety-vest-Detection-8/test/images/ppe_1014_jpg.rf.4bd9c6fccf7223cfccd7102739030a92.jpg: 640x640 2 0s, 2 1s, 3992.5ms\n",
            "image 554/1015 /content/drive/MyDrive/Safety-vest-Detection-8/test/images/ppe_1014_jpg.rf.a0a8b618d72a5c8116d21f6ddc5f4bbb.jpg: 640x640 2 0s, 2 1s, 5578.0ms\n",
            "image 555/1015 /content/drive/MyDrive/Safety-vest-Detection-8/test/images/ppe_1014_jpg.rf.c83cfb34ae0de2159d855164d5d558b3.jpg: 640x640 2 0s, 2 1s, 4142.8ms\n",
            "image 556/1015 /content/drive/MyDrive/Safety-vest-Detection-8/test/images/ppe_1014_jpg.rf.d0c3512d4f8181c63edfe99a1e4e0867.jpg: 640x640 2 0s, 2 1s, 3944.0ms\n",
            "image 557/1015 /content/drive/MyDrive/Safety-vest-Detection-8/test/images/ppe_1015_jpg.rf.d4c76f381e80b4ab8403e1bc2b05f220.jpg: 640x640 4 0s, 2 1s, 4944.3ms\n",
            "image 558/1015 /content/drive/MyDrive/Safety-vest-Detection-8/test/images/ppe_1018_jpg.rf.1f96d9ff02b46183d12e09150610d1ad.jpg: 640x640 1 0, 1 1, 4824.5ms\n",
            "image 559/1015 /content/drive/MyDrive/Safety-vest-Detection-8/test/images/ppe_1018_jpg.rf.795c4114cbe969d4fade2abd633cc8d5.jpg: 640x640 1 0, 1 1, 3966.9ms\n",
            "image 560/1015 /content/drive/MyDrive/Safety-vest-Detection-8/test/images/ppe_1018_jpg.rf.861e0a3083bf7fb22c491e57937fc709.jpg: 640x640 1 0, 1 1, 4445.2ms\n",
            "image 561/1015 /content/drive/MyDrive/Safety-vest-Detection-8/test/images/ppe_1019_jpg.rf.a3ddddad6676a5f69c30eb049bd1a8cc.jpg: 640x640 3 0s, 1 1, 5186.1ms\n",
            "image 562/1015 /content/drive/MyDrive/Safety-vest-Detection-8/test/images/ppe_1020_jpg.rf.4945441c2670133e3277cae93f399f30.jpg: 640x640 2 0s, 1 1, 4006.6ms\n",
            "image 563/1015 /content/drive/MyDrive/Safety-vest-Detection-8/test/images/ppe_1020_jpg.rf.5f7072fac390bac089cf68d627e102b1.jpg: 640x640 2 0s, 2 1s, 3912.9ms\n",
            "image 564/1015 /content/drive/MyDrive/Safety-vest-Detection-8/test/images/ppe_1020_jpg.rf.e71d4c01e8a79969a73d786dce64daae.jpg: 640x640 4 0s, 4 1s, 5677.6ms\n",
            "image 565/1015 /content/drive/MyDrive/Safety-vest-Detection-8/test/images/ppe_1021_jpg.rf.5e15623af7e2d950614a5e6e835e1136.jpg: 640x640 2 0s, 1 1, 3996.0ms\n",
            "image 566/1015 /content/drive/MyDrive/Safety-vest-Detection-8/test/images/ppe_1021_jpg.rf.63a7a4ef89edd7122ee77d00724ccfb1.jpg: 640x640 2 0s, 1 1, 3988.7ms\n",
            "image 567/1015 /content/drive/MyDrive/Safety-vest-Detection-8/test/images/ppe_1021_jpg.rf.8a0211231a44bef52cf77175fd43c77c.jpg: 640x640 2 0s, 1 1, 5812.2ms\n",
            "image 568/1015 /content/drive/MyDrive/Safety-vest-Detection-8/test/images/ppe_1022_jpg.rf.6adc2e8bbfdbfdd3c669633b8efce033.jpg: 640x640 3 0s, 3 1s, 3946.1ms\n",
            "image 569/1015 /content/drive/MyDrive/Safety-vest-Detection-8/test/images/ppe_1022_jpg.rf.a6a971d7f30f00dd0ca2cae936dcdc86.jpg: 640x640 3 0s, 3 1s, 3967.8ms\n",
            "image 570/1015 /content/drive/MyDrive/Safety-vest-Detection-8/test/images/ppe_1022_jpg.rf.a6b174562207845caa32e1c41900d464.jpg: 640x640 3 0s, 3 1s, 5299.3ms\n",
            "image 571/1015 /content/drive/MyDrive/Safety-vest-Detection-8/test/images/ppe_1024_jpg.rf.51043b7faa26174d9a16454fbbb28d2c.jpg: 640x640 8 0s, 6 1s, 4712.3ms\n",
            "image 572/1015 /content/drive/MyDrive/Safety-vest-Detection-8/test/images/ppe_1024_jpg.rf.750e8bf1f47b8f0419b4b2bf65a24533.jpg: 640x640 7 0s, 6 1s, 3985.7ms\n",
            "image 573/1015 /content/drive/MyDrive/Safety-vest-Detection-8/test/images/ppe_1024_jpg.rf.f738046010c514bd81a58a8c7d651ef7.jpg: 640x640 8 0s, 7 1s, 4833.5ms\n",
            "image 574/1015 /content/drive/MyDrive/Safety-vest-Detection-8/test/images/ppe_1027_jpg.rf.1d6917b2469d20f6e8e9378fe8c400d8.jpg: 640x640 7 0s, 5 1s, 6301.2ms\n",
            "image 575/1015 /content/drive/MyDrive/Safety-vest-Detection-8/test/images/ppe_1027_jpg.rf.7feec4bab375079c0d5229472b1a2a26.jpg: 640x640 7 0s, 7 1s, 4623.3ms\n",
            "image 576/1015 /content/drive/MyDrive/Safety-vest-Detection-8/test/images/ppe_1027_jpg.rf.88a259281bfa0100a2ce2cb8108a449d.jpg: 640x640 8 0s, 6 1s, 5467.5ms\n",
            "image 577/1015 /content/drive/MyDrive/Safety-vest-Detection-8/test/images/ppe_1028_jpg.rf.8184eb408242c7e35f838db30b169a07.jpg: 640x640 1 0, 1 1, 4318.1ms\n",
            "image 578/1015 /content/drive/MyDrive/Safety-vest-Detection-8/test/images/ppe_1028_jpg.rf.d2632bc7387dd8d039e770f2ffa4dd08.jpg: 640x640 1 0, 1 1, 3916.0ms\n",
            "image 579/1015 /content/drive/MyDrive/Safety-vest-Detection-8/test/images/ppe_1028_jpg.rf.d9a1f96e8a72b7c04108352c9d987476.jpg: 640x640 1 0, 1 1, 4696.1ms\n",
            "image 580/1015 /content/drive/MyDrive/Safety-vest-Detection-8/test/images/ppe_1029_jpg.rf.47eb3ed9166e63fe7c672d2776664f57.jpg: 640x640 3 0s, 3 1s, 4952.5ms\n",
            "image 581/1015 /content/drive/MyDrive/Safety-vest-Detection-8/test/images/ppe_1029_jpg.rf.6263887a3475e7f11145676d0667c410.jpg: 640x640 3 0s, 3 1s, 4116.5ms\n",
            "image 582/1015 /content/drive/MyDrive/Safety-vest-Detection-8/test/images/ppe_1029_jpg.rf.b9690903ace066319f0d2d6c5f4e9885.jpg: 640x640 3 0s, 3 1s, 4371.2ms\n",
            "image 583/1015 /content/drive/MyDrive/Safety-vest-Detection-8/test/images/ppe_1030_jpg.rf.68d65df99bace68b211644014c96f896.jpg: 640x640 5 0s, 3 1s, 5264.0ms\n",
            "image 584/1015 /content/drive/MyDrive/Safety-vest-Detection-8/test/images/ppe_1030_jpg.rf.a90e16803cb552d80daf69f4f5a825c6.jpg: 640x640 5 0s, 5 1s, 3978.7ms\n",
            "image 585/1015 /content/drive/MyDrive/Safety-vest-Detection-8/test/images/ppe_1030_jpg.rf.d675797cd09b2f91ca77b94da2e6da61.jpg: 640x640 5 0s, 4 1s, 3925.4ms\n",
            "image 586/1015 /content/drive/MyDrive/Safety-vest-Detection-8/test/images/ppe_1031_jpg.rf.0f88e59a0c3933201d8fb81a567fdfb0.jpg: 640x640 2 0s, 2 1s, 5918.8ms\n",
            "image 587/1015 /content/drive/MyDrive/Safety-vest-Detection-8/test/images/ppe_1031_jpg.rf.8c3a916b34afb5b82e1f00d07c216e56.jpg: 640x640 2 0s, 2 1s, 4004.2ms\n",
            "image 588/1015 /content/drive/MyDrive/Safety-vest-Detection-8/test/images/ppe_1031_jpg.rf.e0dce222c591d4a6a4d2928a2c1f3f34.jpg: 640x640 2 0s, 2 1s, 3970.7ms\n",
            "image 589/1015 /content/drive/MyDrive/Safety-vest-Detection-8/test/images/ppe_1034_jpg.rf.251057e53e6f31388b60c9cb234c13a8.jpg: 640x640 2 0s, 2 1s, 5639.6ms\n",
            "image 590/1015 /content/drive/MyDrive/Safety-vest-Detection-8/test/images/ppe_1034_jpg.rf.a0ded9ae97ec403c5e728184eb6c890f.jpg: 640x640 2 0s, 2 1s, 4011.6ms\n",
            "image 591/1015 /content/drive/MyDrive/Safety-vest-Detection-8/test/images/ppe_1034_jpg.rf.c493251536f3b584844fac24845205a5.jpg: 640x640 2 0s, 2 1s, 3943.8ms\n",
            "image 592/1015 /content/drive/MyDrive/Safety-vest-Detection-8/test/images/ppe_1039_jpg.rf.58a086005e1758629bc931369926e2ed.jpg: 640x640 1 0, 1 1, 5180.3ms\n",
            "image 593/1015 /content/drive/MyDrive/Safety-vest-Detection-8/test/images/ppe_1039_jpg.rf.6132618c7708c3d35d23740b50641c89.jpg: 640x640 1 0, 1 1, 4623.9ms\n",
            "image 594/1015 /content/drive/MyDrive/Safety-vest-Detection-8/test/images/ppe_1039_jpg.rf.d1a05aa61414a166f49a7d2a425c30cc.jpg: 640x640 2 0s, 1 1, 3982.4ms\n",
            "image 595/1015 /content/drive/MyDrive/Safety-vest-Detection-8/test/images/ppe_1042_jpg.rf.1813e79016dc6700de48d28b4aa30825.jpg: 640x640 1 0, 1 1, 4541.9ms\n",
            "image 596/1015 /content/drive/MyDrive/Safety-vest-Detection-8/test/images/ppe_1042_jpg.rf.407555db2a0820aa1f74bc12bdedc126.jpg: 640x640 1 0, 1 1, 5084.1ms\n",
            "image 597/1015 /content/drive/MyDrive/Safety-vest-Detection-8/test/images/ppe_1042_jpg.rf.aeff13817491f0b8f16f69ab678f4185.jpg: 640x640 1 0, 1 1, 4007.4ms\n",
            "image 598/1015 /content/drive/MyDrive/Safety-vest-Detection-8/test/images/ppe_1044_jpg.rf.139b0704f2c09e23993bba63305d8168.jpg: 640x640 1 0, 1 1, 3978.8ms\n",
            "image 599/1015 /content/drive/MyDrive/Safety-vest-Detection-8/test/images/ppe_1044_jpg.rf.45259754a6488cd488b44ebcad139fd0.jpg: 640x640 1 0, 1 1, 5637.4ms\n",
            "image 600/1015 /content/drive/MyDrive/Safety-vest-Detection-8/test/images/ppe_1044_jpg.rf.efab80f2d14e9dd0f11dedfa9489a43d.jpg: 640x640 1 0, 1 1, 3966.0ms\n",
            "image 601/1015 /content/drive/MyDrive/Safety-vest-Detection-8/test/images/ppe_1045_jpg.rf.0ef9e1e0908b57a9c6674861260de9dd.jpg: 640x640 1 0, 1 1, 4078.0ms\n",
            "image 602/1015 /content/drive/MyDrive/Safety-vest-Detection-8/test/images/ppe_1045_jpg.rf.7b627fa098919000e7956d4647f284b4.jpg: 640x640 1 0, 1 1, 5775.7ms\n",
            "image 603/1015 /content/drive/MyDrive/Safety-vest-Detection-8/test/images/ppe_1045_jpg.rf.a2512c7e13b76a5219620ecf756571bb.jpg: 640x640 1 0, 1 1, 3981.3ms\n",
            "image 604/1015 /content/drive/MyDrive/Safety-vest-Detection-8/test/images/ppe_1049_jpg.rf.4340e1f5f09eec19a28b491ebcf5a4a1.jpg: 640x640 1 0, 1 1, 3926.8ms\n",
            "image 605/1015 /content/drive/MyDrive/Safety-vest-Detection-8/test/images/ppe_1049_jpg.rf.48ce6b2b821a878298692ab63a3a13e1.jpg: 640x640 1 0, 1 1, 5574.9ms\n",
            "image 606/1015 /content/drive/MyDrive/Safety-vest-Detection-8/test/images/ppe_1049_jpg.rf.9318e279481dd1d053979e8687288912.jpg: 640x640 1 0, 1 1, 4160.0ms\n",
            "image 607/1015 /content/drive/MyDrive/Safety-vest-Detection-8/test/images/ppe_1049_jpg.rf.edbfcde5912fb348e55b6e18cec9400d.jpg: 640x640 1 0, 1 1, 3941.7ms\n",
            "image 608/1015 /content/drive/MyDrive/Safety-vest-Detection-8/test/images/ppe_1052_jpg.rf.502b97c896a6cb826734cfe507745a1a.jpg: 640x640 1 0, 1 1, 4951.0ms\n",
            "image 609/1015 /content/drive/MyDrive/Safety-vest-Detection-8/test/images/ppe_1052_jpg.rf.dfe33f7c4fa3f2a04a0140109edc4f99.jpg: 640x640 1 0, 1 1, 4615.0ms\n",
            "image 610/1015 /content/drive/MyDrive/Safety-vest-Detection-8/test/images/ppe_1052_jpg.rf.ebcc7ec89eb8bf68df19f4c8b5511271.jpg: 640x640 1 0, 1 1, 3926.4ms\n",
            "image 611/1015 /content/drive/MyDrive/Safety-vest-Detection-8/test/images/ppe_1053_jpg.rf.14915c7e20b76323d07950ecd6b160f7.jpg: 640x640 2 0s, 2 1s, 4505.9ms\n",
            "image 612/1015 /content/drive/MyDrive/Safety-vest-Detection-8/test/images/ppe_1053_jpg.rf.41035431ce78229845a1af882b451dc6.jpg: 640x640 2 0s, 2 1s, 5210.7ms\n",
            "image 613/1015 /content/drive/MyDrive/Safety-vest-Detection-8/test/images/ppe_1053_jpg.rf.52cc135800c5ee627a3e35f7cd5ac2eb.jpg: 640x640 2 0s, 2 1s, 4013.9ms\n",
            "image 614/1015 /content/drive/MyDrive/Safety-vest-Detection-8/test/images/ppe_1054_jpg.rf.bc1568e1fba66c822703c72afd062463.jpg: 640x640 2 0s, 2 1s, 3966.0ms\n",
            "image 615/1015 /content/drive/MyDrive/Safety-vest-Detection-8/test/images/ppe_1054_jpg.rf.e8fe41561e5475cfd5f028d6cdec23bc.jpg: 640x640 4 0s, 2 1s, 5702.9ms\n",
            "image 616/1015 /content/drive/MyDrive/Safety-vest-Detection-8/test/images/ppe_1054_jpg.rf.eecfd0781d2f70ac0d0e085a8513b683.jpg: 640x640 2 0s, 2 1s, 3892.2ms\n",
            "image 617/1015 /content/drive/MyDrive/Safety-vest-Detection-8/test/images/ppe_1056_jpg.rf.5a40d462dc1c99aa7a783d09eea611a9.jpg: 640x640 2 0s, 3 1s, 3977.8ms\n",
            "image 618/1015 /content/drive/MyDrive/Safety-vest-Detection-8/test/images/ppe_1056_jpg.rf.dd6e693bf124b071282515dccdc4b77e.jpg: 640x640 2 0s, 3 1s, 5850.2ms\n",
            "image 619/1015 /content/drive/MyDrive/Safety-vest-Detection-8/test/images/ppe_1056_jpg.rf.f79f0ee593d08d80d410fa64c12b8038.jpg: 640x640 2 0s, 1 1, 3994.5ms\n",
            "image 620/1015 /content/drive/MyDrive/Safety-vest-Detection-8/test/images/ppe_1057_jpg.rf.1ab8883157caf5654765dd6cb3233488.jpg: 640x640 2 0s, 1 1, 4057.2ms\n",
            "image 621/1015 /content/drive/MyDrive/Safety-vest-Detection-8/test/images/ppe_1057_jpg.rf.b2aa7136718a027e2d325a17f44c7dab.jpg: 640x640 2 0s, 1 1, 5271.6ms\n",
            "image 622/1015 /content/drive/MyDrive/Safety-vest-Detection-8/test/images/ppe_1057_jpg.rf.ddf55eefdd8bc72c323ce85bef7318ff.jpg: 640x640 2 0s, 1 1, 6558.4ms\n",
            "image 623/1015 /content/drive/MyDrive/Safety-vest-Detection-8/test/images/ppe_1058_jpg.rf.2752ab1248ca99c11c9b192aacddb639.jpg: 640x640 2 0s, 1 1, 4092.2ms\n",
            "image 624/1015 /content/drive/MyDrive/Safety-vest-Detection-8/test/images/ppe_1058_jpg.rf.4c0abe13c1d728fb55842f0ac940f932.jpg: 640x640 2 0s, 1 1, 5393.7ms\n",
            "image 625/1015 /content/drive/MyDrive/Safety-vest-Detection-8/test/images/ppe_1058_jpg.rf.7afefb4e3b065bbf49ba537c736cc47f.jpg: 640x640 2 0s, 1 1, 4347.3ms\n",
            "image 626/1015 /content/drive/MyDrive/Safety-vest-Detection-8/test/images/ppe_1059_jpg.rf.0a03beffed887177740f0d075e9b4b50.jpg: 640x640 3 0s, 3 1s, 3965.6ms\n",
            "image 627/1015 /content/drive/MyDrive/Safety-vest-Detection-8/test/images/ppe_1059_jpg.rf.bfb3d9142df5b3eda0e84597f54a036f.jpg: 640x640 4 0s, 2 1s, 4755.1ms\n",
            "image 628/1015 /content/drive/MyDrive/Safety-vest-Detection-8/test/images/ppe_1059_jpg.rf.d15f97524406dc7c69959d06acab544c.jpg: 640x640 3 0s, 3 1s, 4952.6ms\n",
            "image 629/1015 /content/drive/MyDrive/Safety-vest-Detection-8/test/images/ppe_1067_jpg.rf.09485e697cd7ac1eb7e77914b3fbae81.jpg: 640x640 6 0s, 2 1s, 3964.0ms\n",
            "image 630/1015 /content/drive/MyDrive/Safety-vest-Detection-8/test/images/ppe_1067_jpg.rf.0baf1e89dae05e6a4e6d15e463ae4f56.jpg: 640x640 3 0s, 2 1s, 4368.0ms\n",
            "image 631/1015 /content/drive/MyDrive/Safety-vest-Detection-8/test/images/ppe_1067_jpg.rf.1ba117a81fd7c6d655d3e7fe3a18dc13.jpg: 640x640 4 0s, 4 1s, 5343.8ms\n",
            "image 632/1015 /content/drive/MyDrive/Safety-vest-Detection-8/test/images/ppe_1068_jpg.rf.4e523e6c7ca567d9981010b0cb84cfb0.jpg: 640x640 2 0s, 1 1, 4025.1ms\n",
            "image 633/1015 /content/drive/MyDrive/Safety-vest-Detection-8/test/images/ppe_1068_jpg.rf.5be494def06787a05a2388dafd1d73e1.jpg: 640x640 3 0s, 2 1s, 3981.4ms\n",
            "image 634/1015 /content/drive/MyDrive/Safety-vest-Detection-8/test/images/ppe_1068_jpg.rf.fd4f5e4dd554a917bd23ca9985514c2d.jpg: 640x640 2 0s, 4 1s, 5704.8ms\n",
            "image 635/1015 /content/drive/MyDrive/Safety-vest-Detection-8/test/images/ppe_1070_jpg.rf.5c93bb99961deb848a1e24a67f4fa5a1.jpg: 640x640 5 0s, 2 1s, 4000.9ms\n",
            "image 636/1015 /content/drive/MyDrive/Safety-vest-Detection-8/test/images/ppe_1070_jpg.rf.8e94e29f4e64fb24b375babef0b90df2.jpg: 640x640 5 0s, 2 1s, 4020.6ms\n",
            "image 637/1015 /content/drive/MyDrive/Safety-vest-Detection-8/test/images/ppe_1070_jpg.rf.cc36517ce5ff0d23b8a7d0b310a2778f.jpg: 640x640 6 0s, 2 1s, 5835.2ms\n",
            "image 638/1015 /content/drive/MyDrive/Safety-vest-Detection-8/test/images/ppe_1071_jpg.rf.a540c7408ae10338d4488e1605c79ab1.jpg: 640x640 5 0s, 5 1s, 3986.7ms\n",
            "image 639/1015 /content/drive/MyDrive/Safety-vest-Detection-8/test/images/ppe_1071_jpg.rf.bd7f98af4151967d27252eea4e6d35ce.jpg: 640x640 5 0s, 6 1s, 3953.3ms\n",
            "image 640/1015 /content/drive/MyDrive/Safety-vest-Detection-8/test/images/ppe_1071_jpg.rf.f4847a6c7f293dad1719bf163a8809f0.jpg: 640x640 6 0s, 5 1s, 5378.9ms\n",
            "image 641/1015 /content/drive/MyDrive/Safety-vest-Detection-8/test/images/ppe_1071_jpg.rf.ff48cb1f63dc0dde6171ecdf61e92119.jpg: 640x640 6 0s, 5 1s, 4390.7ms\n",
            "image 642/1015 /content/drive/MyDrive/Safety-vest-Detection-8/test/images/ppe_1073_jpg.rf.16060d0c149c9aaa3538b15ebc8c194e.jpg: 640x640 7 0s, 5 1s, 4602.1ms\n",
            "image 643/1015 /content/drive/MyDrive/Safety-vest-Detection-8/test/images/ppe_1073_jpg.rf.67b26f653583ed5dab9028ed1f530fdc.jpg: 640x640 7 0s, 5 1s, 5143.3ms\n",
            "image 644/1015 /content/drive/MyDrive/Safety-vest-Detection-8/test/images/ppe_1073_jpg.rf.f6d21430f43571c89e15265eccf20cbf.jpg: 640x640 6 0s, 6 1s, 4519.6ms\n",
            "image 645/1015 /content/drive/MyDrive/Safety-vest-Detection-8/test/images/ppe_1075_jpg.rf.09d2e05c41496de6e33a447b24473825.jpg: 640x640 12 0s, 7 1s, 4035.4ms\n",
            "image 646/1015 /content/drive/MyDrive/Safety-vest-Detection-8/test/images/ppe_1075_jpg.rf.0c991d94f61f4a9f70c94c509fb5c247.jpg: 640x640 7 0s, 3 1s, 4809.8ms\n",
            "image 647/1015 /content/drive/MyDrive/Safety-vest-Detection-8/test/images/ppe_1075_jpg.rf.56743316fd4f138b2e97131866fcf0a1.jpg: 640x640 8 0s, 3 1s, 4975.2ms\n",
            "image 648/1015 /content/drive/MyDrive/Safety-vest-Detection-8/test/images/ppe_1075_jpg.rf.bdad07ffe0a591234633f0b76b048358.jpg: 640x640 7 0s, 4 1s, 4018.5ms\n",
            "image 649/1015 /content/drive/MyDrive/Safety-vest-Detection-8/test/images/ppe_1077_jpg.rf.643acf27f95909dd0051eb68bfd92628.jpg: 640x640 5 0s, 5 1s, 4261.9ms\n",
            "image 650/1015 /content/drive/MyDrive/Safety-vest-Detection-8/test/images/ppe_1077_jpg.rf.cee8386a1adf8775eaa2198b9855cd23.jpg: 640x640 5 0s, 5 1s, 5402.9ms\n",
            "image 651/1015 /content/drive/MyDrive/Safety-vest-Detection-8/test/images/ppe_1077_jpg.rf.effdf8e94e02e17df799f4fa560bf7f7.jpg: 640x640 5 0s, 5 1s, 3968.6ms\n",
            "image 652/1015 /content/drive/MyDrive/Safety-vest-Detection-8/test/images/ppe_1077_jpg.rf.ff6a6697ab6a5b597b0fc33eda1dc47e.jpg: 640x640 5 0s, 5 1s, 3960.0ms\n",
            "image 653/1015 /content/drive/MyDrive/Safety-vest-Detection-8/test/images/ppe_1085_jpg.rf.b02313a807d08ff9ab7e5783762da320.jpg: 640x640 3 0s, 1 1, 5723.6ms\n",
            "image 654/1015 /content/drive/MyDrive/Safety-vest-Detection-8/test/images/ppe_1085_jpg.rf.ba5b2be137034ca352e1c4ff9e7c3ca1.jpg: 640x640 3 0s, 2 1s, 3972.4ms\n",
            "image 655/1015 /content/drive/MyDrive/Safety-vest-Detection-8/test/images/ppe_1085_jpg.rf.e8b3806691a9a5a6dc6b63efae034c1f.jpg: 640x640 3 0s, 3 1s, 3918.8ms\n",
            "image 656/1015 /content/drive/MyDrive/Safety-vest-Detection-8/test/images/ppe_1086_jpg.rf.9fc1923b6ef00b7f774fee9265597d1e.jpg: 640x640 1 0, 2 1s, 5565.3ms\n",
            "image 657/1015 /content/drive/MyDrive/Safety-vest-Detection-8/test/images/ppe_1086_jpg.rf.a73d9ac4212bd97aece5a9d1c1a961d9.jpg: 640x640 1 0, 2 1s, 4100.9ms\n",
            "image 658/1015 /content/drive/MyDrive/Safety-vest-Detection-8/test/images/ppe_1086_jpg.rf.f231dc48bc25f20df6549cda229cce5a.jpg: 640x640 1 0, 1 1, 3998.0ms\n",
            "image 659/1015 /content/drive/MyDrive/Safety-vest-Detection-8/test/images/ppe_1099_jpg.rf.32dd9d32bda5c30eff88226f55d4af2c.jpg: 640x640 5 0s, 1 1, 4900.1ms\n",
            "image 660/1015 /content/drive/MyDrive/Safety-vest-Detection-8/test/images/ppe_1099_jpg.rf.460dea908d5c75a2489c06fe306b396c.jpg: 640x640 2 0s, 1 1, 4732.2ms\n",
            "image 661/1015 /content/drive/MyDrive/Safety-vest-Detection-8/test/images/ppe_1099_jpg.rf.baa05a30b641719a93829ca141552791.jpg: 640x640 3 0s, 1 1, 4001.4ms\n",
            "image 662/1015 /content/drive/MyDrive/Safety-vest-Detection-8/test/images/ppe_1101_jpg.rf.2ad544c0e4efecb446aca2193e228fef.jpg: 640x640 1 0, 1 1, 4452.5ms\n",
            "image 663/1015 /content/drive/MyDrive/Safety-vest-Detection-8/test/images/ppe_1101_jpg.rf.657cf1e1a15b619c7eb97c73f4737d34.jpg: 640x640 1 0, 1 1, 5134.6ms\n",
            "image 664/1015 /content/drive/MyDrive/Safety-vest-Detection-8/test/images/ppe_1101_jpg.rf.de55a0304444a573bc782f8e680d07fb.jpg: 640x640 1 0, 1 1, 3896.1ms\n",
            "image 665/1015 /content/drive/MyDrive/Safety-vest-Detection-8/test/images/ppe_1102_jpg.rf.0d8049bffdf3e9f2de62aff5959f4b8d.jpg: 640x640 1 0, 1 1, 4026.9ms\n",
            "image 666/1015 /content/drive/MyDrive/Safety-vest-Detection-8/test/images/ppe_1102_jpg.rf.269458810f7675e02888e78b16018654.jpg: 640x640 1 0, 1 1, 5673.2ms\n",
            "image 667/1015 /content/drive/MyDrive/Safety-vest-Detection-8/test/images/ppe_1102_jpg.rf.78a4e5ad6a655d9505884cdbb7f2d017.jpg: 640x640 1 0, 1 1, 3903.4ms\n",
            "image 668/1015 /content/drive/MyDrive/Safety-vest-Detection-8/test/images/ppe_1102_jpg.rf.da46e6717d9a0ac073f55b347329bf80.jpg: 640x640 1 0, 1 1, 3952.7ms\n",
            "image 669/1015 /content/drive/MyDrive/Safety-vest-Detection-8/test/images/ppe_1105_jpg.rf.2f032f1be74e186477acce640d002894.jpg: 640x640 1 0, 1 1, 5598.0ms\n",
            "image 670/1015 /content/drive/MyDrive/Safety-vest-Detection-8/test/images/ppe_1105_jpg.rf.44a9f09c23a3659e5ff0d2ab7a9760f2.jpg: 640x640 1 0, 1 1, 6244.0ms\n",
            "image 671/1015 /content/drive/MyDrive/Safety-vest-Detection-8/test/images/ppe_1105_jpg.rf.c03f2aaeeda720e50258dc654de864d3.jpg: 640x640 1 0, 3930.1ms\n",
            "image 672/1015 /content/drive/MyDrive/Safety-vest-Detection-8/test/images/ppe_1106_jpg.rf.5ec960905ddc211e5f5a3b67ac33bb80.jpg: 640x640 1 0, 1 1, 5725.9ms\n",
            "image 673/1015 /content/drive/MyDrive/Safety-vest-Detection-8/test/images/ppe_1106_jpg.rf.6fcc8c951800950810ac0dc67d162cfa.jpg: 640x640 1 0, 1 1, 3988.5ms\n",
            "image 674/1015 /content/drive/MyDrive/Safety-vest-Detection-8/test/images/ppe_1106_jpg.rf.ced23fc56d9a1141deb2812799a3e817.jpg: 640x640 1 0, 1 1, 3982.0ms\n",
            "image 675/1015 /content/drive/MyDrive/Safety-vest-Detection-8/test/images/ppe_1107_jpg.rf.0e23eed4c54f3b2f578515a65ff9d00b.jpg: 640x640 2 0s, 2 1s, 5496.4ms\n",
            "image 676/1015 /content/drive/MyDrive/Safety-vest-Detection-8/test/images/ppe_1107_jpg.rf.6faf489c90f91d094e1dbda42d3acc1c.jpg: 640x640 2 0s, 2 1s, 4188.9ms\n",
            "image 677/1015 /content/drive/MyDrive/Safety-vest-Detection-8/test/images/ppe_1107_jpg.rf.812b0fbb25a629346b25f58672a81f94.jpg: 640x640 2 0s, 2 1s, 3964.8ms\n",
            "image 678/1015 /content/drive/MyDrive/Safety-vest-Detection-8/test/images/ppe_1115_jpg.rf.34f10062cbf6a0287c4e6a3cbed35213.jpg: 640x640 2 0s, 1 1, 4985.4ms\n",
            "image 679/1015 /content/drive/MyDrive/Safety-vest-Detection-8/test/images/ppe_1115_jpg.rf.49a85441d41bde2e228942e79629ce5d.jpg: 640x640 2 0s, 1 1, 4704.5ms\n",
            "image 680/1015 /content/drive/MyDrive/Safety-vest-Detection-8/test/images/ppe_1115_jpg.rf.9007e556a0f2371efa130dfa81eddf85.jpg: 640x640 2 0s, 1 1, 3947.2ms\n",
            "image 681/1015 /content/drive/MyDrive/Safety-vest-Detection-8/test/images/ppe_1116_jpg.rf.06dad8426188465961705f83e9844836.jpg: 640x640 3 0s, 1 1, 4348.0ms\n",
            "image 682/1015 /content/drive/MyDrive/Safety-vest-Detection-8/test/images/ppe_1116_jpg.rf.13814c526149c76b998a9d1f726c30f4.jpg: 640x640 3 0s, 2 1s, 5326.9ms\n",
            "image 683/1015 /content/drive/MyDrive/Safety-vest-Detection-8/test/images/ppe_1116_jpg.rf.a5e54897461919b70dfb9f620f2d5c87.jpg: 640x640 1 0, 2 1s, 3977.8ms\n",
            "image 684/1015 /content/drive/MyDrive/Safety-vest-Detection-8/test/images/ppe_1116_jpg.rf.b2d1c4db4a23c103053cd8d5a0b1761f.jpg: 640x640 2 0s, 1 1, 3959.0ms\n",
            "image 685/1015 /content/drive/MyDrive/Safety-vest-Detection-8/test/images/ppe_1122_jpg.rf.38738130e6a900f40fb9da3f65974cf3.jpg: 640x640 3 0s, 3 1s, 5676.9ms\n",
            "image 686/1015 /content/drive/MyDrive/Safety-vest-Detection-8/test/images/ppe_1122_jpg.rf.395ca12f3018f9b38709780b8cf9d7b1.jpg: 640x640 3 0s, 3 1s, 3918.9ms\n",
            "image 687/1015 /content/drive/MyDrive/Safety-vest-Detection-8/test/images/ppe_1122_jpg.rf.5da83def58e9e1ab984814d61f455f8a.jpg: 640x640 3 0s, 3 1s, 3968.5ms\n",
            "image 688/1015 /content/drive/MyDrive/Safety-vest-Detection-8/test/images/ppe_1122_jpg.rf.9c6ceecbea8ec0ffa13662e2568258df.jpg: 640x640 3 0s, 3 1s, 5557.1ms\n",
            "image 689/1015 /content/drive/MyDrive/Safety-vest-Detection-8/test/images/ppe_1127_jpg.rf.09681fd4f6f0802d02d489d0b83ffdc9.jpg: 640x640 2 0s, 2 1s, 4115.8ms\n",
            "image 690/1015 /content/drive/MyDrive/Safety-vest-Detection-8/test/images/ppe_1127_jpg.rf.82517db47d211db5c95d62bb6e326d1e.jpg: 640x640 2 0s, 2 1s, 3999.3ms\n",
            "image 691/1015 /content/drive/MyDrive/Safety-vest-Detection-8/test/images/ppe_1127_jpg.rf.9d6d208610517d98da805c5db82c1dac.jpg: 640x640 2 0s, 2 1s, 5089.8ms\n",
            "image 692/1015 /content/drive/MyDrive/Safety-vest-Detection-8/test/images/ppe_1129_jpg.rf.2f2919a9ae4ae43b326ab5dccf2eeb13.jpg: 640x640 3 0s, 3 1s, 4609.4ms\n",
            "image 693/1015 /content/drive/MyDrive/Safety-vest-Detection-8/test/images/ppe_1129_jpg.rf.a8cb97a36492a3e2c8122e0e8b6bbdda.jpg: 640x640 4 0s, 3 1s, 3975.3ms\n",
            "image 694/1015 /content/drive/MyDrive/Safety-vest-Detection-8/test/images/ppe_1129_jpg.rf.c1707660620501907aa9f4780518a460.jpg: 640x640 4 0s, 3 1s, 4481.5ms\n",
            "image 695/1015 /content/drive/MyDrive/Safety-vest-Detection-8/test/images/ppe_1139_jpg.rf.3e5c716a4a98d0deaf3a282f6025a29e.jpg: 640x640 3 0s, 3 1s, 5166.4ms\n",
            "image 696/1015 /content/drive/MyDrive/Safety-vest-Detection-8/test/images/ppe_1139_jpg.rf.429e575363bad63f8ae12a4c5887cc07.jpg: 640x640 3 0s, 2 1s, 3992.9ms\n",
            "image 697/1015 /content/drive/MyDrive/Safety-vest-Detection-8/test/images/ppe_1139_jpg.rf.a52d798aa8943c79f397b0a5c7975a37.jpg: 640x640 3 0s, 3 1s, 3988.8ms\n",
            "image 698/1015 /content/drive/MyDrive/Safety-vest-Detection-8/test/images/ppe_1139_jpg.rf.f1557a172fbd3ea63207cbc832abadaf.jpg: 640x640 3 0s, 2 1s, 5709.6ms\n",
            "image 699/1015 /content/drive/MyDrive/Safety-vest-Detection-8/test/images/ppe_1142_jpg.rf.e5c69fbdf42c34d3c75eb6472f63ae1a.jpg: 640x640 3 0s, 3 1s, 3970.1ms\n",
            "image 700/1015 /content/drive/MyDrive/Safety-vest-Detection-8/test/images/ppe_1142_jpg.rf.fd3f32096b549fcfb34933b532ce9fdd.jpg: 640x640 3 0s, 3 1s, 3978.1ms\n",
            "image 701/1015 /content/drive/MyDrive/Safety-vest-Detection-8/test/images/ppe_1142_jpg.rf.fdffa52ccd9aa5a7af0618172b04d55a.jpg: 640x640 4 0s, 2 1s, 5778.2ms\n",
            "image 702/1015 /content/drive/MyDrive/Safety-vest-Detection-8/test/images/ppe_1143_jpg.rf.5cbed9c7cb269a730a49161f89e4c7fd.jpg: 640x640 2 0s, 2 1s, 3969.4ms\n",
            "image 703/1015 /content/drive/MyDrive/Safety-vest-Detection-8/test/images/ppe_1143_jpg.rf.97e1fe336f5512d023520fe4d06b431f.jpg: 640x640 2 0s, 2 1s, 3978.5ms\n",
            "image 704/1015 /content/drive/MyDrive/Safety-vest-Detection-8/test/images/ppe_1143_jpg.rf.9d05e35b43768bbd95e585e6dbfc668a.jpg: 640x640 2 0s, 2 1s, 5175.9ms\n",
            "image 705/1015 /content/drive/MyDrive/Safety-vest-Detection-8/test/images/ppe_1148_jpg.rf.57201a608feb8a7d7b86d71b6fbb94cf.jpg: 640x640 3 0s, 1 1, 4394.6ms\n",
            "image 706/1015 /content/drive/MyDrive/Safety-vest-Detection-8/test/images/ppe_1148_jpg.rf.99e72db7d0b9e1ee3b2715ba4c1d8313.jpg: 640x640 2 0s, 1 1, 3995.8ms\n",
            "image 707/1015 /content/drive/MyDrive/Safety-vest-Detection-8/test/images/ppe_1148_jpg.rf.e84025b6254dbc8932e74b4b06027365.jpg: 640x640 2 0s, 1 1, 4661.8ms\n",
            "image 708/1015 /content/drive/MyDrive/Safety-vest-Detection-8/test/images/ppe_1149_jpg.rf.3bd2327fbd3c39d48e2d09fd30d7d3fe.jpg: 640x640 1 0, 1 1, 5000.3ms\n",
            "image 709/1015 /content/drive/MyDrive/Safety-vest-Detection-8/test/images/ppe_1149_jpg.rf.3f55ca4c92ac72a99456bbede5860b2d.jpg: 640x640 1 0, 1 1, 4014.3ms\n",
            "image 710/1015 /content/drive/MyDrive/Safety-vest-Detection-8/test/images/ppe_1149_jpg.rf.ac71038b88f0ab3268b82c6d8921ca2f.jpg: 640x640 1 0, 1 1, 4125.9ms\n",
            "image 711/1015 /content/drive/MyDrive/Safety-vest-Detection-8/test/images/ppe_1156_jpg.rf.367db903863f3b2ec94f2f7df725f047.jpg: 640x640 3 0s, 3 1s, 5507.4ms\n",
            "image 712/1015 /content/drive/MyDrive/Safety-vest-Detection-8/test/images/ppe_1156_jpg.rf.b07b013b3cf11339c0d561f5dbd89880.jpg: 640x640 3 0s, 3 1s, 3969.5ms\n",
            "image 713/1015 /content/drive/MyDrive/Safety-vest-Detection-8/test/images/ppe_1156_jpg.rf.bca799d7103e1bd875751ac403f052a0.jpg: 640x640 3 0s, 3 1s, 4000.9ms\n",
            "image 714/1015 /content/drive/MyDrive/Safety-vest-Detection-8/test/images/ppe_1156_jpg.rf.bf0f43237f72e1c0c3b2e8375cfd5312.jpg: 640x640 3 0s, 3 1s, 5750.7ms\n",
            "image 715/1015 /content/drive/MyDrive/Safety-vest-Detection-8/test/images/ppe_1157_jpg.rf.3744bbede978163e84c0502c2b11354d.jpg: 640x640 3 0s, 2 1s, 4006.9ms\n",
            "image 716/1015 /content/drive/MyDrive/Safety-vest-Detection-8/test/images/ppe_1157_jpg.rf.60308df8ba57fca53b9b6f2f2cbaacb8.jpg: 640x640 3 0s, 2 1s, 4005.8ms\n",
            "image 717/1015 /content/drive/MyDrive/Safety-vest-Detection-8/test/images/ppe_1157_jpg.rf.9e14fc41ebc516aa7d7dfd154c446ddc.jpg: 640x640 2 0s, 2 1s, 5451.4ms\n",
            "image 718/1015 /content/drive/MyDrive/Safety-vest-Detection-8/test/images/ppe_1157_jpg.rf.ae17a888cbad4ae7f932897b71513935.jpg: 640x640 1 0, 1 1, 4299.9ms\n",
            "image 719/1015 /content/drive/MyDrive/Safety-vest-Detection-8/test/images/ppe_1158_jpg.rf.3d00289bf85578567b1611dccfe38ba6.jpg: 640x640 2 0s, 2 1s, 5916.3ms\n",
            "image 720/1015 /content/drive/MyDrive/Safety-vest-Detection-8/test/images/ppe_1158_jpg.rf.67032c4f090f49ff310e586467737a76.jpg: 640x640 3 0s, 1 1, 5749.4ms\n",
            "image 721/1015 /content/drive/MyDrive/Safety-vest-Detection-8/test/images/ppe_1158_jpg.rf.7c174b4965eb20a21e575cf9e9c7d65d.jpg: 640x640 3 0s, 2 1s, 4007.2ms\n",
            "image 722/1015 /content/drive/MyDrive/Safety-vest-Detection-8/test/images/ppe_1160_jpg.rf.29ede71091b89c4cc6a10db20d040739.jpg: 640x640 3 0s, 3 1s, 3986.9ms\n",
            "image 723/1015 /content/drive/MyDrive/Safety-vest-Detection-8/test/images/ppe_1160_jpg.rf.557523329df671d6abd7933b62667941.jpg: 640x640 3 0s, 3 1s, 5659.6ms\n",
            "image 724/1015 /content/drive/MyDrive/Safety-vest-Detection-8/test/images/ppe_1160_jpg.rf.7f273a790e557a31e58dc6a7d188f8e6.jpg: 640x640 3 0s, 3 1s, 4110.6ms\n",
            "image 725/1015 /content/drive/MyDrive/Safety-vest-Detection-8/test/images/ppe_1160_jpg.rf.d58f5da8d15989339b7cb509a3906f5c.jpg: 640x640 3 0s, 3 1s, 3964.6ms\n",
            "image 726/1015 /content/drive/MyDrive/Safety-vest-Detection-8/test/images/ppe_1164_jpg.rf.1c4a6a61186719d92aa987d92265f724.jpg: 640x640 6 0s, 6 1s, 4997.3ms\n",
            "image 727/1015 /content/drive/MyDrive/Safety-vest-Detection-8/test/images/ppe_1164_jpg.rf.a54786b168a9f4dc6088bea675991ff0.jpg: 640x640 7 0s, 7 1s, 4590.3ms\n",
            "image 728/1015 /content/drive/MyDrive/Safety-vest-Detection-8/test/images/ppe_1164_jpg.rf.b1af2592957b8400a2c9422d2175206c.jpg: 640x640 6 0s, 6 1s, 3944.1ms\n",
            "image 729/1015 /content/drive/MyDrive/Safety-vest-Detection-8/test/images/ppe_1164_jpg.rf.f77e917881b519228b1392f84cc4ac45.jpg: 640x640 6 0s, 5 1s, 4357.3ms\n",
            "image 730/1015 /content/drive/MyDrive/Safety-vest-Detection-8/test/images/ppe_1168_jpg.rf.eb62371b7bda45f12bb5fd6b5eaae76e.jpg: 640x640 2 0s, 3 1s, 5175.9ms\n",
            "image 731/1015 /content/drive/MyDrive/Safety-vest-Detection-8/test/images/ppe_1170_jpg.rf.22a1ffc052385fb44654247aff38a882.jpg: 640x640 1 0, 1 1, 3956.0ms\n",
            "image 732/1015 /content/drive/MyDrive/Safety-vest-Detection-8/test/images/ppe_1170_jpg.rf.f66fc60a95376c4f255c0f72cb9ce1df.jpg: 640x640 1 0, 1 1, 3931.1ms\n",
            "image 733/1015 /content/drive/MyDrive/Safety-vest-Detection-8/test/images/ppe_1170_jpg.rf.fbac73d30bad43cd4d5c218fe04ce674.jpg: 640x640 1 0, 1 1, 5697.4ms\n",
            "image 734/1015 /content/drive/MyDrive/Safety-vest-Detection-8/test/images/ppe_1171_jpg.rf.40c677d1e30118800ca1c2e6e4375503.jpg: 640x640 2 0s, 2 1s, 3977.6ms\n",
            "image 735/1015 /content/drive/MyDrive/Safety-vest-Detection-8/test/images/ppe_1171_jpg.rf.56bffda96be4516fee667348bf74fce2.jpg: 640x640 3 0s, 2 1s, 4024.4ms\n",
            "image 736/1015 /content/drive/MyDrive/Safety-vest-Detection-8/test/images/ppe_1171_jpg.rf.67a7c6807775cc754fe9fdb1da9d5f4e.jpg: 640x640 2 0s, 2 1s, 5736.0ms\n",
            "image 737/1015 /content/drive/MyDrive/Safety-vest-Detection-8/test/images/ppe_1171_jpg.rf.f499308c8fef3dd8fc011c6187ff0139.jpg: 640x640 3 0s, 2 1s, 3978.3ms\n",
            "image 738/1015 /content/drive/MyDrive/Safety-vest-Detection-8/test/images/ppe_1175_jpg.rf.9bc87a9ad470c386d2b5e8aa529798e4.jpg: 640x640 1 0, 1 1, 3970.9ms\n",
            "image 739/1015 /content/drive/MyDrive/Safety-vest-Detection-8/test/images/ppe_1175_jpg.rf.a7daf51a1b8097e0d46856bd5cf63593.jpg: 640x640 1 0, 1 1, 5258.8ms\n",
            "image 740/1015 /content/drive/MyDrive/Safety-vest-Detection-8/test/images/ppe_1175_jpg.rf.cae607248fa7c060e097df32d015a6ce.jpg: 640x640 1 0, 1 1, 4570.7ms\n",
            "image 741/1015 /content/drive/MyDrive/Safety-vest-Detection-8/test/images/ppe_1175_jpg.rf.ff9b98e3ce213015aa20dfe5b731b2b2.jpg: 640x640 1 0, 1 1, 3959.2ms\n",
            "image 742/1015 /content/drive/MyDrive/Safety-vest-Detection-8/test/images/ppe_1176_jpg.rf.420b049cbd4b5df4a855e0557f1d7673.jpg: 640x640 2 0s, 2 1s, 4693.2ms\n",
            "image 743/1015 /content/drive/MyDrive/Safety-vest-Detection-8/test/images/ppe_1176_jpg.rf.541c2e99c066a2376f9f2497b5464c3c.jpg: 640x640 2 0s, 2 1s, 4919.1ms\n",
            "image 744/1015 /content/drive/MyDrive/Safety-vest-Detection-8/test/images/ppe_1176_jpg.rf.64403c9025b35ce27c8ced6c490115ed.jpg: 640x640 2 0s, 2 1s, 3916.3ms\n",
            "image 745/1015 /content/drive/MyDrive/Safety-vest-Detection-8/test/images/ppe_1176_jpg.rf.ec3944c21d9147ebcd897db47b20600f.jpg: 640x640 2 0s, 2 1s, 3922.5ms\n",
            "image 746/1015 /content/drive/MyDrive/Safety-vest-Detection-8/test/images/ppe_1180_jpg.rf.bc88582ca42bf117a4f88ae612a87c85.jpg: 640x640 5 0s, 1 1, 5625.5ms\n",
            "image 747/1015 /content/drive/MyDrive/Safety-vest-Detection-8/test/images/ppe_1180_jpg.rf.c12b73d46e1688022bdffbaaffa69696.jpg: 640x640 6 0s, 1 1, 3894.3ms\n",
            "image 748/1015 /content/drive/MyDrive/Safety-vest-Detection-8/test/images/ppe_1180_jpg.rf.d1712cb4923fb3084f0908b1b4e1e32d.jpg: 640x640 7 0s, 3990.6ms\n",
            "image 749/1015 /content/drive/MyDrive/Safety-vest-Detection-8/test/images/ppe_1184_jpg.rf.07df29c6abd9a8092f2f072e2072e97b.jpg: 640x640 2 0s, 2 1s, 5814.5ms\n",
            "image 750/1015 /content/drive/MyDrive/Safety-vest-Detection-8/test/images/ppe_1184_jpg.rf.4eb95a49d36517ba4e8cc1578dbe8919.jpg: 640x640 2 0s, 2 1s, 3981.7ms\n",
            "image 751/1015 /content/drive/MyDrive/Safety-vest-Detection-8/test/images/ppe_1184_jpg.rf.5097d0ab139dbef2a44c758e9f59ccc4.jpg: 640x640 2 0s, 2 1s, 3943.2ms\n",
            "image 752/1015 /content/drive/MyDrive/Safety-vest-Detection-8/test/images/ppe_1184_jpg.rf.83b688a623703d0b9e367293d25c25be.jpg: 640x640 2 0s, 2 1s, 5227.3ms\n",
            "image 753/1015 /content/drive/MyDrive/Safety-vest-Detection-8/test/images/ppe_1185_jpg.rf.54bef581fe4f4b229ccab8c7c593c715.jpg: 640x640 1 0, 1 1, 4391.1ms\n",
            "image 754/1015 /content/drive/MyDrive/Safety-vest-Detection-8/test/images/ppe_1185_jpg.rf.7898a60ecdfad76677fdc669ad9b8493.jpg: 640x640 1 0, 1 1, 3973.0ms\n",
            "image 755/1015 /content/drive/MyDrive/Safety-vest-Detection-8/test/images/ppe_1185_jpg.rf.be3c748fa60b8b9c13e90b29aad089c1.jpg: 640x640 1 0, 1 1, 4696.2ms\n",
            "image 756/1015 /content/drive/MyDrive/Safety-vest-Detection-8/test/images/ppe_1185_jpg.rf.dc32101f485fd016c6626d89a169753c.jpg: 640x640 1 0, 1 1, 4948.2ms\n",
            "image 757/1015 /content/drive/MyDrive/Safety-vest-Detection-8/test/images/ppe_1186_jpg.rf.01605bec159c7e03e09b114edd8ad031.jpg: 640x640 2 0s, 1 1, 3985.0ms\n",
            "image 758/1015 /content/drive/MyDrive/Safety-vest-Detection-8/test/images/ppe_1186_jpg.rf.240a107cd11a74fd5731620ef13939ca.jpg: 640x640 2 0s, 2 1s, 4149.6ms\n",
            "image 759/1015 /content/drive/MyDrive/Safety-vest-Detection-8/test/images/ppe_1186_jpg.rf.7dfc8e1d285f4eef60246418aeb7b8ae.jpg: 640x640 2 0s, 1 1, 5453.0ms\n",
            "image 760/1015 /content/drive/MyDrive/Safety-vest-Detection-8/test/images/ppe_1186_jpg.rf.dcf9613bc6e17e0d6ad9d07d8b31ce83.jpg: 640x640 2 0s, 3 1s, 3986.9ms\n",
            "image 761/1015 /content/drive/MyDrive/Safety-vest-Detection-8/test/images/ppe_1188_jpg.rf.68011871b4e13746bfeff2b62ae2cb3d.jpg: 640x640 1 0, 3952.7ms\n",
            "image 762/1015 /content/drive/MyDrive/Safety-vest-Detection-8/test/images/ppe_1190_jpg.rf.3795f1202a53dd6db7f21e42ef6d67c1.jpg: 640x640 4 0s, 4 1s, 5749.1ms\n",
            "image 763/1015 /content/drive/MyDrive/Safety-vest-Detection-8/test/images/ppe_1190_jpg.rf.61e5389e255b13126717e0e44401a567.jpg: 640x640 4 0s, 3 1s, 3990.1ms\n",
            "image 764/1015 /content/drive/MyDrive/Safety-vest-Detection-8/test/images/ppe_1190_jpg.rf.911c5fed79ef9c7c74b87bc82bdf418b.jpg: 640x640 3 0s, 3 1s, 3971.0ms\n",
            "image 765/1015 /content/drive/MyDrive/Safety-vest-Detection-8/test/images/ppe_1190_jpg.rf.aefb0c6d080335bbcc751e65cd76915f.jpg: 640x640 3 0s, 3 1s, 5518.1ms\n",
            "image 766/1015 /content/drive/MyDrive/Safety-vest-Detection-8/test/images/ppe_1193_jpg.rf.f71f6e1d7cc8f46d65417cc83aad619d.jpg: 640x640 4 0s, 1 1, 4236.9ms\n",
            "image 767/1015 /content/drive/MyDrive/Safety-vest-Detection-8/test/images/ppe_1194_jpg.rf.0736fbb2970e77cac5aae7e900b51872.jpg: 640x640 4 0s, 3 1s, 4019.4ms\n",
            "image 768/1015 /content/drive/MyDrive/Safety-vest-Detection-8/test/images/ppe_1194_jpg.rf.6eac9fb1b19602f930a18ebfb061c292.jpg: 640x640 2 0s, 2 1s, 5224.4ms\n",
            "image 769/1015 /content/drive/MyDrive/Safety-vest-Detection-8/test/images/ppe_1194_jpg.rf.da0e7925c77c5e31a4e05d84675a976f.jpg: 640x640 2 0s, 2 1s, 6749.3ms\n",
            "image 770/1015 /content/drive/MyDrive/Safety-vest-Detection-8/test/images/ppe_1194_jpg.rf.da85d6eec38d8a781e6ef37eb3cad875.jpg: 640x640 2 0s, 2 1s, 4222.8ms\n",
            "image 771/1015 /content/drive/MyDrive/Safety-vest-Detection-8/test/images/ppe_1195_jpg.rf.40b0230ca7273f599d5b4672fdea930f.jpg: 640x640 1 0, 1 1, 3986.6ms\n",
            "image 772/1015 /content/drive/MyDrive/Safety-vest-Detection-8/test/images/ppe_1195_jpg.rf.489615a37f520cf1027ec1b6d167e27d.jpg: 640x640 1 0, 1 1, 5541.2ms\n",
            "image 773/1015 /content/drive/MyDrive/Safety-vest-Detection-8/test/images/ppe_1195_jpg.rf.73e4ab1f2b90fcea793b2869cd97ff2d.jpg: 640x640 1 0, 1 1, 4142.9ms\n",
            "image 774/1015 /content/drive/MyDrive/Safety-vest-Detection-8/test/images/ppe_1195_jpg.rf.77acbcf7161569cd257e753900edc83d.jpg: 640x640 1 0, 1 1, 3948.1ms\n",
            "image 775/1015 /content/drive/MyDrive/Safety-vest-Detection-8/test/images/ppe_1196_jpg.rf.53c0d2aeeb0ea3a123f9e3caf98f013b.jpg: 640x640 1 0, 1 1, 5011.0ms\n",
            "image 776/1015 /content/drive/MyDrive/Safety-vest-Detection-8/test/images/ppe_1196_jpg.rf.95464759de0cd3e80e5e9f5ab85ddb7b.jpg: 640x640 1 0, 1 1, 4646.4ms\n",
            "image 777/1015 /content/drive/MyDrive/Safety-vest-Detection-8/test/images/ppe_1196_jpg.rf.b8b638fbb14ab8713c16e014437c0aa6.jpg: 640x640 1 0, 1 1, 4000.0ms\n",
            "image 778/1015 /content/drive/MyDrive/Safety-vest-Detection-8/test/images/ppe_1196_jpg.rf.ff8fd227f1e641c2fd3a068ddfa705ab.jpg: 640x640 1 0, 1 1, 4435.7ms\n",
            "image 779/1015 /content/drive/MyDrive/Safety-vest-Detection-8/test/images/ppe_1197_jpg.rf.5966adb4fbd70f6b02b7bb5c23adf8bf.jpg: 640x640 1 0, 2 1s, 5173.5ms\n",
            "image 780/1015 /content/drive/MyDrive/Safety-vest-Detection-8/test/images/ppe_1197_jpg.rf.7ee47f8a266d29da94255ed70d0171b1.jpg: 640x640 2 0s, 2 1s, 4003.1ms\n",
            "image 781/1015 /content/drive/MyDrive/Safety-vest-Detection-8/test/images/ppe_1197_jpg.rf.b645a837432ccaa896effd94e47228e2.jpg: 640x640 5 0s, 2 1s, 3938.5ms\n",
            "image 782/1015 /content/drive/MyDrive/Safety-vest-Detection-8/test/images/ppe_1197_jpg.rf.cf042135fc11fd08e2ddba5200b6c7af.jpg: 640x640 2 0s, 2 1s, 5627.4ms\n",
            "image 783/1015 /content/drive/MyDrive/Safety-vest-Detection-8/test/images/ppe_1200_jpg.rf.04daf0fcc9c1874482310f590a693007.jpg: 640x640 1 0, 3994.0ms\n",
            "image 784/1015 /content/drive/MyDrive/Safety-vest-Detection-8/test/images/ppe_1202_jpg.rf.60d4268d59a446a2caf0d18f70707950.jpg: 640x640 1 0, 1 1, 3975.1ms\n",
            "image 785/1015 /content/drive/MyDrive/Safety-vest-Detection-8/test/images/ppe_1202_jpg.rf.a3d7fe10223d9c76a8797f205c50ab18.jpg: 640x640 1 0, 1 1, 5777.2ms\n",
            "image 786/1015 /content/drive/MyDrive/Safety-vest-Detection-8/test/images/ppe_1202_jpg.rf.a426b11b45d15c0d495e66012a6b681d.jpg: 640x640 1 0, 1 1, 3989.7ms\n",
            "image 787/1015 /content/drive/MyDrive/Safety-vest-Detection-8/test/images/ppe_1202_jpg.rf.de61bb0feaaa40b95fadf9c385ae5842.jpg: 640x640 1 0, 1 1, 4011.8ms\n",
            "image 788/1015 /content/drive/MyDrive/Safety-vest-Detection-8/test/images/ppe_1203_jpg.rf.43a8179f5e99c8755143d0104bb0da44.jpg: 640x640 2 0s, 2 1s, 5165.9ms\n",
            "image 789/1015 /content/drive/MyDrive/Safety-vest-Detection-8/test/images/ppe_1203_jpg.rf.702f610ee1db53ff07ca0b8ac45271eb.jpg: 640x640 2 0s, 1 1, 4489.7ms\n",
            "image 790/1015 /content/drive/MyDrive/Safety-vest-Detection-8/test/images/ppe_1203_jpg.rf.a9046aeadc1cd3fac19db60ba51df1c7.jpg: 640x640 2 0s, 3926.3ms\n",
            "image 791/1015 /content/drive/MyDrive/Safety-vest-Detection-8/test/images/ppe_1203_jpg.rf.e870c8e2234805b27309e843e2ed8c7b.jpg: 640x640 (no detections), 4698.3ms\n",
            "image 792/1015 /content/drive/MyDrive/Safety-vest-Detection-8/test/images/ppe_1206_jpg.rf.10c167154728c3c06a106ecdde75a7e2.jpg: 640x640 1 0, 1 1, 5006.3ms\n",
            "image 793/1015 /content/drive/MyDrive/Safety-vest-Detection-8/test/images/ppe_1206_jpg.rf.47c12edc58aeb55cd608c6d8c827986f.jpg: 640x640 1 0, 1 1, 4044.5ms\n",
            "image 794/1015 /content/drive/MyDrive/Safety-vest-Detection-8/test/images/ppe_1206_jpg.rf.560438fb045ffa329edf6989f7f4a09e.jpg: 640x640 1 0, 1 1, 4127.8ms\n",
            "image 795/1015 /content/drive/MyDrive/Safety-vest-Detection-8/test/images/ppe_1206_jpg.rf.d8f3afd60a5920ee1102e249d40e5912.jpg: 640x640 1 0, 1 1, 5516.9ms\n",
            "image 796/1015 /content/drive/MyDrive/Safety-vest-Detection-8/test/images/ppe_1207_jpg.rf.0b54ad97de0bd81207f63b82d9595f5e.jpg: 640x640 2 0s, 2 1s, 3914.8ms\n",
            "image 797/1015 /content/drive/MyDrive/Safety-vest-Detection-8/test/images/ppe_1207_jpg.rf.0b79e7b39817719f8cb1d57f0ded93d8.jpg: 640x640 2 0s, 2 1s, 3999.7ms\n",
            "image 798/1015 /content/drive/MyDrive/Safety-vest-Detection-8/test/images/ppe_1207_jpg.rf.b6759acb9e25c30da22c857bed2f4685.jpg: 640x640 2 0s, 2 1s, 5688.1ms\n",
            "image 799/1015 /content/drive/MyDrive/Safety-vest-Detection-8/test/images/ppe_1209_jpg.rf.4ffc3422fb54039846e9eb7c91e1c27a.jpg: 640x640 2 0s, 3989.8ms\n",
            "image 800/1015 /content/drive/MyDrive/Safety-vest-Detection-8/test/images/ppe_1209_jpg.rf.68c1e800937b9cf1e74ee300cebfcb6a.jpg: 640x640 2 0s, 1 1, 3986.8ms\n",
            "image 801/1015 /content/drive/MyDrive/Safety-vest-Detection-8/test/images/ppe_1209_jpg.rf.85e18f98dbd4f83062c3afc4e4733506.jpg: 640x640 2 0s, 2 1s, 5405.7ms\n",
            "image 802/1015 /content/drive/MyDrive/Safety-vest-Detection-8/test/images/ppe_1209_jpg.rf.9ea93a4e6b52b4ae2db2bb0a59637cc7.jpg: 640x640 2 0s, 2 1s, 4311.5ms\n",
            "image 803/1015 /content/drive/MyDrive/Safety-vest-Detection-8/test/images/ppe_1211_jpg.rf.4dfeac78f0d31fbbfdca9b422ae73165.jpg: 640x640 3 0s, 2 1s, 3998.8ms\n",
            "image 804/1015 /content/drive/MyDrive/Safety-vest-Detection-8/test/images/ppe_1211_jpg.rf.e5432503b7b5df157e7e749c14494c7a.jpg: 640x640 4 0s, 2 1s, 4628.8ms\n",
            "image 805/1015 /content/drive/MyDrive/Safety-vest-Detection-8/test/images/ppe_1211_jpg.rf.eee7003c3fdffb9db35c2bbb764ba951.jpg: 640x640 2 0s, 2 1s, 4878.1ms\n",
            "image 806/1015 /content/drive/MyDrive/Safety-vest-Detection-8/test/images/ppe_1211_jpg.rf.f45fe929c3aeda0d7918400c8191d153.jpg: 640x640 3 0s, 2 1s, 3979.4ms\n",
            "image 807/1015 /content/drive/MyDrive/Safety-vest-Detection-8/test/images/ppe_1212_jpg.rf.32303cdd8832f684e6b6fe90da3e053b.jpg: 640x640 5 0s, 2 1s, 4129.2ms\n",
            "image 808/1015 /content/drive/MyDrive/Safety-vest-Detection-8/test/images/ppe_1212_jpg.rf.482e738848863ee90f609c5f6e127166.jpg: 640x640 4 0s, 3 1s, 5483.9ms\n",
            "image 809/1015 /content/drive/MyDrive/Safety-vest-Detection-8/test/images/ppe_1212_jpg.rf.5d99ec3a240f2b094bf3584799bfdc91.jpg: 640x640 4 0s, 2 1s, 3994.9ms\n",
            "image 810/1015 /content/drive/MyDrive/Safety-vest-Detection-8/test/images/ppe_1212_jpg.rf.dd58c732afad6c06a8cd80b043dff97d.jpg: 640x640 4 0s, 2 1s, 3970.1ms\n",
            "image 811/1015 /content/drive/MyDrive/Safety-vest-Detection-8/test/images/ppe_1213_jpg.rf.3cf2ef685d9e35c03ada1e1420a34a0e.jpg: 640x640 1 0, 1 1, 5728.8ms\n",
            "image 812/1015 /content/drive/MyDrive/Safety-vest-Detection-8/test/images/ppe_1213_jpg.rf.5043dba7e6e04029b32f222e20ce7c53.jpg: 640x640 1 0, 1 1, 3952.5ms\n",
            "image 813/1015 /content/drive/MyDrive/Safety-vest-Detection-8/test/images/ppe_1213_jpg.rf.ab20c48c6280f502424a28512e513e84.jpg: 640x640 1 0, 1 1, 3976.0ms\n",
            "image 814/1015 /content/drive/MyDrive/Safety-vest-Detection-8/test/images/ppe_1213_jpg.rf.db829ab2d3b51f77f22e95bedef7f8a3.jpg: 640x640 1 0, 1 1, 5430.4ms\n",
            "image 815/1015 /content/drive/MyDrive/Safety-vest-Detection-8/test/images/ppe_1214_jpg.rf.2f6b1ea49d32a6b7dc02bb49e307251d.jpg: 640x640 1 0, 4258.7ms\n",
            "image 816/1015 /content/drive/MyDrive/Safety-vest-Detection-8/test/images/ppe_1214_jpg.rf.45ef4e36e6a74ccafa707c237aad4dba.jpg: 640x640 1 0, 4005.8ms\n",
            "image 817/1015 /content/drive/MyDrive/Safety-vest-Detection-8/test/images/ppe_1214_jpg.rf.75c337810ca055526184807f016dab90.jpg: 640x640 1 0, 4836.2ms\n",
            "image 818/1015 /content/drive/MyDrive/Safety-vest-Detection-8/test/images/ppe_1214_jpg.rf.86439e92b78dbaee92df8674ab09683f.jpg: 640x640 1 0, 5696.0ms\n",
            "image 819/1015 /content/drive/MyDrive/Safety-vest-Detection-8/test/images/ppe_1217_jpg.rf.38adb48eb248369a65beb6376fc49bb7.jpg: 640x640 4 0s, 3 1s, 5180.1ms\n",
            "image 820/1015 /content/drive/MyDrive/Safety-vest-Detection-8/test/images/ppe_1217_jpg.rf.93d78b9ca454e5bfa9cd208a332a6fba.jpg: 640x640 3 0s, 1 1, 5525.3ms\n",
            "image 821/1015 /content/drive/MyDrive/Safety-vest-Detection-8/test/images/ppe_1217_jpg.rf.d600c67c5c83b90b40556d73af4cd6c5.jpg: 640x640 4 0s, 4 1s, 4545.8ms\n",
            "image 822/1015 /content/drive/MyDrive/Safety-vest-Detection-8/test/images/ppe_1219_jpg.rf.1efbd4ac1312c4ec95cc7f29444bb3c4.jpg: 640x640 1 0, 1 1, 3954.0ms\n",
            "image 823/1015 /content/drive/MyDrive/Safety-vest-Detection-8/test/images/ppe_1219_jpg.rf.4d2bb089e01f6005b4727b28c9c4494a.jpg: 640x640 1 0, 5237.1ms\n",
            "image 824/1015 /content/drive/MyDrive/Safety-vest-Detection-8/test/images/ppe_1219_jpg.rf.78e60ffe76a3c1275191310d44179a41.jpg: 640x640 2 0s, 1 1, 4463.4ms\n",
            "image 825/1015 /content/drive/MyDrive/Safety-vest-Detection-8/test/images/ppe_1219_jpg.rf.889504b6bf8d70337213d4eca2e1bad9.jpg: 640x640 1 0, 1 1, 4032.4ms\n",
            "image 826/1015 /content/drive/MyDrive/Safety-vest-Detection-8/test/images/ppe_1220_jpg.rf.3d6e8b417566ef70cae959813a640b9d.jpg: 640x640 1 0, 1 1, 5104.2ms\n",
            "image 827/1015 /content/drive/MyDrive/Safety-vest-Detection-8/test/images/ppe_1223_jpg.rf.d2958946cb1e04ad6fcf3cce004a3d5c.jpg: 640x640 5 0s, 4 1s, 5416.3ms\n",
            "image 828/1015 /content/drive/MyDrive/Safety-vest-Detection-8/test/images/ppe_1227_jpg.rf.32247f72a1b14a7ffac4cfad45e691ef.jpg: 640x640 4 0s, 3 1s, 4164.4ms\n",
            "image 829/1015 /content/drive/MyDrive/Safety-vest-Detection-8/test/images/ppe_1227_jpg.rf.489ec43524685e1ff84632793703244f.jpg: 640x640 3 0s, 4 1s, 4836.7ms\n",
            "image 830/1015 /content/drive/MyDrive/Safety-vest-Detection-8/test/images/ppe_1227_jpg.rf.9f7bc3c70a1ec85aeaf6818fad70ef01.jpg: 640x640 3 0s, 3 1s, 5144.6ms\n",
            "image 831/1015 /content/drive/MyDrive/Safety-vest-Detection-8/test/images/ppe_1227_jpg.rf.b9cd188fd860ceb9055abc4c5d28ad17.jpg: 640x640 4 0s, 3 1s, 4292.3ms\n",
            "image 832/1015 /content/drive/MyDrive/Safety-vest-Detection-8/test/images/ppe_1228_jpg.rf.673fcd5fe00440f6b7f083633f730b6b.jpg: 640x640 1 0, 4430.1ms\n",
            "image 833/1015 /content/drive/MyDrive/Safety-vest-Detection-8/test/images/ppe_1229_jpg.rf.2ec2a1ebc4863a01586e57b4860af3dc.jpg: 640x640 4 0s, 4 1s, 5536.8ms\n",
            "image 834/1015 /content/drive/MyDrive/Safety-vest-Detection-8/test/images/ppe_1229_jpg.rf.599f316758d732f6438fbedb973dd05f.jpg: 640x640 3 0s, 2 1s, 4115.7ms\n",
            "image 835/1015 /content/drive/MyDrive/Safety-vest-Detection-8/test/images/ppe_1229_jpg.rf.5c6693f96231108668f78a4b55a7c348.jpg: 640x640 2 0s, 2 1s, 4079.8ms\n",
            "image 836/1015 /content/drive/MyDrive/Safety-vest-Detection-8/test/images/ppe_1229_jpg.rf.e35f16bf017ee85128a68685932b560b.jpg: 640x640 3 0s, 3 1s, 6211.6ms\n",
            "image 837/1015 /content/drive/MyDrive/Safety-vest-Detection-8/test/images/ppe_1230_jpg.rf.1e07719bdb67ba43b1f6cca588455ac5.jpg: 640x640 5 0s, 5 1s, 4094.0ms\n",
            "image 838/1015 /content/drive/MyDrive/Safety-vest-Detection-8/test/images/ppe_1230_jpg.rf.2440af400df7122f2b78f9e67ced6ca0.jpg: 640x640 6 0s, 4 1s, 4106.8ms\n",
            "image 839/1015 /content/drive/MyDrive/Safety-vest-Detection-8/test/images/ppe_1230_jpg.rf.3bdd4498f16ec332206e927579d4baeb.jpg: 640x640 5 0s, 5 1s, 5904.6ms\n",
            "image 840/1015 /content/drive/MyDrive/Safety-vest-Detection-8/test/images/ppe_1230_jpg.rf.fe7282b6287580594516137e4600778e.jpg: 640x640 6 0s, 5 1s, 4053.6ms\n",
            "image 841/1015 /content/drive/MyDrive/Safety-vest-Detection-8/test/images/ppe_1236_jpg.rf.98eaa844cc8b37c6b84316869e3ae436.jpg: 640x640 4 0s, 1 1, 4604.5ms\n",
            "image 842/1015 /content/drive/MyDrive/Safety-vest-Detection-8/test/images/ppe_1236_jpg.rf.bedda14adf41dd7b5fce6aa57c80d5de.jpg: 640x640 3 0s, 1 1, 5811.1ms\n",
            "image 843/1015 /content/drive/MyDrive/Safety-vest-Detection-8/test/images/ppe_1236_jpg.rf.c6139edf9e3700a53ef37e9f7483e396.jpg: 640x640 4 0s, 3 1s, 3992.9ms\n",
            "image 844/1015 /content/drive/MyDrive/Safety-vest-Detection-8/test/images/ppe_1236_jpg.rf.e7b82e6bd15a32b315bcceb4445ba19e.jpg: 640x640 4 0s, 2 1s, 4034.7ms\n",
            "image 845/1015 /content/drive/MyDrive/Safety-vest-Detection-8/test/images/ppe_1239_jpg.rf.6c79f1402bd0506973e994cd7554208a.jpg: 640x640 4 0s, 1 1, 9685.8ms\n",
            "image 846/1015 /content/drive/MyDrive/Safety-vest-Detection-8/test/images/ppe_1239_jpg.rf.6d4b740e5a496385f5d1b10e6e41aaff.jpg: 640x640 5 0s, 3 1s, 4325.9ms\n",
            "image 847/1015 /content/drive/MyDrive/Safety-vest-Detection-8/test/images/ppe_1239_jpg.rf.9e3f7b248a8ac68ee5a8f4937b33cd3f.jpg: 640x640 3 0s, 1 1, 4023.9ms\n",
            "image 848/1015 /content/drive/MyDrive/Safety-vest-Detection-8/test/images/ppe_1239_jpg.rf.de961034bc623be5f404f1a426d56587.jpg: 640x640 3 0s, 3 1s, 5242.1ms\n",
            "image 849/1015 /content/drive/MyDrive/Safety-vest-Detection-8/test/images/ppe_1242_jpg.rf.77c2b0d4b7d001aba43cb0d49fc5391b.jpg: 640x640 1 0, 1 1, 4923.2ms\n",
            "image 850/1015 /content/drive/MyDrive/Safety-vest-Detection-8/test/images/ppe_1247_jpg.rf.f80bc6c7031c1b518814a3b1281a7014.jpg: 640x640 2 0s, 2 1s, 4471.3ms\n",
            "image 851/1015 /content/drive/MyDrive/Safety-vest-Detection-8/test/images/ppe_1249_jpg.rf.f6a9f9f0af62999217d0b721ddb8b04e.jpg: 640x640 2 0s, 1 1, 5017.4ms\n",
            "image 852/1015 /content/drive/MyDrive/Safety-vest-Detection-8/test/images/ppe_1252_jpg.rf.06a75b2c658db00ae63b226d3b32c064.jpg: 640x640 5 0s, 5 1s, 4675.0ms\n",
            "image 853/1015 /content/drive/MyDrive/Safety-vest-Detection-8/test/images/ppe_1252_jpg.rf.4298833e68bd2c1d6bf08119626a8ee9.jpg: 640x640 5 0s, 4 1s, 4079.8ms\n",
            "image 854/1015 /content/drive/MyDrive/Safety-vest-Detection-8/test/images/ppe_1252_jpg.rf.e1db886d9b8f797c0018e3ce79b82f5d.jpg: 640x640 5 0s, 2 1s, 4469.0ms\n",
            "image 855/1015 /content/drive/MyDrive/Safety-vest-Detection-8/test/images/ppe_1252_jpg.rf.e5bdb48ec61d50d8901d3f8bdfdbe2fd.jpg: 640x640 5 0s, 4 1s, 5423.4ms\n",
            "image 856/1015 /content/drive/MyDrive/Safety-vest-Detection-8/test/images/ppe_1256_jpg.rf.177c8f399cb2aadc549188c6b26ae7ba.jpg: 640x640 3 0s, 2 1s, 4068.2ms\n",
            "image 857/1015 /content/drive/MyDrive/Safety-vest-Detection-8/test/images/ppe_1256_jpg.rf.2301a615a2e8bd72bf7ec64ec6732db6.jpg: 640x640 2 0s, 2 1s, 4041.8ms\n",
            "image 858/1015 /content/drive/MyDrive/Safety-vest-Detection-8/test/images/ppe_1256_jpg.rf.4f0d482518d0e9877aecb63ee3b7205a.jpg: 640x640 2 0s, 2 1s, 5646.1ms\n",
            "image 859/1015 /content/drive/MyDrive/Safety-vest-Detection-8/test/images/ppe_1256_jpg.rf.e45f05149da2c390f06c6b060adf16fb.jpg: 640x640 2 0s, 2 1s, 4045.4ms\n",
            "image 860/1015 /content/drive/MyDrive/Safety-vest-Detection-8/test/images/ppe_1258_jpg.rf.1084b1d24441bd574d28702f634a6e55.jpg: 640x640 1 0, 4139.3ms\n",
            "image 861/1015 /content/drive/MyDrive/Safety-vest-Detection-8/test/images/ppe_1258_jpg.rf.46b1013d6a06bd60fc579fc3ab48803a.jpg: 640x640 4 0s, 2 1s, 5830.0ms\n",
            "image 862/1015 /content/drive/MyDrive/Safety-vest-Detection-8/test/images/ppe_1258_jpg.rf.7798bf91ecf154ef1fcb7f9a755b456b.jpg: 640x640 1 0, 4032.3ms\n",
            "image 863/1015 /content/drive/MyDrive/Safety-vest-Detection-8/test/images/ppe_1258_jpg.rf.e98455fc8a4e52caead1293290ae3e3e.jpg: 640x640 1 0, 3954.7ms\n",
            "image 864/1015 /content/drive/MyDrive/Safety-vest-Detection-8/test/images/ppe_1260_jpg.rf.6af7e1bc029ac713dec934c37096d24b.jpg: 640x640 3 0s, 2 1s, 5477.8ms\n",
            "image 865/1015 /content/drive/MyDrive/Safety-vest-Detection-8/test/images/ppe_1260_jpg.rf.70d44de41e66f0c206f5580d6f425e33.jpg: 640x640 4 0s, 3 1s, 4914.2ms\n",
            "image 866/1015 /content/drive/MyDrive/Safety-vest-Detection-8/test/images/ppe_1260_jpg.rf.d930f3b4ae4ad8c4ce17e6b92dce85db.jpg: 640x640 6 0s, 2 1s, 5865.0ms\n",
            "image 867/1015 /content/drive/MyDrive/Safety-vest-Detection-8/test/images/ppe_1260_jpg.rf.da46fdff24e5116a0eed0bce95291ed3.jpg: 640x640 4 0s, 4 1s, 6279.9ms\n",
            "image 868/1015 /content/drive/MyDrive/Safety-vest-Detection-8/test/images/ppe_1261_jpg.rf.584fddb8b13fd46d636e701bee512e06.jpg: 640x640 3 0s, 2 1s, 4060.3ms\n",
            "image 869/1015 /content/drive/MyDrive/Safety-vest-Detection-8/test/images/ppe_1261_jpg.rf.92af64a36de7ec6d0faf2c994271f491.jpg: 640x640 3 0s, 4386.4ms\n",
            "image 870/1015 /content/drive/MyDrive/Safety-vest-Detection-8/test/images/ppe_1261_jpg.rf.ebd8d1a063e1a2d1437d4cdb103cce16.jpg: 640x640 3 0s, 2 1s, 5841.4ms\n",
            "image 871/1015 /content/drive/MyDrive/Safety-vest-Detection-8/test/images/ppe_1261_jpg.rf.fe82ff0255803172a6f70dae9274efae.jpg: 640x640 3 0s, 2 1s, 3988.4ms\n",
            "image 872/1015 /content/drive/MyDrive/Safety-vest-Detection-8/test/images/ppe_1262_jpg.rf.c8737a3203ad2610676bae2b853ecfc3.jpg: 640x640 2 0s, 1 1, 3975.1ms\n",
            "image 873/1015 /content/drive/MyDrive/Safety-vest-Detection-8/test/images/ppe_1263_jpg.rf.649fdf25398008257112653d37cb0d7a.jpg: 640x640 1 0, 1 1, 5654.3ms\n",
            "image 874/1015 /content/drive/MyDrive/Safety-vest-Detection-8/test/images/ppe_1265_jpg.rf.08d139910c6b08582ed2fa9c2b2c0cf1.jpg: 640x640 1 0, 1 1, 4226.4ms\n",
            "image 875/1015 /content/drive/MyDrive/Safety-vest-Detection-8/test/images/ppe_1265_jpg.rf.36d35833e0330fd818c0013911c12e41.jpg: 640x640 1 0, 1 1, 4458.7ms\n",
            "image 876/1015 /content/drive/MyDrive/Safety-vest-Detection-8/test/images/ppe_1265_jpg.rf.7bdc793d8e75a74795c80f12e4aa2798.jpg: 640x640 1 0, 1 1, 5341.7ms\n",
            "image 877/1015 /content/drive/MyDrive/Safety-vest-Detection-8/test/images/ppe_1265_jpg.rf.f7acbb7ceb985b593a2006074ee70c0c.jpg: 640x640 1 0, 1 1, 4295.6ms\n",
            "image 878/1015 /content/drive/MyDrive/Safety-vest-Detection-8/test/images/ppe_1266_jpg.rf.0cf6a6e735248dc3b6287a980aa1f0a7.jpg: 640x640 1 0, 1 1, 3953.5ms\n",
            "image 879/1015 /content/drive/MyDrive/Safety-vest-Detection-8/test/images/ppe_1266_jpg.rf.365be7e2fce38e1066d5266e47997701.jpg: 640x640 1 0, 1 1, 4730.9ms\n",
            "image 880/1015 /content/drive/MyDrive/Safety-vest-Detection-8/test/images/ppe_1266_jpg.rf.6e1dd8f87062721c5e5a28f7d9b7db31.jpg: 640x640 1 0, 5583.4ms\n",
            "image 881/1015 /content/drive/MyDrive/Safety-vest-Detection-8/test/images/ppe_1266_jpg.rf.6e7ecf4d5068d2aa13b23eb69653cea6.jpg: 640x640 1 0, 1 1, 4001.3ms\n",
            "image 882/1015 /content/drive/MyDrive/Safety-vest-Detection-8/test/images/ppe_1268_jpg.rf.3ee16a17f8bb13fc55f5254f6d9039e2.jpg: 640x640 1 0, 1 1, 4328.6ms\n",
            "image 883/1015 /content/drive/MyDrive/Safety-vest-Detection-8/test/images/ppe_1268_jpg.rf.59f670b6ef8bdb210bcc407e37c82dcb.jpg: 640x640 1 0, 1 1, 5306.7ms\n",
            "image 884/1015 /content/drive/MyDrive/Safety-vest-Detection-8/test/images/ppe_1268_jpg.rf.6e7fc5e47a57bdfb5278f75b94e867c6.jpg: 640x640 1 0, 1 1, 4007.1ms\n",
            "image 885/1015 /content/drive/MyDrive/Safety-vest-Detection-8/test/images/ppe_1268_jpg.rf.c00e922f89dda6b9ebb846a8d5c88b32.jpg: 640x640 1 0, 1 1, 4385.4ms\n",
            "image 886/1015 /content/drive/MyDrive/Safety-vest-Detection-8/test/images/ppe_1275_jpg.rf.68f35245618471737437ede83c68f215.jpg: 640x640 4 0s, 2 1s, 5685.2ms\n",
            "image 887/1015 /content/drive/MyDrive/Safety-vest-Detection-8/test/images/ppe_1275_jpg.rf.9763079bf0cd7409284d5e3c3e101185.jpg: 640x640 4 0s, 3 1s, 3953.6ms\n",
            "image 888/1015 /content/drive/MyDrive/Safety-vest-Detection-8/test/images/ppe_1275_jpg.rf.f64588fdcf9796fee22ae5a36d0d7103.jpg: 640x640 5 0s, 3 1s, 4005.4ms\n",
            "image 889/1015 /content/drive/MyDrive/Safety-vest-Detection-8/test/images/ppe_1275_jpg.rf.fc6053ac0805c860694ccb41be01501d.jpg: 640x640 2 0s, 1 1, 5794.7ms\n",
            "image 890/1015 /content/drive/MyDrive/Safety-vest-Detection-8/test/images/ppe_1282_jpg.rf.05dc6b016fb63105c35bac864a553481.jpg: 640x640 1 0, 1 1, 4444.6ms\n",
            "image 891/1015 /content/drive/MyDrive/Safety-vest-Detection-8/test/images/ppe_1282_jpg.rf.1e8bee95f79d6ec3e92f91f073ac6a51.jpg: 640x640 1 0, 1 1, 3946.8ms\n",
            "image 892/1015 /content/drive/MyDrive/Safety-vest-Detection-8/test/images/ppe_1282_jpg.rf.69fb6a5489a0cd8af04e47a25e9f7fc3.jpg: 640x640 1 0, 1 1, 5527.1ms\n",
            "image 893/1015 /content/drive/MyDrive/Safety-vest-Detection-8/test/images/ppe_1282_jpg.rf.c92806135375592141a886626c6cdae9.jpg: 640x640 1 0, 2 1s, 4188.6ms\n",
            "image 894/1015 /content/drive/MyDrive/Safety-vest-Detection-8/test/images/ppe_1283_jpg.rf.22e8b5eec8112b68660b095045fc9b4e.jpg: 640x640 1 0, 1 1, 4130.1ms\n",
            "image 895/1015 /content/drive/MyDrive/Safety-vest-Detection-8/test/images/ppe_1283_jpg.rf.2def124206a02bb714a461323efffe27.jpg: 640x640 1 0, 1 1, 5169.7ms\n",
            "image 896/1015 /content/drive/MyDrive/Safety-vest-Detection-8/test/images/ppe_1283_jpg.rf.70ed1934d88b040def0aff7d4e78e877.jpg: 640x640 1 0, 1 1, 4517.1ms\n",
            "image 897/1015 /content/drive/MyDrive/Safety-vest-Detection-8/test/images/ppe_1284_jpg.rf.793e518b98a44993550b8c92df78d7b9.jpg: 640x640 4 0s, 4 1s, 3983.4ms\n",
            "image 898/1015 /content/drive/MyDrive/Safety-vest-Detection-8/test/images/ppe_1286_jpg.rf.32016388a41e46edf6d144719b15ebf6.jpg: 640x640 1 0, 1 1, 4671.9ms\n",
            "image 899/1015 /content/drive/MyDrive/Safety-vest-Detection-8/test/images/ppe_1286_jpg.rf.48e99831070ec081db0a297f1105e34c.jpg: 640x640 1 0, 1 1, 5041.2ms\n",
            "image 900/1015 /content/drive/MyDrive/Safety-vest-Detection-8/test/images/ppe_1286_jpg.rf.d52dd543e71993a10b21574328f2899d.jpg: 640x640 1 0, 1 1, 4000.2ms\n",
            "image 901/1015 /content/drive/MyDrive/Safety-vest-Detection-8/test/images/ppe_1286_jpg.rf.fb0873506f1f382254c645cb67957d0e.jpg: 640x640 1 0, 1 1, 4142.2ms\n",
            "image 902/1015 /content/drive/MyDrive/Safety-vest-Detection-8/test/images/ppe_1287_jpg.rf.38b862336c07813e162a1c16aebf75d7.jpg: 640x640 2 0s, 1 1, 5525.6ms\n",
            "image 903/1015 /content/drive/MyDrive/Safety-vest-Detection-8/test/images/ppe_1287_jpg.rf.39596333e3ca8faa164a7589b23fae59.jpg: 640x640 1 0, 4008.0ms\n",
            "image 904/1015 /content/drive/MyDrive/Safety-vest-Detection-8/test/images/ppe_1287_jpg.rf.b292a5dabf6defcb8323f9274971b1cb.jpg: 640x640 2 0s, 2 1s, 3937.2ms\n",
            "image 905/1015 /content/drive/MyDrive/Safety-vest-Detection-8/test/images/ppe_1287_jpg.rf.e236d767f2e16652d7ee250261589a4b.jpg: 640x640 1 0, 5696.6ms\n",
            "image 906/1015 /content/drive/MyDrive/Safety-vest-Detection-8/test/images/ppe_1289_jpg.rf.2d180811b9981558ca84a1b9e7973978.jpg: 640x640 1 0, 1 1, 3998.1ms\n",
            "image 907/1015 /content/drive/MyDrive/Safety-vest-Detection-8/test/images/ppe_1291_jpg.rf.19c42e893d5fd8d5aac2c28b7b5793c5.jpg: 640x640 1 0, 1 1, 3943.7ms\n",
            "image 908/1015 /content/drive/MyDrive/Safety-vest-Detection-8/test/images/ppe_1291_jpg.rf.6776f99df20de9b8dccdf25958130b68.jpg: 640x640 1 0, 1 1, 5369.6ms\n",
            "image 909/1015 /content/drive/MyDrive/Safety-vest-Detection-8/test/images/ppe_1291_jpg.rf.7d13d40bd72814e6325de58f9c9178c0.jpg: 640x640 1 0, 1 1, 4370.4ms\n",
            "image 910/1015 /content/drive/MyDrive/Safety-vest-Detection-8/test/images/ppe_1291_jpg.rf.aa4ba4935c29b7160b8c93535b3a7b65.jpg: 640x640 1 0, 1 1, 4011.1ms\n",
            "image 911/1015 /content/drive/MyDrive/Safety-vest-Detection-8/test/images/ppe_1292_jpg.rf.0845bd6226f3bff5c9dc2271c1043225.jpg: 640x640 4 0s, 2 1s, 4824.7ms\n",
            "image 912/1015 /content/drive/MyDrive/Safety-vest-Detection-8/test/images/ppe_1293_jpg.rf.3317f3a5dbdbaccc7fe30ff1dbdfa02c.jpg: 640x640 5 0s, 4 1s, 4821.1ms\n",
            "image 913/1015 /content/drive/MyDrive/Safety-vest-Detection-8/test/images/ppe_1293_jpg.rf.ae8de47abc8a9aeefc882487263c51e1.jpg: 640x640 4 0s, 2 1s, 3919.7ms\n",
            "image 914/1015 /content/drive/MyDrive/Safety-vest-Detection-8/test/images/ppe_1293_jpg.rf.d9708151a7b0874d5db79a637337cc48.jpg: 640x640 5 0s, 4 1s, 4362.9ms\n",
            "image 915/1015 /content/drive/MyDrive/Safety-vest-Detection-8/test/images/ppe_1298_jpg.rf.1d54a4a35dc0efebf4a7af4f0b60c282.jpg: 640x640 7 0s, 7 1s, 5892.8ms\n",
            "image 916/1015 /content/drive/MyDrive/Safety-vest-Detection-8/test/images/ppe_1298_jpg.rf.e36faf3592868ffeac586a0bde2f9d0f.jpg: 640x640 6 0s, 5 1s, 5539.0ms\n",
            "image 917/1015 /content/drive/MyDrive/Safety-vest-Detection-8/test/images/ppe_1298_jpg.rf.e7b0f9041186a66ce192c73d3fae9fc0.jpg: 640x640 5 0s, 2 1s, 5125.3ms\n",
            "image 918/1015 /content/drive/MyDrive/Safety-vest-Detection-8/test/images/ppe_1298_jpg.rf.fc4cae4ec53b5314990e59f76e367f83.jpg: 640x640 9 0s, 6 1s, 4614.0ms\n",
            "image 919/1015 /content/drive/MyDrive/Safety-vest-Detection-8/test/images/ppe_1299_jpg.rf.3f5318a3927b220f39f732da5c186a1f.jpg: 640x640 2 0s, 1 1, 4000.3ms\n",
            "image 920/1015 /content/drive/MyDrive/Safety-vest-Detection-8/test/images/ppe_1299_jpg.rf.57a0383f1989abb5f0f1b0225f5f9354.jpg: 640x640 3 0s, 2 1s, 4693.1ms\n",
            "image 921/1015 /content/drive/MyDrive/Safety-vest-Detection-8/test/images/ppe_1299_jpg.rf.73b4373e225d30ad7577cff29a5aeb56.jpg: 640x640 1 0, 1 1, 5074.0ms\n",
            "image 922/1015 /content/drive/MyDrive/Safety-vest-Detection-8/test/images/ppe_1299_jpg.rf.bab5fec741faad1ee3d1ccd34454cc95.jpg: 640x640 2 0s, 1 1, 3992.3ms\n",
            "image 923/1015 /content/drive/MyDrive/Safety-vest-Detection-8/test/images/ppe_1301_jpg.rf.101937d994e68c7f819c392257b9cccc.jpg: 640x640 5 0s, 4 1s, 4291.3ms\n",
            "image 924/1015 /content/drive/MyDrive/Safety-vest-Detection-8/test/images/ppe_1301_jpg.rf.966bdadb15c5d00e2b911f2506682187.jpg: 640x640 5 0s, 3 1s, 5488.7ms\n",
            "image 925/1015 /content/drive/MyDrive/Safety-vest-Detection-8/test/images/ppe_1301_jpg.rf.a33496c7e1590def2debc4e4439fba67.jpg: 640x640 5 0s, 1 1, 3933.4ms\n",
            "image 926/1015 /content/drive/MyDrive/Safety-vest-Detection-8/test/images/ppe_1301_jpg.rf.ce89532ca1df52c2406f9f5c6d01efff.jpg: 640x640 5 0s, 2 1s, 4024.6ms\n",
            "image 927/1015 /content/drive/MyDrive/Safety-vest-Detection-8/test/images/ppe_1302_jpg.rf.0b5bebdd31a4ed68fe74a1da24ed4347.jpg: 640x640 2 0s, 1 1, 5721.2ms\n",
            "image 928/1015 /content/drive/MyDrive/Safety-vest-Detection-8/test/images/ppe_1302_jpg.rf.39b7006c1772d2768b915c117fc59f34.jpg: 640x640 2 0s, 2 1s, 4040.2ms\n",
            "image 929/1015 /content/drive/MyDrive/Safety-vest-Detection-8/test/images/ppe_1302_jpg.rf.776934a6c1bf33227061a87a7075b8f1.jpg: 640x640 3 0s, 2 1s, 4025.8ms\n",
            "image 930/1015 /content/drive/MyDrive/Safety-vest-Detection-8/test/images/ppe_1302_jpg.rf.eae8d9066d8e2beba83b78841be89aa6.jpg: 640x640 3 0s, 2 1s, 5463.4ms\n",
            "image 931/1015 /content/drive/MyDrive/Safety-vest-Detection-8/test/images/ppe_1306_jpg.rf.417cdf0e1c4fb1c9eb9271b1f0fc9e75.jpg: 640x640 3 0s, 2 1s, 4168.6ms\n",
            "image 932/1015 /content/drive/MyDrive/Safety-vest-Detection-8/test/images/ppe_1316_jpg.rf.e8b3df9933b672b69f5b713602df6ebc.jpg: 640x640 2 0s, 1 1, 3973.5ms\n",
            "image 933/1015 /content/drive/MyDrive/Safety-vest-Detection-8/test/images/ppe_1318_jpg.rf.fde181b3fbb2b90b596cd5da20afb882.jpg: 640x640 1 0, 4891.9ms\n",
            "image 934/1015 /content/drive/MyDrive/Safety-vest-Detection-8/test/images/ppe_1319_jpg.rf.6c39732c89ba50c34c9b54a9b0aab900.jpg: 640x640 1 0, 4814.5ms\n",
            "image 935/1015 /content/drive/MyDrive/Safety-vest-Detection-8/test/images/ppe_1319_jpg.rf.872c2ae497702a24ee038aa650dee3ca.jpg: 640x640 4 0s, 2 1s, 3988.3ms\n",
            "image 936/1015 /content/drive/MyDrive/Safety-vest-Detection-8/test/images/ppe_1319_jpg.rf.c8003bd47604c2e9facc18f1d1db66e3.jpg: 640x640 (no detections), 4293.7ms\n",
            "image 937/1015 /content/drive/MyDrive/Safety-vest-Detection-8/test/images/ppe_1322_jpg.rf.b3439017d71708d62d4d7783b1b89071.jpg: 640x640 2 0s, 5343.9ms\n",
            "image 938/1015 /content/drive/MyDrive/Safety-vest-Detection-8/test/images/ppe_1323_jpg.rf.6f50266cab8d6e0015dffbbe0333284e.jpg: 640x640 1 0, 1 1, 3970.6ms\n",
            "image 939/1015 /content/drive/MyDrive/Safety-vest-Detection-8/test/images/ppe_1325_jpg.rf.c6cd1882a358d4356d410e5a23b79b29.jpg: 640x640 4 0s, 2 1s, 3987.7ms\n",
            "image 940/1015 /content/drive/MyDrive/Safety-vest-Detection-8/test/images/ppe_1325_jpg.rf.d42edbb3b3abbcfbb7f1c769acdd6050.jpg: 640x640 3 0s, 2 1s, 5663.7ms\n",
            "image 941/1015 /content/drive/MyDrive/Safety-vest-Detection-8/test/images/ppe_1326_jpg.rf.26b9f75a108eab0df052325bcdcc265d.jpg: 640x640 2 0s, 1 1, 4038.6ms\n",
            "image 942/1015 /content/drive/MyDrive/Safety-vest-Detection-8/test/images/ppe_1327_jpg.rf.e0e8a20e45ce27a7f9b0f8e7157ba884.jpg: 640x640 8 0s, 7 1s, 3937.7ms\n",
            "image 943/1015 /content/drive/MyDrive/Safety-vest-Detection-8/test/images/ppe_1329_jpg.rf.9e5a7386f721eeee9afdcf37988455d7.jpg: 640x640 1 0, 1 1, 5705.6ms\n",
            "image 944/1015 /content/drive/MyDrive/Safety-vest-Detection-8/test/images/r107_jpg.rf.92f6444da0c5dd511b7a6d14e47f67ff.jpg: 640x640 6 0s, 6 1s, 4107.3ms\n",
            "image 945/1015 /content/drive/MyDrive/Safety-vest-Detection-8/test/images/r118_jpg.rf.5c4fbe09c2eb41893ebe57a9953fb2fe.jpg: 640x640 1 0, 2 1s, 3943.6ms\n",
            "image 946/1015 /content/drive/MyDrive/Safety-vest-Detection-8/test/images/r152_jpg.rf.e4197d232a8c89343421552c36aeed68.jpg: 640x640 2 0s, 2 1s, 5149.3ms\n",
            "image 947/1015 /content/drive/MyDrive/Safety-vest-Detection-8/test/images/r167_jpg.rf.ea6c2c418dee38e4b27c2bb6478c088f.jpg: 640x640 2 0s, 2 1s, 4568.5ms\n",
            "image 948/1015 /content/drive/MyDrive/Safety-vest-Detection-8/test/images/thumb0333_jpg.rf.111d916610b04ea680fc38ef1ca62743.jpg: 640x640 1 0, 1 1, 3990.8ms\n",
            "image 949/1015 /content/drive/MyDrive/Safety-vest-Detection-8/test/images/thumb0938_jpg.rf.add3bebeb319ddca151fe4eac074c520.jpg: 640x640 1 0, 1 1, 4561.7ms\n",
            "image 950/1015 /content/drive/MyDrive/Safety-vest-Detection-8/test/images/thumb1718_jpg.rf.57470434b95c70ebfb0dfb47ecf0153d.jpg: 640x640 1 0, 1 1, 5071.6ms\n",
            "image 951/1015 /content/drive/MyDrive/Safety-vest-Detection-8/test/images/youtube-103_jpg.rf.9fd619f602cdea9589bda7a9bba290c4.jpg: 640x640 1 0, 3997.1ms\n",
            "image 952/1015 /content/drive/MyDrive/Safety-vest-Detection-8/test/images/youtube-104_jpg.rf.6f33bf76b78a29033797c341cd9ce188.jpg: 640x640 1 0, 1 1, 4030.0ms\n",
            "image 953/1015 /content/drive/MyDrive/Safety-vest-Detection-8/test/images/youtube-110_jpg.rf.ae38c0a5f18549ed6bb609ea23dd4a2d.jpg: 640x640 1 0, 1 1, 5694.0ms\n",
            "image 954/1015 /content/drive/MyDrive/Safety-vest-Detection-8/test/images/youtube-111_jpg.rf.8d88eff859587ba2c39e7142582e82fa.jpg: 640x640 1 0, 1 1, 3949.8ms\n",
            "image 955/1015 /content/drive/MyDrive/Safety-vest-Detection-8/test/images/youtube-117_jpg.rf.0174e01505ea3a6ae5c4c5438d723291.jpg: 640x640 3 0s, 3 1s, 3918.3ms\n",
            "image 956/1015 /content/drive/MyDrive/Safety-vest-Detection-8/test/images/youtube-11_jpg.rf.1c50f8e06116961145519e2f468f9802.jpg: 640x640 2 0s, 2 1s, 5772.3ms\n",
            "image 957/1015 /content/drive/MyDrive/Safety-vest-Detection-8/test/images/youtube-120_jpg.rf.ecade53ea223f86148164fd9a0b8700e.jpg: 640x640 4 0s, 2 1s, 3994.0ms\n",
            "image 958/1015 /content/drive/MyDrive/Safety-vest-Detection-8/test/images/youtube-122_jpg.rf.1abc01e26a83eca4b9d2ba15efa5a448.jpg: 640x640 1 0, 1 1, 3896.6ms\n",
            "image 959/1015 /content/drive/MyDrive/Safety-vest-Detection-8/test/images/youtube-122_jpg.rf.1cdd67847ed14512f7b6dde8da48db11.jpg: 640x640 1 0, 5100.7ms\n",
            "image 960/1015 /content/drive/MyDrive/Safety-vest-Detection-8/test/images/youtube-123_jpg.rf.7bab99616be7b3911419f89e4b88b5ea.jpg: 640x640 1 0, 1 1, 4522.3ms\n",
            "image 961/1015 /content/drive/MyDrive/Safety-vest-Detection-8/test/images/youtube-125_jpg.rf.5a978b99c0e501ae48b38ced4d560c7e.jpg: 640x640 1 0, 1 1, 4011.5ms\n",
            "image 962/1015 /content/drive/MyDrive/Safety-vest-Detection-8/test/images/youtube-125_jpg.rf.a4043552f61acca59f3b817cfc647e51.jpg: 640x640 4 0s, 4 1s, 4524.5ms\n",
            "image 963/1015 /content/drive/MyDrive/Safety-vest-Detection-8/test/images/youtube-128_jpg.rf.b6b72e528e1deef310a8f91d3b1c3743.jpg: 640x640 1 0, 5136.5ms\n",
            "image 964/1015 /content/drive/MyDrive/Safety-vest-Detection-8/test/images/youtube-12_jpg.rf.53885ebbc1a249c95c2a849096249d4b.jpg: 640x640 2 0s, 2 1s, 3996.7ms\n",
            "image 965/1015 /content/drive/MyDrive/Safety-vest-Detection-8/test/images/youtube-135_jpg.rf.6ef6dcc1e4927631eb0f19d480187c39.jpg: 640x640 1 0, 4015.7ms\n",
            "image 966/1015 /content/drive/MyDrive/Safety-vest-Detection-8/test/images/youtube-137_jpg.rf.85e70ec0828176726e6cb5084242cea5.jpg: 640x640 1 0, 1 1, 6531.7ms\n",
            "image 967/1015 /content/drive/MyDrive/Safety-vest-Detection-8/test/images/youtube-148_jpg.rf.ffb014b9ea6f70ff31792f80940cefb0.jpg: 640x640 1 0, 1 1, 5282.4ms\n",
            "image 968/1015 /content/drive/MyDrive/Safety-vest-Detection-8/test/images/youtube-152_jpg.rf.35ae66f9b12a10a866d3a63017f4ff43.jpg: 640x640 1 0, 1 1, 4214.9ms\n",
            "image 969/1015 /content/drive/MyDrive/Safety-vest-Detection-8/test/images/youtube-152_jpg.rf.790d3fa773187def5ef20c18a68ac503.jpg: 640x640 1 0, 1 1, 5430.7ms\n",
            "image 970/1015 /content/drive/MyDrive/Safety-vest-Detection-8/test/images/youtube-157_jpg.rf.4881b64d0606dde96dfb76849cc78201.jpg: 640x640 2 0s, 4031.4ms\n",
            "image 971/1015 /content/drive/MyDrive/Safety-vest-Detection-8/test/images/youtube-15_jpg.rf.a198dd55d35cba538828e10fe542bd5e.jpg: 640x640 3 0s, 3 1s, 4010.3ms\n",
            "image 972/1015 /content/drive/MyDrive/Safety-vest-Detection-8/test/images/youtube-160_jpg.rf.5101e91f10a7a63130b4257e76d5b6a0.jpg: 640x640 2 0s, 5762.3ms\n",
            "image 973/1015 /content/drive/MyDrive/Safety-vest-Detection-8/test/images/youtube-160_jpg.rf.92e2f1fe00681e45665318f80bf69d04.jpg: 640x640 2 0s, 1 1, 4043.2ms\n",
            "image 974/1015 /content/drive/MyDrive/Safety-vest-Detection-8/test/images/youtube-163_jpg.rf.9bcf602ed5eb93b33f7c6eceefd6ef4d.jpg: 640x640 2 0s, 2 1s, 4014.8ms\n",
            "image 975/1015 /content/drive/MyDrive/Safety-vest-Detection-8/test/images/youtube-187_jpg.rf.a108a0625e05094da2bab76e2aa29867.jpg: 640x640 3 0s, 3 1s, 5642.3ms\n",
            "image 976/1015 /content/drive/MyDrive/Safety-vest-Detection-8/test/images/youtube-189_jpg.rf.53585dec3838eff9ede0dc1220adee5c.jpg: 640x640 4 0s, 3 1s, 4132.0ms\n",
            "image 977/1015 /content/drive/MyDrive/Safety-vest-Detection-8/test/images/youtube-18_jpg.rf.45855136945afae428877413e962d554.jpg: 640x640 1 0, 1 1, 3998.0ms\n",
            "image 978/1015 /content/drive/MyDrive/Safety-vest-Detection-8/test/images/youtube-18_jpg.rf.ad42925960e18430aff2489e09ed00d5.jpg: 640x640 2 0s, 2 1s, 5187.4ms\n",
            "image 979/1015 /content/drive/MyDrive/Safety-vest-Detection-8/test/images/youtube-196_jpg.rf.547e9e48a1f643296b549aff5c8c8e19.jpg: 640x640 1 0, 1 1, 4561.5ms\n",
            "image 980/1015 /content/drive/MyDrive/Safety-vest-Detection-8/test/images/youtube-200_jpg.rf.68cc2980b48b49bd7632e87293a22868.jpg: 640x640 1 0, 1 1, 4051.8ms\n",
            "image 981/1015 /content/drive/MyDrive/Safety-vest-Detection-8/test/images/youtube-205_jpg.rf.3b7ee0d79a7597f469f79b86ab273ddc.jpg: 640x640 2 0s, 2 1s, 4673.3ms\n",
            "image 982/1015 /content/drive/MyDrive/Safety-vest-Detection-8/test/images/youtube-23_jpg.rf.72e9fb1bf1d9a3c1fe6e1b7c60dec93f.jpg: 640x640 3 0s, 2 1s, 5066.1ms\n",
            "image 983/1015 /content/drive/MyDrive/Safety-vest-Detection-8/test/images/youtube-2_jpg.rf.7e0c8abd8b810abd883e7bc580ee5ec9.jpg: 640x640 2 0s, 2 1s, 3990.3ms\n",
            "image 984/1015 /content/drive/MyDrive/Safety-vest-Detection-8/test/images/youtube-30_jpg.rf.f1182717eb008e2064c19eeffd3525ac.jpg: 640x640 1 0, 1 1, 4050.1ms\n",
            "image 985/1015 /content/drive/MyDrive/Safety-vest-Detection-8/test/images/youtube-32_jpg.rf.52aff31d70f9aeb90bf8bdc2e29bbf58.jpg: 640x640 2 0s, 2 1s, 5614.5ms\n",
            "image 986/1015 /content/drive/MyDrive/Safety-vest-Detection-8/test/images/youtube-38_jpg.rf.f65236363bc8b19a950beddd7e16aebc.jpg: 640x640 1 0, 1 1, 3972.0ms\n",
            "image 987/1015 /content/drive/MyDrive/Safety-vest-Detection-8/test/images/youtube-3_jpg.rf.81503af23ea5cd56ef439c4f579c77be.jpg: 640x640 2 0s, 2 1s, 3998.2ms\n",
            "image 988/1015 /content/drive/MyDrive/Safety-vest-Detection-8/test/images/youtube-422_jpg.rf.7097d6e4efa9a4b88d5f60a06990ba60.jpg: 640x640 3 0s, 1 1, 5835.7ms\n",
            "image 989/1015 /content/drive/MyDrive/Safety-vest-Detection-8/test/images/youtube-42_jpg.rf.0ae2d0c07f08fa7925cae81ec5c645a6.jpg: 640x640 1 0, 3990.7ms\n",
            "image 990/1015 /content/drive/MyDrive/Safety-vest-Detection-8/test/images/youtube-42_jpg.rf.bc1e47e8fa153c81562b5976b1342794.jpg: 640x640 1 0, 4047.2ms\n",
            "image 991/1015 /content/drive/MyDrive/Safety-vest-Detection-8/test/images/youtube-444_jpg.rf.f766b15f5595ca9742ba39031161e0c4.jpg: 640x640 1 0, 1 1, 5223.2ms\n",
            "image 992/1015 /content/drive/MyDrive/Safety-vest-Detection-8/test/images/youtube-44_jpg.rf.b0e6af7a458ce13505bbe2ee463d5ba7.jpg: 640x640 1 0, 1 1, 4428.5ms\n",
            "image 993/1015 /content/drive/MyDrive/Safety-vest-Detection-8/test/images/youtube-451_jpg.rf.1ad6cc689824f7bd2ed2d360c2f8541e.jpg: 640x640 1 0, 1 1, 4017.1ms\n",
            "image 994/1015 /content/drive/MyDrive/Safety-vest-Detection-8/test/images/youtube-45_jpg.rf.482b3fa0e973c524080d6951f299e405.jpg: 640x640 2 0s, 1 1, 4716.8ms\n",
            "image 995/1015 /content/drive/MyDrive/Safety-vest-Detection-8/test/images/youtube-47_jpg.rf.e0b5c6bf7287d81adb290b72a7603626.jpg: 640x640 3 0s, 2 1s, 5007.8ms\n",
            "image 996/1015 /content/drive/MyDrive/Safety-vest-Detection-8/test/images/youtube-48_jpg.rf.28bd330a8c3b0a17219f2479aa248c1b.jpg: 640x640 1 0, 3978.6ms\n",
            "image 997/1015 /content/drive/MyDrive/Safety-vest-Detection-8/test/images/youtube-49_jpg.rf.8f67b42997baecce37bb340f0f604d7c.jpg: 640x640 2 0s, 4201.2ms\n",
            "image 998/1015 /content/drive/MyDrive/Safety-vest-Detection-8/test/images/youtube-503_jpg.rf.9b1526ba73ceec70ba8c6d2eb89ddf4c.jpg: 640x640 2 0s, 1 1, 5474.6ms\n",
            "image 999/1015 /content/drive/MyDrive/Safety-vest-Detection-8/test/images/youtube-527_jpg.rf.aef5da7c1cb6a83fbb7132aa1c63263c.jpg: 640x640 2 0s, 2 1s, 4031.2ms\n",
            "image 1000/1015 /content/drive/MyDrive/Safety-vest-Detection-8/test/images/youtube-52_jpg.rf.3f7b9e239a6919c96ed600bfbd6ccdfe.jpg: 640x640 2 0s, 1 1, 3921.7ms\n",
            "image 1001/1015 /content/drive/MyDrive/Safety-vest-Detection-8/test/images/youtube-55_jpg.rf.04724cca293440094035cd08d4c3f43f.jpg: 640x640 3 0s, 2 1s, 5782.4ms\n",
            "image 1002/1015 /content/drive/MyDrive/Safety-vest-Detection-8/test/images/youtube-58_jpg.rf.62657369ba254593fc4efd126307abe3.jpg: 640x640 1 0, 4013.3ms\n",
            "image 1003/1015 /content/drive/MyDrive/Safety-vest-Detection-8/test/images/youtube-59_jpg.rf.8210f7bfa514d0e20744c65b0f4a4e9e.jpg: 640x640 4 0s, 1 1, 3966.6ms\n",
            "image 1004/1015 /content/drive/MyDrive/Safety-vest-Detection-8/test/images/youtube-63_jpg.rf.d0280a1751e06834adea2d3901a9844d.jpg: 640x640 1 0, 5373.7ms\n",
            "image 1005/1015 /content/drive/MyDrive/Safety-vest-Detection-8/test/images/youtube-64_jpg.rf.85770bfe36aa4087f912951e063d9fc4.jpg: 640x640 2 0s, 4225.8ms\n",
            "image 1006/1015 /content/drive/MyDrive/Safety-vest-Detection-8/test/images/youtube-69_jpg.rf.08c3f95690ad6e5cb1d6274dcd1837bb.jpg: 640x640 1 0, 1 1, 3983.2ms\n",
            "image 1007/1015 /content/drive/MyDrive/Safety-vest-Detection-8/test/images/youtube-79_jpg.rf.77084535d31d0cf82e31769b112fae7c.jpg: 640x640 10 0s, 3 1s, 4834.6ms\n",
            "image 1008/1015 /content/drive/MyDrive/Safety-vest-Detection-8/test/images/youtube-7_jpg.rf.1d0ec70313db59f1c93c6d1c471eb5f8.jpg: 640x640 1 0, 1 1, 4826.1ms\n",
            "image 1009/1015 /content/drive/MyDrive/Safety-vest-Detection-8/test/images/youtube-7_jpg.rf.868e213371e6d194dc39be1c1c815285.jpg: 640x640 2 0s, 2 1s, 3990.2ms\n",
            "image 1010/1015 /content/drive/MyDrive/Safety-vest-Detection-8/test/images/youtube-83_jpg.rf.5828d57d0be135f1455ccf0b9e848d8c.jpg: 640x640 2 0s, 2 1s, 4304.8ms\n",
            "image 1011/1015 /content/drive/MyDrive/Safety-vest-Detection-8/test/images/youtube-90_jpg.rf.e2013e835b5ca304d26d342e697aa736.jpg: 640x640 2 0s, 2 1s, 5357.7ms\n",
            "image 1012/1015 /content/drive/MyDrive/Safety-vest-Detection-8/test/images/youtube-93_jpg.rf.9892ea3e28800de64aba5a30b77cc65a.jpg: 640x640 1 0, 1 1, 3981.8ms\n",
            "image 1013/1015 /content/drive/MyDrive/Safety-vest-Detection-8/test/images/youtube-94_jpg.rf.a5bbb2b313d26c678ed8de331b350cf7.jpg: 640x640 1 0, 1 1, 3981.0ms\n",
            "image 1014/1015 /content/drive/MyDrive/Safety-vest-Detection-8/test/images/youtube-97_jpg.rf.3a3be22e9d92f21cc8f0f1012be684bb.jpg: 640x640 1 0, 1 1, 5678.6ms\n",
            "image 1015/1015 /content/drive/MyDrive/Safety-vest-Detection-8/test/images/youtube-97_jpg.rf.7871d3e92005c521901b99b763d7b3c9.jpg: 640x640 2 0s, 2 1s, 3965.8ms\n",
            "Speed: 2.8ms preprocess, 4747.3ms inference, 1.6ms postprocess per image at shape (1, 3, 640, 640)\n",
            "Results saved to \u001b[1mruns/detect/predict\u001b[0m\n",
            "💡 Learn more at https://docs.ultralytics.com/modes/predict\n"
          ]
        }
      ],
      "source": [
        "!yolo task=detect mode=predict model=\"/content/drive/MyDrive/Dataset/checkpointv8x_81/weights/best.pt\" source=\"/content/drive/MyDrive/Safety-vest-Detection-8/test/images\""
      ]
    },
    {
      "cell_type": "markdown",
      "metadata": {
        "id": "yu14DqXkaSFN"
      },
      "source": [
        "Plot result trên các ảnh được cung cấp"
      ]
    },
    {
      "cell_type": "code",
      "execution_count": null,
      "metadata": {
        "colab": {
          "base_uri": "https://localhost:8080/",
          "height": 384
        },
        "id": "LPlrcsnyNwU6",
        "outputId": "f067da34-f14c-42f3-9a9a-d8766d78b367"
      },
      "outputs": [
        {
          "output_type": "error",
          "ename": "ModuleNotFoundError",
          "evalue": "No module named 'ultralytics'",
          "traceback": [
            "\u001b[0;31m---------------------------------------------------------------------------\u001b[0m",
            "\u001b[0;31mModuleNotFoundError\u001b[0m                       Traceback (most recent call last)",
            "\u001b[0;32m<ipython-input-3-4a534049587b>\u001b[0m in \u001b[0;36m<cell line: 2>\u001b[0;34m()\u001b[0m\n\u001b[1;32m      1\u001b[0m \u001b[0;32mfrom\u001b[0m \u001b[0mPIL\u001b[0m \u001b[0;32mimport\u001b[0m \u001b[0mImage\u001b[0m\u001b[0;34m\u001b[0m\u001b[0;34m\u001b[0m\u001b[0m\n\u001b[0;32m----> 2\u001b[0;31m \u001b[0;32mfrom\u001b[0m \u001b[0multralytics\u001b[0m \u001b[0;32mimport\u001b[0m \u001b[0mYOLO\u001b[0m\u001b[0;34m\u001b[0m\u001b[0;34m\u001b[0m\u001b[0m\n\u001b[0m\u001b[1;32m      3\u001b[0m \u001b[0;34m\u001b[0m\u001b[0m\n\u001b[1;32m      4\u001b[0m \u001b[0;31m# Load a pretrained YOLOv8n model\u001b[0m\u001b[0;34m\u001b[0m\u001b[0;34m\u001b[0m\u001b[0m\n\u001b[1;32m      5\u001b[0m \u001b[0mmodel\u001b[0m \u001b[0;34m=\u001b[0m \u001b[0mYOLO\u001b[0m\u001b[0;34m(\u001b[0m\u001b[0;34m'/content/drive/MyDrive/Dataset/checkpointv8x_81/weights/best.pt'\u001b[0m\u001b[0;34m)\u001b[0m\u001b[0;34m\u001b[0m\u001b[0;34m\u001b[0m\u001b[0m\n",
            "\u001b[0;31mModuleNotFoundError\u001b[0m: No module named 'ultralytics'",
            "",
            "\u001b[0;31m---------------------------------------------------------------------------\u001b[0;32m\nNOTE: If your import is failing due to a missing package, you can\nmanually install dependencies using either !pip or !apt.\n\nTo view examples of installing some common dependencies, click the\n\"Open Examples\" button below.\n\u001b[0;31m---------------------------------------------------------------------------\u001b[0m\n"
          ],
          "errorDetails": {
            "actions": [
              {
                "action": "open_url",
                "actionText": "Open Examples",
                "url": "/notebooks/snippets/importing_libraries.ipynb"
              }
            ]
          }
        }
      ],
      "source": [
        "from PIL import Image\n",
        "from ultralytics import YOLO\n",
        "\n",
        "# Load a pretrained YOLOv8n model\n",
        "model = YOLO('/content/drive/MyDrive/Dataset/checkpointv8x_81/weights/best.pt')\n",
        "\n",
        "# Run inference on 'bus.jpg'\n",
        "results = model('/content/drive/MyDrive/Dataset/youtube-58.jpg')  # results list\n",
        "\n",
        "# Show the results\n",
        "for r in results:\n",
        "    im_array = r.plot()  # plot a BGR numpy array of predictions\n",
        "    im = Image.fromarray(im_array[..., ::-1])  # RGB PIL image\n",
        "    im.show()  # show image\n",
        "    im.save('/content/drive/MyDrive/Dataset/youtube-58.jpg')  # save image\n",
        "\n"
      ]
    }
  ],
  "metadata": {
    "colab": {
      "provenance": [],
      "include_colab_link": true
    },
    "kernelspec": {
      "display_name": "Python 3",
      "name": "python3"
    },
    "language_info": {
      "name": "python"
    }
  },
  "nbformat": 4,
  "nbformat_minor": 0
}